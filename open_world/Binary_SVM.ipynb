{
  "cells": [
    {
      "cell_type": "code",
      "execution_count": null,
      "metadata": {
        "colab": {
          "base_uri": "https://localhost:8080/"
        },
        "id": "Ihr4-CpW6BWD",
        "outputId": "29fc8263-2a1f-4936-88ad-27624e3e2a37"
      },
      "outputs": [
        {
          "output_type": "stream",
          "name": "stdout",
          "text": [
            "Drive already mounted at /content/drive; to attempt to forcibly remount, call drive.mount(\"/content/drive\", force_remount=True).\n"
          ]
        }
      ],
      "source": [
        "from google.colab import drive\n",
        "drive.mount('/content/drive')\n",
        "\n",
        "import pandas as pd\n",
        "\n",
        "mon_features = pd.read_csv('/content/drive/MyDrive/Machine_Learning/mon_features_modified.csv')\n",
        "mon_labels = pd.read_csv('/content/drive/MyDrive/Machine_Learning/mon_labels.csv')\n",
        "\n",
        "unmon_features = pd.read_csv('/content/drive/MyDrive/Machine_Learning/unmon_features_modified.csv')\n",
        "unmon_labels = pd.read_csv('/content/drive/MyDrive/Machine_Learning/unmon_labels.csv')"
      ]
    },
    {
      "cell_type": "code",
      "execution_count": null,
      "metadata": {
        "colab": {
          "base_uri": "https://localhost:8080/"
        },
        "id": "BQL19I5F7NzI",
        "outputId": "efbb1862-8970-4b75-cc89-001e2d696c6a"
      },
      "outputs": [
        {
          "output_type": "stream",
          "name": "stdout",
          "text": [
            "   num_total_packets  sum_packets  num_incoming_packets  \\\n",
            "0               1421       727552                  1300   \n",
            "1                518       265216                   438   \n",
            "2               1358       695296                  1240   \n",
            "3               1446       740352                  1324   \n",
            "4               1406       719872                  1291   \n",
            "\n",
            "   frac_incoming_packets  num_outgoing_packets  frac_outgoing_packets  \\\n",
            "0               0.914849                   121               0.085151   \n",
            "1               0.845560                    80               0.154440   \n",
            "2               0.913108                   118               0.086892   \n",
            "3               0.915629                   122               0.084371   \n",
            "4               0.918208                   115               0.081792   \n",
            "\n",
            "   average_outgoing_ordering  std_dev_outgoing_ordering  \\\n",
            "0                 773.322314                 515.483953   \n",
            "1                 226.162500                 139.231951   \n",
            "2                 786.110169                 472.735508   \n",
            "3                 820.139344                 513.916038   \n",
            "4                 789.608696                 503.993490   \n",
            "\n",
            "   average_incoming_ordering  std_dev_incoming_ordering  ...  \\\n",
            "0                 704.106154                 398.486335  ...   \n",
            "1                 264.406393                 150.591146  ...   \n",
            "2                 668.259677                 381.878642  ...   \n",
            "3                 713.503021                 406.205288  ...   \n",
            "4                 694.740511                 395.028889  ...   \n",
            "\n",
            "   incoming_packets_first30  outgoing_packets_first30  transmission_time_Q1  \\\n",
            "0                        21                         9                  3.88   \n",
            "1                        22                         8                  3.69   \n",
            "2                        23                         7                  5.06   \n",
            "3                        21                         9                  5.32   \n",
            "4                        22                         8                  4.18   \n",
            "\n",
            "   transmission_time_Q2  transmission_time_Q3  transmission_time_Q4  \\\n",
            "0                  4.09                  4.69                 10.14   \n",
            "1                  4.80                  5.28                 10.16   \n",
            "2                  5.15                  5.79                 11.11   \n",
            "3                  5.57                  6.40                 13.36   \n",
            "4                  4.31                  5.14                 10.64   \n",
            "\n",
            "   num_packets_per_second  mean_packets_per_second  std_packets_per_second  \\\n",
            "0              140.138067                 4.315749                1.128739   \n",
            "1               50.984252                 4.611815                1.371935   \n",
            "2              122.232223                 5.488969                1.179699   \n",
            "3              108.233533                 5.995512                1.709479   \n",
            "4              132.142857                 4.698869                1.297546   \n",
            "\n",
            "   med_packets_per_second  \n",
            "0                    4.09  \n",
            "1                    4.80  \n",
            "2                    5.15  \n",
            "3                    5.57  \n",
            "4                    4.31  \n",
            "\n",
            "[5 rows x 22 columns]\n",
            "   num_total_packets  sum_packets  num_incoming_packets  \\\n",
            "0                130        66560                   101   \n",
            "1               9927      5082624                  9189   \n",
            "2                359       183808                   285   \n",
            "3               9948      5093376                  9407   \n",
            "4               2508      1284096                  2215   \n",
            "\n",
            "   frac_incoming_packets  num_outgoing_packets  frac_outgoing_packets  \\\n",
            "0               0.776923                    29               0.223077   \n",
            "1               0.925657                   738               0.074343   \n",
            "2               0.793872                    74               0.206128   \n",
            "3               0.945617                   541               0.054383   \n",
            "4               0.883174                   293               0.116826   \n",
            "\n",
            "   average_outgoing_ordering  std_dev_outgoing_ordering  \\\n",
            "0                  36.758621                  27.053784   \n",
            "1                3845.246612                2885.461055   \n",
            "2                 155.905405                 111.145044   \n",
            "3                4667.994455                3120.454082   \n",
            "4                1227.269625                 778.715376   \n",
            "\n",
            "   average_incoming_ordering  std_dev_incoming_ordering  ...  \\\n",
            "0                  72.465347                  36.304696  ...   \n",
            "1                5052.770595                2845.096286  ...   \n",
            "2                 184.996491                 100.730751  ...   \n",
            "3                4991.069735                2855.784563  ...   \n",
            "4                1256.969752                 716.374241  ...   \n",
            "\n",
            "   incoming_packets_first30  outgoing_packets_first30  transmission_time_Q1  \\\n",
            "0                        17                        13                 2.920   \n",
            "1                        18                        12                 9.590   \n",
            "2                        17                        13                 7.525   \n",
            "3                        21                         9                 6.840   \n",
            "4                        27                         3                 7.400   \n",
            "\n",
            "   transmission_time_Q2  transmission_time_Q3  transmission_time_Q4  \\\n",
            "0                  4.18                  4.84                  5.56   \n",
            "1                 10.23                 11.02                 11.88   \n",
            "2                  8.68                 12.30                 17.81   \n",
            "3                  7.64                  8.52                  9.17   \n",
            "4                  8.08                 13.09                 53.59   \n",
            "\n",
            "   num_packets_per_second  mean_packets_per_second  std_packets_per_second  \\\n",
            "0               23.381295                 3.799462                1.309629   \n",
            "1              835.606061                 9.884457                1.613041   \n",
            "2               20.157215                 9.328440                3.082876   \n",
            "3             1084.841876                 7.584566                1.036050   \n",
            "4               46.799776                10.352085                5.565770   \n",
            "\n",
            "   med_packets_per_second  \n",
            "0                    4.18  \n",
            "1                   10.23  \n",
            "2                    8.68  \n",
            "3                    7.64  \n",
            "4                    8.08  \n",
            "\n",
            "[5 rows x 22 columns]\n"
          ]
        }
      ],
      "source": [
        "#check the shape of mon_features\n",
        "print(mon_features.head())\n",
        "\n",
        "#check the shape of unmon_features\n",
        "print(unmon_features.head())"
      ]
    },
    {
      "cell_type": "code",
      "execution_count": null,
      "metadata": {
        "colab": {
          "base_uri": "https://localhost:8080/"
        },
        "id": "CsCRYrJy7OgC",
        "outputId": "4a370f88-7a7e-4d1a-dbdf-cb6c486004e2"
      },
      "outputs": [
        {
          "output_type": "stream",
          "name": "stdout",
          "text": [
            "   label\n",
            "0      0\n",
            "1      0\n",
            "2      0\n",
            "3      0\n",
            "4      0\n",
            "   label\n",
            "0     -1\n",
            "1     -1\n",
            "2     -1\n",
            "3     -1\n",
            "4     -1\n"
          ]
        }
      ],
      "source": [
        "#check the shape of mon_labels\n",
        "print(mon_labels.head())\n",
        "\n",
        "#check the shape of unmon_labels\n",
        "print(unmon_labels.head())"
      ]
    },
    {
      "cell_type": "code",
      "execution_count": null,
      "metadata": {
        "colab": {
          "base_uri": "https://localhost:8080/"
        },
        "id": "s-ZHeUmc7TK4",
        "outputId": "4d2c4fd9-2927-4a30-889f-60b2c4feba48"
      },
      "outputs": [
        {
          "output_type": "stream",
          "name": "stdout",
          "text": [
            "   num_total_packets  sum_packets  num_incoming_packets  \\\n",
            "0               1421       727552                  1300   \n",
            "1                518       265216                   438   \n",
            "2               1358       695296                  1240   \n",
            "3               1446       740352                  1324   \n",
            "4               1406       719872                  1291   \n",
            "\n",
            "   frac_incoming_packets  num_outgoing_packets  frac_outgoing_packets  \\\n",
            "0               0.914849                   121               0.085151   \n",
            "1               0.845560                    80               0.154440   \n",
            "2               0.913108                   118               0.086892   \n",
            "3               0.915629                   122               0.084371   \n",
            "4               0.918208                   115               0.081792   \n",
            "\n",
            "   average_outgoing_ordering  std_dev_outgoing_ordering  \\\n",
            "0                 773.322314                 515.483953   \n",
            "1                 226.162500                 139.231951   \n",
            "2                 786.110169                 472.735508   \n",
            "3                 820.139344                 513.916038   \n",
            "4                 789.608696                 503.993490   \n",
            "\n",
            "   average_incoming_ordering  std_dev_incoming_ordering  ...  \\\n",
            "0                 704.106154                 398.486335  ...   \n",
            "1                 264.406393                 150.591146  ...   \n",
            "2                 668.259677                 381.878642  ...   \n",
            "3                 713.503021                 406.205288  ...   \n",
            "4                 694.740511                 395.028889  ...   \n",
            "\n",
            "   incoming_packets_first30  outgoing_packets_first30  transmission_time_Q1  \\\n",
            "0                        21                         9                  3.88   \n",
            "1                        22                         8                  3.69   \n",
            "2                        23                         7                  5.06   \n",
            "3                        21                         9                  5.32   \n",
            "4                        22                         8                  4.18   \n",
            "\n",
            "   transmission_time_Q2  transmission_time_Q3  transmission_time_Q4  \\\n",
            "0                  4.09                  4.69                 10.14   \n",
            "1                  4.80                  5.28                 10.16   \n",
            "2                  5.15                  5.79                 11.11   \n",
            "3                  5.57                  6.40                 13.36   \n",
            "4                  4.31                  5.14                 10.64   \n",
            "\n",
            "   num_packets_per_second  mean_packets_per_second  std_packets_per_second  \\\n",
            "0              140.138067                 4.315749                1.128739   \n",
            "1               50.984252                 4.611815                1.371935   \n",
            "2              122.232223                 5.488969                1.179699   \n",
            "3              108.233533                 5.995512                1.709479   \n",
            "4              132.142857                 4.698869                1.297546   \n",
            "\n",
            "   med_packets_per_second  \n",
            "0                    4.09  \n",
            "1                    4.80  \n",
            "2                    5.15  \n",
            "3                    5.57  \n",
            "4                    4.31  \n",
            "\n",
            "[5 rows x 22 columns]\n"
          ]
        }
      ],
      "source": [
        "# Feature settings (written for open world-like code, no need to use concat)\n",
        "features_combined = pd.concat([mon_features, unmon_features], axis=0, ignore_index=True)\n",
        "print(features_combined.head())"
      ]
    },
    {
      "cell_type": "code",
      "execution_count": null,
      "metadata": {
        "id": "AJs4QToU7VSv"
      },
      "outputs": [],
      "source": [
        "# Define scaler functions for data normalization\n",
        "from sklearn.preprocessing import StandardScaler\n",
        "def scaler_samples(train_X,test_X):\n",
        "  scaler = StandardScaler()\n",
        "  train_X = scaler.fit_transform(train_X)\n",
        "  test_X = scaler.transform(test_X)\n",
        "\n",
        "  return train_X, test_X"
      ]
    },
    {
      "cell_type": "code",
      "execution_count": null,
      "metadata": {
        "id": "80rI7ChI7Xnv"
      },
      "outputs": [],
      "source": [
        "import numpy as np\n",
        "mon_labels = np.ones(len(mon_features))  # Assigning 1 to monitored data\n",
        "unmon_labels = -np.ones(len(unmon_features))  # Assigning -1 to unmonitored data\n",
        "labels_combined = np.concatenate([mon_labels, unmon_labels])  # Combining labels"
      ]
    },
    {
      "cell_type": "code",
      "execution_count": null,
      "metadata": {
        "id": "MhtnZuO87ZMV"
      },
      "outputs": [],
      "source": [
        "# Data Split: Separating into training and test datasets\n",
        "from sklearn import datasets\n",
        "from sklearn.model_selection import train_test_split\n",
        "\n",
        "X_train, X_test, y_train, y_test = train_test_split(\n",
        "    features_combined, labels_combined, test_size=0.2, random_state=50\n",
        ")"
      ]
    },
    {
      "cell_type": "code",
      "execution_count": null,
      "metadata": {
        "id": "F6-kaCdT7bD0"
      },
      "outputs": [],
      "source": [
        "# Data Normalization\n",
        "from sklearn.preprocessing import StandardScaler\n",
        "X_train_scaled, X_test_scaled = scaler_samples(X_train, X_test)"
      ]
    },
    {
      "cell_type": "code",
      "execution_count": null,
      "metadata": {
        "id": "QnlJFL0K7eKi"
      },
      "outputs": [],
      "source": [
        "from sklearn.svm import SVC\n",
        "from sklearn.metrics import accuracy_score, confusion_matrix\n",
        "from sklearn.preprocessing import StandardScaler"
      ]
    },
    {
      "cell_type": "code",
      "execution_count": null,
      "metadata": {
        "colab": {
          "base_uri": "https://localhost:8080/",
          "height": 74
        },
        "id": "XUlNTIKG7gky",
        "outputId": "de835949-0e13-4c08-c293-33cbbc041405"
      },
      "outputs": [
        {
          "output_type": "execute_result",
          "data": {
            "text/plain": [
              "SVC()"
            ],
            "text/html": [
              "<style>#sk-container-id-6 {color: black;background-color: white;}#sk-container-id-6 pre{padding: 0;}#sk-container-id-6 div.sk-toggleable {background-color: white;}#sk-container-id-6 label.sk-toggleable__label {cursor: pointer;display: block;width: 100%;margin-bottom: 0;padding: 0.3em;box-sizing: border-box;text-align: center;}#sk-container-id-6 label.sk-toggleable__label-arrow:before {content: \"▸\";float: left;margin-right: 0.25em;color: #696969;}#sk-container-id-6 label.sk-toggleable__label-arrow:hover:before {color: black;}#sk-container-id-6 div.sk-estimator:hover label.sk-toggleable__label-arrow:before {color: black;}#sk-container-id-6 div.sk-toggleable__content {max-height: 0;max-width: 0;overflow: hidden;text-align: left;background-color: #f0f8ff;}#sk-container-id-6 div.sk-toggleable__content pre {margin: 0.2em;color: black;border-radius: 0.25em;background-color: #f0f8ff;}#sk-container-id-6 input.sk-toggleable__control:checked~div.sk-toggleable__content {max-height: 200px;max-width: 100%;overflow: auto;}#sk-container-id-6 input.sk-toggleable__control:checked~label.sk-toggleable__label-arrow:before {content: \"▾\";}#sk-container-id-6 div.sk-estimator input.sk-toggleable__control:checked~label.sk-toggleable__label {background-color: #d4ebff;}#sk-container-id-6 div.sk-label input.sk-toggleable__control:checked~label.sk-toggleable__label {background-color: #d4ebff;}#sk-container-id-6 input.sk-hidden--visually {border: 0;clip: rect(1px 1px 1px 1px);clip: rect(1px, 1px, 1px, 1px);height: 1px;margin: -1px;overflow: hidden;padding: 0;position: absolute;width: 1px;}#sk-container-id-6 div.sk-estimator {font-family: monospace;background-color: #f0f8ff;border: 1px dotted black;border-radius: 0.25em;box-sizing: border-box;margin-bottom: 0.5em;}#sk-container-id-6 div.sk-estimator:hover {background-color: #d4ebff;}#sk-container-id-6 div.sk-parallel-item::after {content: \"\";width: 100%;border-bottom: 1px solid gray;flex-grow: 1;}#sk-container-id-6 div.sk-label:hover label.sk-toggleable__label {background-color: #d4ebff;}#sk-container-id-6 div.sk-serial::before {content: \"\";position: absolute;border-left: 1px solid gray;box-sizing: border-box;top: 0;bottom: 0;left: 50%;z-index: 0;}#sk-container-id-6 div.sk-serial {display: flex;flex-direction: column;align-items: center;background-color: white;padding-right: 0.2em;padding-left: 0.2em;position: relative;}#sk-container-id-6 div.sk-item {position: relative;z-index: 1;}#sk-container-id-6 div.sk-parallel {display: flex;align-items: stretch;justify-content: center;background-color: white;position: relative;}#sk-container-id-6 div.sk-item::before, #sk-container-id-6 div.sk-parallel-item::before {content: \"\";position: absolute;border-left: 1px solid gray;box-sizing: border-box;top: 0;bottom: 0;left: 50%;z-index: -1;}#sk-container-id-6 div.sk-parallel-item {display: flex;flex-direction: column;z-index: 1;position: relative;background-color: white;}#sk-container-id-6 div.sk-parallel-item:first-child::after {align-self: flex-end;width: 50%;}#sk-container-id-6 div.sk-parallel-item:last-child::after {align-self: flex-start;width: 50%;}#sk-container-id-6 div.sk-parallel-item:only-child::after {width: 0;}#sk-container-id-6 div.sk-dashed-wrapped {border: 1px dashed gray;margin: 0 0.4em 0.5em 0.4em;box-sizing: border-box;padding-bottom: 0.4em;background-color: white;}#sk-container-id-6 div.sk-label label {font-family: monospace;font-weight: bold;display: inline-block;line-height: 1.2em;}#sk-container-id-6 div.sk-label-container {text-align: center;}#sk-container-id-6 div.sk-container {/* jupyter's `normalize.less` sets `[hidden] { display: none; }` but bootstrap.min.css set `[hidden] { display: none !important; }` so we also need the `!important` here to be able to override the default hidden behavior on the sphinx rendered scikit-learn.org. See: https://github.com/scikit-learn/scikit-learn/issues/21755 */display: inline-block !important;position: relative;}#sk-container-id-6 div.sk-text-repr-fallback {display: none;}</style><div id=\"sk-container-id-6\" class=\"sk-top-container\"><div class=\"sk-text-repr-fallback\"><pre>SVC()</pre><b>In a Jupyter environment, please rerun this cell to show the HTML representation or trust the notebook. <br />On GitHub, the HTML representation is unable to render, please try loading this page with nbviewer.org.</b></div><div class=\"sk-container\" hidden><div class=\"sk-item\"><div class=\"sk-estimator sk-toggleable\"><input class=\"sk-toggleable__control sk-hidden--visually\" id=\"sk-estimator-id-14\" type=\"checkbox\" checked><label for=\"sk-estimator-id-14\" class=\"sk-toggleable__label sk-toggleable__label-arrow\">SVC</label><div class=\"sk-toggleable__content\"><pre>SVC()</pre></div></div></div></div></div>"
            ]
          },
          "metadata": {},
          "execution_count": 54
        }
      ],
      "source": [
        "# Training the SVM model\n",
        "svm_model = SVC(kernel='rbf')\n",
        "svm_model.fit(X_train_scaled, y_train)"
      ]
    },
    {
      "cell_type": "code",
      "execution_count": null,
      "metadata": {
        "id": "l3XhU4SE7mU8"
      },
      "outputs": [],
      "source": [
        "# Predicting with the trained model on test data\n",
        "y_pred = svm_model.predict(X_test_scaled)"
      ]
    },
    {
      "cell_type": "code",
      "execution_count": null,
      "metadata": {
        "colab": {
          "base_uri": "https://localhost:8080/"
        },
        "id": "XEZsnfK77rUM",
        "outputId": "ddc60603-d5d7-4358-ee64-1f7df492147c"
      },
      "outputs": [
        {
          "output_type": "stream",
          "name": "stdout",
          "text": [
            "Accuracy: 0.7936206896551724\n",
            "Confusion Matrix\n",
            " [[1096  895]\n",
            " [ 302 3507]]\n"
          ]
        }
      ],
      "source": [
        "# Evaluation: Printing accuracy and confusion matrix\n",
        "acc = accuracy_score(y_test, y_pred)\n",
        "print(f\"Accuracy: {acc}\")\n",
        "\n",
        "conf_matrix = confusion_matrix(y_test, y_pred)\n",
        "print(f\"Confusion Matrix\\n {conf_matrix}\")"
      ]
    },
    {
      "cell_type": "markdown",
      "metadata": {
        "id": "6j8XXKhi7vYh"
      },
      "source": [
        "### Hyperparameter Tuning with GridSearchCV"
      ]
    },
    {
      "cell_type": "code",
      "execution_count": null,
      "metadata": {
        "id": "Ow1z51HD7whZ"
      },
      "outputs": [],
      "source": [
        "from sklearn.model_selection import GridSearchCV\n",
        "\n",
        "svm_model = SVC()\n",
        "\n",
        "# Setting up the hyperparameter grid for search\n",
        "param_grid = {\n",
        "    'C': [100, 1000],\n",
        "    'gamma': [0.1],\n",
        "    'kernel': ['rbf']\n",
        "}"
      ]
    },
    {
      "cell_type": "code",
      "execution_count": null,
      "metadata": {
        "colab": {
          "base_uri": "https://localhost:8080/",
          "height": 244
        },
        "id": "wZ-no77W7y0n",
        "outputId": "c2f535e0-504a-4f72-8e6c-fdbfe336dbf4"
      },
      "outputs": [
        {
          "output_type": "stream",
          "name": "stdout",
          "text": [
            "Fitting 3 folds for each of 2 candidates, totalling 6 fits\n",
            "[CV] END .......................C=100, gamma=0.1, kernel=rbf; total time=  35.4s\n",
            "[CV] END .......................C=100, gamma=0.1, kernel=rbf; total time=  32.8s\n",
            "[CV] END .......................C=100, gamma=0.1, kernel=rbf; total time=  32.2s\n",
            "[CV] END ......................C=1000, gamma=0.1, kernel=rbf; total time= 2.5min\n",
            "[CV] END ......................C=1000, gamma=0.1, kernel=rbf; total time= 2.5min\n",
            "[CV] END ......................C=1000, gamma=0.1, kernel=rbf; total time= 2.4min\n"
          ]
        },
        {
          "output_type": "execute_result",
          "data": {
            "text/plain": [
              "GridSearchCV(cv=3, estimator=SVC(),\n",
              "             param_grid={'C': [100, 1000], 'gamma': [0.1], 'kernel': ['rbf']},\n",
              "             scoring='accuracy', verbose=2)"
            ],
            "text/html": [
              "<style>#sk-container-id-11 {color: black;background-color: white;}#sk-container-id-11 pre{padding: 0;}#sk-container-id-11 div.sk-toggleable {background-color: white;}#sk-container-id-11 label.sk-toggleable__label {cursor: pointer;display: block;width: 100%;margin-bottom: 0;padding: 0.3em;box-sizing: border-box;text-align: center;}#sk-container-id-11 label.sk-toggleable__label-arrow:before {content: \"▸\";float: left;margin-right: 0.25em;color: #696969;}#sk-container-id-11 label.sk-toggleable__label-arrow:hover:before {color: black;}#sk-container-id-11 div.sk-estimator:hover label.sk-toggleable__label-arrow:before {color: black;}#sk-container-id-11 div.sk-toggleable__content {max-height: 0;max-width: 0;overflow: hidden;text-align: left;background-color: #f0f8ff;}#sk-container-id-11 div.sk-toggleable__content pre {margin: 0.2em;color: black;border-radius: 0.25em;background-color: #f0f8ff;}#sk-container-id-11 input.sk-toggleable__control:checked~div.sk-toggleable__content {max-height: 200px;max-width: 100%;overflow: auto;}#sk-container-id-11 input.sk-toggleable__control:checked~label.sk-toggleable__label-arrow:before {content: \"▾\";}#sk-container-id-11 div.sk-estimator input.sk-toggleable__control:checked~label.sk-toggleable__label {background-color: #d4ebff;}#sk-container-id-11 div.sk-label input.sk-toggleable__control:checked~label.sk-toggleable__label {background-color: #d4ebff;}#sk-container-id-11 input.sk-hidden--visually {border: 0;clip: rect(1px 1px 1px 1px);clip: rect(1px, 1px, 1px, 1px);height: 1px;margin: -1px;overflow: hidden;padding: 0;position: absolute;width: 1px;}#sk-container-id-11 div.sk-estimator {font-family: monospace;background-color: #f0f8ff;border: 1px dotted black;border-radius: 0.25em;box-sizing: border-box;margin-bottom: 0.5em;}#sk-container-id-11 div.sk-estimator:hover {background-color: #d4ebff;}#sk-container-id-11 div.sk-parallel-item::after {content: \"\";width: 100%;border-bottom: 1px solid gray;flex-grow: 1;}#sk-container-id-11 div.sk-label:hover label.sk-toggleable__label {background-color: #d4ebff;}#sk-container-id-11 div.sk-serial::before {content: \"\";position: absolute;border-left: 1px solid gray;box-sizing: border-box;top: 0;bottom: 0;left: 50%;z-index: 0;}#sk-container-id-11 div.sk-serial {display: flex;flex-direction: column;align-items: center;background-color: white;padding-right: 0.2em;padding-left: 0.2em;position: relative;}#sk-container-id-11 div.sk-item {position: relative;z-index: 1;}#sk-container-id-11 div.sk-parallel {display: flex;align-items: stretch;justify-content: center;background-color: white;position: relative;}#sk-container-id-11 div.sk-item::before, #sk-container-id-11 div.sk-parallel-item::before {content: \"\";position: absolute;border-left: 1px solid gray;box-sizing: border-box;top: 0;bottom: 0;left: 50%;z-index: -1;}#sk-container-id-11 div.sk-parallel-item {display: flex;flex-direction: column;z-index: 1;position: relative;background-color: white;}#sk-container-id-11 div.sk-parallel-item:first-child::after {align-self: flex-end;width: 50%;}#sk-container-id-11 div.sk-parallel-item:last-child::after {align-self: flex-start;width: 50%;}#sk-container-id-11 div.sk-parallel-item:only-child::after {width: 0;}#sk-container-id-11 div.sk-dashed-wrapped {border: 1px dashed gray;margin: 0 0.4em 0.5em 0.4em;box-sizing: border-box;padding-bottom: 0.4em;background-color: white;}#sk-container-id-11 div.sk-label label {font-family: monospace;font-weight: bold;display: inline-block;line-height: 1.2em;}#sk-container-id-11 div.sk-label-container {text-align: center;}#sk-container-id-11 div.sk-container {/* jupyter's `normalize.less` sets `[hidden] { display: none; }` but bootstrap.min.css set `[hidden] { display: none !important; }` so we also need the `!important` here to be able to override the default hidden behavior on the sphinx rendered scikit-learn.org. See: https://github.com/scikit-learn/scikit-learn/issues/21755 */display: inline-block !important;position: relative;}#sk-container-id-11 div.sk-text-repr-fallback {display: none;}</style><div id=\"sk-container-id-11\" class=\"sk-top-container\"><div class=\"sk-text-repr-fallback\"><pre>GridSearchCV(cv=3, estimator=SVC(),\n",
              "             param_grid={&#x27;C&#x27;: [100, 1000], &#x27;gamma&#x27;: [0.1], &#x27;kernel&#x27;: [&#x27;rbf&#x27;]},\n",
              "             scoring=&#x27;accuracy&#x27;, verbose=2)</pre><b>In a Jupyter environment, please rerun this cell to show the HTML representation or trust the notebook. <br />On GitHub, the HTML representation is unable to render, please try loading this page with nbviewer.org.</b></div><div class=\"sk-container\" hidden><div class=\"sk-item sk-dashed-wrapped\"><div class=\"sk-label-container\"><div class=\"sk-label sk-toggleable\"><input class=\"sk-toggleable__control sk-hidden--visually\" id=\"sk-estimator-id-27\" type=\"checkbox\" ><label for=\"sk-estimator-id-27\" class=\"sk-toggleable__label sk-toggleable__label-arrow\">GridSearchCV</label><div class=\"sk-toggleable__content\"><pre>GridSearchCV(cv=3, estimator=SVC(),\n",
              "             param_grid={&#x27;C&#x27;: [100, 1000], &#x27;gamma&#x27;: [0.1], &#x27;kernel&#x27;: [&#x27;rbf&#x27;]},\n",
              "             scoring=&#x27;accuracy&#x27;, verbose=2)</pre></div></div></div><div class=\"sk-parallel\"><div class=\"sk-parallel-item\"><div class=\"sk-item\"><div class=\"sk-label-container\"><div class=\"sk-label sk-toggleable\"><input class=\"sk-toggleable__control sk-hidden--visually\" id=\"sk-estimator-id-28\" type=\"checkbox\" ><label for=\"sk-estimator-id-28\" class=\"sk-toggleable__label sk-toggleable__label-arrow\">estimator: SVC</label><div class=\"sk-toggleable__content\"><pre>SVC()</pre></div></div></div><div class=\"sk-serial\"><div class=\"sk-item\"><div class=\"sk-estimator sk-toggleable\"><input class=\"sk-toggleable__control sk-hidden--visually\" id=\"sk-estimator-id-29\" type=\"checkbox\" ><label for=\"sk-estimator-id-29\" class=\"sk-toggleable__label sk-toggleable__label-arrow\">SVC</label><div class=\"sk-toggleable__content\"><pre>SVC()</pre></div></div></div></div></div></div></div></div></div></div>"
            ]
          },
          "metadata": {},
          "execution_count": 89
        }
      ],
      "source": [
        "# Setting up GridSearchCV\n",
        "grid_search = GridSearchCV(svm_model, param_grid, cv=3, scoring='accuracy', verbose=2)\n",
        "\n",
        "# Executing the grid search\n",
        "grid_search.fit(X_train_scaled, y_train)"
      ]
    },
    {
      "cell_type": "code",
      "execution_count": null,
      "metadata": {
        "colab": {
          "base_uri": "https://localhost:8080/"
        },
        "id": "-TnHSfotAsP7",
        "outputId": "ee10e7a1-6f62-4cca-83fc-ced873104ebe"
      },
      "outputs": [
        {
          "output_type": "stream",
          "name": "stdout",
          "text": [
            "Best parameters: {'C': 100, 'gamma': 0.1, 'kernel': 'rbf'}\n"
          ]
        }
      ],
      "source": [
        "# Printing the best hyperparameters\n",
        "print(f\"Best parameters: {grid_search.best_params_}\")\n",
        "best_svm_model = grid_search.best_estimator_"
      ]
    },
    {
      "cell_type": "code",
      "execution_count": null,
      "metadata": {
        "id": "ghYCc7-rAtoe"
      },
      "outputs": [],
      "source": [
        "# Predicting with the best model on test data\n",
        "y_pred = best_svm_model.predict(X_test_scaled)"
      ]
    },
    {
      "cell_type": "code",
      "execution_count": null,
      "metadata": {
        "colab": {
          "base_uri": "https://localhost:8080/"
        },
        "id": "-w0EwprRAvU1",
        "outputId": "8a3c49fb-da7f-4102-90af-c0ef31198415"
      },
      "outputs": [
        {
          "output_type": "stream",
          "name": "stdout",
          "text": [
            "Accuracy with best parameters: 0.8351724137931035\n",
            "Confusion Matrix with best parameters\n",
            " [[1383  608]\n",
            " [ 348 3461]]\n"
          ]
        }
      ],
      "source": [
        "# Evaluation with the best parameters\n",
        "acc = accuracy_score(y_test, y_pred)\n",
        "print(f\"Accuracy with best parameters: {acc}\")\n",
        "\n",
        "conf_matrix = confusion_matrix(y_test, y_pred)\n",
        "print(f\"Confusion Matrix with best parameters\\n {conf_matrix}\")"
      ]
    },
    {
      "cell_type": "markdown",
      "metadata": {
        "id": "0s_bt5wEA4sf"
      },
      "source": [
        "### Hyperparameter Tuning with RandomizedSearchCV"
      ]
    },
    {
      "cell_type": "code",
      "execution_count": null,
      "metadata": {
        "id": "D6tlX2IDA1Pc"
      },
      "outputs": [],
      "source": [
        "from sklearn.model_selection import RandomizedSearchCV\n",
        "from scipy.stats import expon\n",
        "\n",
        "svm_model = SVC()"
      ]
    },
    {
      "cell_type": "code",
      "execution_count": null,
      "metadata": {
        "id": "2QKNZBLbA6oq"
      },
      "outputs": [],
      "source": [
        "# Setting up the hyperparameter distributions for random search\n",
        "from scipy.stats import reciprocal, uniform\n",
        "\n",
        "param_distributions = {\n",
        "    'C': reciprocal(1, 1000),\n",
        "    'gamma': expon(scale=0.1),\n",
        "    'kernel': ['rbf'],\n",
        "    'class_weight':['balanced', None]\n",
        "}"
      ]
    },
    {
      "cell_type": "code",
      "execution_count": null,
      "metadata": {
        "colab": {
          "base_uri": "https://localhost:8080/",
          "height": 117
        },
        "id": "EiDl87qlA_M7",
        "outputId": "f0902e19-ea67-4ea5-d414-046f3f861ee7"
      },
      "outputs": [
        {
          "output_type": "execute_result",
          "data": {
            "text/plain": [
              "RandomizedSearchCV(cv=2, estimator=SVC(), n_iter=50, n_jobs=-1,\n",
              "                   param_distributions={'C': <scipy.stats._distn_infrastructure.rv_continuous_frozen object at 0x7e6a0d73f880>,\n",
              "                                        'class_weight': ['balanced', None],\n",
              "                                        'gamma': <scipy.stats._distn_infrastructure.rv_continuous_frozen object at 0x7e6a580f97b0>,\n",
              "                                        'kernel': ['rbf']},\n",
              "                   random_state=50, scoring='accuracy', verbose=2)"
            ],
            "text/html": [
              "<style>#sk-container-id-9 {color: black;background-color: white;}#sk-container-id-9 pre{padding: 0;}#sk-container-id-9 div.sk-toggleable {background-color: white;}#sk-container-id-9 label.sk-toggleable__label {cursor: pointer;display: block;width: 100%;margin-bottom: 0;padding: 0.3em;box-sizing: border-box;text-align: center;}#sk-container-id-9 label.sk-toggleable__label-arrow:before {content: \"▸\";float: left;margin-right: 0.25em;color: #696969;}#sk-container-id-9 label.sk-toggleable__label-arrow:hover:before {color: black;}#sk-container-id-9 div.sk-estimator:hover label.sk-toggleable__label-arrow:before {color: black;}#sk-container-id-9 div.sk-toggleable__content {max-height: 0;max-width: 0;overflow: hidden;text-align: left;background-color: #f0f8ff;}#sk-container-id-9 div.sk-toggleable__content pre {margin: 0.2em;color: black;border-radius: 0.25em;background-color: #f0f8ff;}#sk-container-id-9 input.sk-toggleable__control:checked~div.sk-toggleable__content {max-height: 200px;max-width: 100%;overflow: auto;}#sk-container-id-9 input.sk-toggleable__control:checked~label.sk-toggleable__label-arrow:before {content: \"▾\";}#sk-container-id-9 div.sk-estimator input.sk-toggleable__control:checked~label.sk-toggleable__label {background-color: #d4ebff;}#sk-container-id-9 div.sk-label input.sk-toggleable__control:checked~label.sk-toggleable__label {background-color: #d4ebff;}#sk-container-id-9 input.sk-hidden--visually {border: 0;clip: rect(1px 1px 1px 1px);clip: rect(1px, 1px, 1px, 1px);height: 1px;margin: -1px;overflow: hidden;padding: 0;position: absolute;width: 1px;}#sk-container-id-9 div.sk-estimator {font-family: monospace;background-color: #f0f8ff;border: 1px dotted black;border-radius: 0.25em;box-sizing: border-box;margin-bottom: 0.5em;}#sk-container-id-9 div.sk-estimator:hover {background-color: #d4ebff;}#sk-container-id-9 div.sk-parallel-item::after {content: \"\";width: 100%;border-bottom: 1px solid gray;flex-grow: 1;}#sk-container-id-9 div.sk-label:hover label.sk-toggleable__label {background-color: #d4ebff;}#sk-container-id-9 div.sk-serial::before {content: \"\";position: absolute;border-left: 1px solid gray;box-sizing: border-box;top: 0;bottom: 0;left: 50%;z-index: 0;}#sk-container-id-9 div.sk-serial {display: flex;flex-direction: column;align-items: center;background-color: white;padding-right: 0.2em;padding-left: 0.2em;position: relative;}#sk-container-id-9 div.sk-item {position: relative;z-index: 1;}#sk-container-id-9 div.sk-parallel {display: flex;align-items: stretch;justify-content: center;background-color: white;position: relative;}#sk-container-id-9 div.sk-item::before, #sk-container-id-9 div.sk-parallel-item::before {content: \"\";position: absolute;border-left: 1px solid gray;box-sizing: border-box;top: 0;bottom: 0;left: 50%;z-index: -1;}#sk-container-id-9 div.sk-parallel-item {display: flex;flex-direction: column;z-index: 1;position: relative;background-color: white;}#sk-container-id-9 div.sk-parallel-item:first-child::after {align-self: flex-end;width: 50%;}#sk-container-id-9 div.sk-parallel-item:last-child::after {align-self: flex-start;width: 50%;}#sk-container-id-9 div.sk-parallel-item:only-child::after {width: 0;}#sk-container-id-9 div.sk-dashed-wrapped {border: 1px dashed gray;margin: 0 0.4em 0.5em 0.4em;box-sizing: border-box;padding-bottom: 0.4em;background-color: white;}#sk-container-id-9 div.sk-label label {font-family: monospace;font-weight: bold;display: inline-block;line-height: 1.2em;}#sk-container-id-9 div.sk-label-container {text-align: center;}#sk-container-id-9 div.sk-container {/* jupyter's `normalize.less` sets `[hidden] { display: none; }` but bootstrap.min.css set `[hidden] { display: none !important; }` so we also need the `!important` here to be able to override the default hidden behavior on the sphinx rendered scikit-learn.org. See: https://github.com/scikit-learn/scikit-learn/issues/21755 */display: inline-block !important;position: relative;}#sk-container-id-9 div.sk-text-repr-fallback {display: none;}</style><div id=\"sk-container-id-9\" class=\"sk-top-container\"><div class=\"sk-text-repr-fallback\"><pre>RandomizedSearchCV(cv=2, estimator=SVC(), n_iter=50, n_jobs=-1,\n",
              "                   param_distributions={&#x27;C&#x27;: &lt;scipy.stats._distn_infrastructure.rv_continuous_frozen object at 0x7e6a0d73f880&gt;,\n",
              "                                        &#x27;class_weight&#x27;: [&#x27;balanced&#x27;, None],\n",
              "                                        &#x27;gamma&#x27;: &lt;scipy.stats._distn_infrastructure.rv_continuous_frozen object at 0x7e6a580f97b0&gt;,\n",
              "                                        &#x27;kernel&#x27;: [&#x27;rbf&#x27;]},\n",
              "                   random_state=50, scoring=&#x27;accuracy&#x27;, verbose=2)</pre><b>In a Jupyter environment, please rerun this cell to show the HTML representation or trust the notebook. <br />On GitHub, the HTML representation is unable to render, please try loading this page with nbviewer.org.</b></div><div class=\"sk-container\" hidden><div class=\"sk-item sk-dashed-wrapped\"><div class=\"sk-label-container\"><div class=\"sk-label sk-toggleable\"><input class=\"sk-toggleable__control sk-hidden--visually\" id=\"sk-estimator-id-21\" type=\"checkbox\" ><label for=\"sk-estimator-id-21\" class=\"sk-toggleable__label sk-toggleable__label-arrow\">RandomizedSearchCV</label><div class=\"sk-toggleable__content\"><pre>RandomizedSearchCV(cv=2, estimator=SVC(), n_iter=50, n_jobs=-1,\n",
              "                   param_distributions={&#x27;C&#x27;: &lt;scipy.stats._distn_infrastructure.rv_continuous_frozen object at 0x7e6a0d73f880&gt;,\n",
              "                                        &#x27;class_weight&#x27;: [&#x27;balanced&#x27;, None],\n",
              "                                        &#x27;gamma&#x27;: &lt;scipy.stats._distn_infrastructure.rv_continuous_frozen object at 0x7e6a580f97b0&gt;,\n",
              "                                        &#x27;kernel&#x27;: [&#x27;rbf&#x27;]},\n",
              "                   random_state=50, scoring=&#x27;accuracy&#x27;, verbose=2)</pre></div></div></div><div class=\"sk-parallel\"><div class=\"sk-parallel-item\"><div class=\"sk-item\"><div class=\"sk-label-container\"><div class=\"sk-label sk-toggleable\"><input class=\"sk-toggleable__control sk-hidden--visually\" id=\"sk-estimator-id-22\" type=\"checkbox\" ><label for=\"sk-estimator-id-22\" class=\"sk-toggleable__label sk-toggleable__label-arrow\">estimator: SVC</label><div class=\"sk-toggleable__content\"><pre>SVC()</pre></div></div></div><div class=\"sk-serial\"><div class=\"sk-item\"><div class=\"sk-estimator sk-toggleable\"><input class=\"sk-toggleable__control sk-hidden--visually\" id=\"sk-estimator-id-23\" type=\"checkbox\" ><label for=\"sk-estimator-id-23\" class=\"sk-toggleable__label sk-toggleable__label-arrow\">SVC</label><div class=\"sk-toggleable__content\"><pre>SVC()</pre></div></div></div></div></div></div></div></div></div></div>"
            ]
          },
          "metadata": {},
          "execution_count": 78
        }
      ],
      "source": [
        "# Setting up RandomizedSearchCV\n",
        "random_search = RandomizedSearchCV(svm_model, param_distributions, n_iter=50, cv=2, scoring='accuracy', verbose=2, random_state=50, n_jobs=-1)\n",
        "\n",
        "# Executing the random search\n",
        "random_search.fit(X_train_scaled, y_train)"
      ]
    },
    {
      "cell_type": "code",
      "execution_count": null,
      "metadata": {
        "id": "SH2uTgyoBAnq",
        "colab": {
          "base_uri": "https://localhost:8080/"
        },
        "outputId": "dd21c67b-2f0c-43aa-8b99-80c7ce86be82"
      },
      "outputs": [
        {
          "output_type": "stream",
          "name": "stdout",
          "text": [
            "Best parameters: {'C': 218.69176239528974, 'class_weight': None, 'gamma': 0.06980161530282498, 'kernel': 'rbf'}\n"
          ]
        }
      ],
      "source": [
        "# Printing the best hyperparameters\n",
        "print(f\"Best parameters: {random_search.best_params_}\")\n",
        "best_svm_model = random_search.best_estimator_"
      ]
    },
    {
      "cell_type": "code",
      "execution_count": null,
      "metadata": {
        "id": "hq8NJYqQBCtW"
      },
      "outputs": [],
      "source": [
        "# Predicting with the best model on test data\n",
        "y_pred = best_svm_model.predict(X_test_scaled)"
      ]
    },
    {
      "cell_type": "code",
      "execution_count": null,
      "metadata": {
        "id": "CfEfqevYBEYt",
        "colab": {
          "base_uri": "https://localhost:8080/"
        },
        "outputId": "122e5064-92bc-494a-8fbf-f723765c83b1"
      },
      "outputs": [
        {
          "output_type": "stream",
          "name": "stdout",
          "text": [
            "Accuracy with best parameters: 0.8336206896551724\n",
            "Confusion Matrix with best parameters\n",
            " [[1379  612]\n",
            " [ 353 3456]]\n"
          ]
        }
      ],
      "source": [
        "# Evaluation with the best parameters\n",
        "acc = accuracy_score(y_test, y_pred)\n",
        "print(f\"Accuracy with best parameters: {acc}\")\n",
        "conf_matrix = confusion_matrix(y_test, y_pred)\n",
        "print(f\"Confusion Matrix with best parameters\\n {conf_matrix}\")"
      ]
    },
    {
      "cell_type": "markdown",
      "metadata": {
        "id": "oXauWVRfEfhA"
      },
      "source": [
        "### Evaluation Metrics"
      ]
    },
    {
      "cell_type": "code",
      "execution_count": null,
      "metadata": {
        "id": "w9ep_25vBGsv"
      },
      "outputs": [],
      "source": [
        "from sklearn.metrics import precision_score, recall_score, roc_auc_score, roc_curve, precision_recall_curve, auc\n",
        "import matplotlib.pyplot as plt\n",
        "\n",
        "# Calculating True Positive Rate (TPR) and False Positive Rate (FPR)\n",
        "fpr, tpr, thresholds = roc_curve(y_test, y_pred, pos_label=1)"
      ]
    },
    {
      "cell_type": "code",
      "execution_count": null,
      "metadata": {
        "id": "LwwmF3vMBHXR"
      },
      "outputs": [],
      "source": [
        "# Calculating Precision and Recall\n",
        "precision = precision_score(y_test, y_pred, pos_label=1)\n",
        "recall = recall_score(y_test, y_pred, pos_label=1)"
      ]
    },
    {
      "cell_type": "code",
      "execution_count": null,
      "metadata": {
        "id": "UDqPD3yqBJLw"
      },
      "outputs": [],
      "source": [
        "# Calculating ROC AUC\n",
        "roc_auc = auc(fpr, tpr)"
      ]
    },
    {
      "cell_type": "code",
      "execution_count": null,
      "metadata": {
        "id": "YTyTjunRBKfb"
      },
      "outputs": [],
      "source": [
        "# Calculating Precision-Recall Curve and AUC\n",
        "precision_values, recall_values, thresholds_pr = precision_recall_curve(y_test, y_pred, pos_label=1)\n",
        "pr_auc = auc(recall_values, precision_values)"
      ]
    },
    {
      "cell_type": "code",
      "execution_count": null,
      "metadata": {
        "colab": {
          "base_uri": "https://localhost:8080/"
        },
        "id": "10zxy5XhBLTP",
        "outputId": "930c875f-95e1-4070-cfc2-96622eb9b4ca"
      },
      "outputs": [
        {
          "output_type": "stream",
          "name": "stdout",
          "text": [
            "True Positive Rate (TPR): 0.9086374376476766\n",
            "False Positive Rate (FPR): 0.3053741838272225\n",
            "Precision: 0.850577537478496\n",
            "Recall: 0.9086374376476766\n",
            "ROC AUC: 0.801631626910227\n",
            "Precision-Recall AUC: 0.9096074875630862\n"
          ]
        }
      ],
      "source": [
        "print(f\"True Positive Rate (TPR): {tpr[1]}\")\n",
        "print(f\"False Positive Rate (FPR): {fpr[1]}\")\n",
        "print(f\"Precision: {precision}\")\n",
        "print(f\"Recall: {recall}\")\n",
        "print(f\"ROC AUC: {roc_auc}\")\n",
        "print(f\"Precision-Recall AUC: {pr_auc}\")"
      ]
    },
    {
      "cell_type": "code",
      "execution_count": null,
      "metadata": {
        "colab": {
          "base_uri": "https://localhost:8080/",
          "height": 505
        },
        "id": "LHdSPS2KBOqb",
        "outputId": "3aaf6e27-55f2-4572-82fa-879c28ee2c31"
      },
      "outputs": [
        {
          "output_type": "execute_result",
          "data": {
            "text/plain": [
              "<matplotlib.legend.Legend at 0x7e6a0d73fe80>"
            ]
          },
          "metadata": {},
          "execution_count": 98
        },
        {
          "output_type": "display_data",
          "data": {
            "text/plain": [
              "<Figure size 1000x500 with 1 Axes>"
            ],
            "image/png": "[encoded data removed]"
          },
          "metadata": {}
        }
      ],
      "source": [
        "plt.figure(figsize=(10, 5))\n",
        "plt.subplot(1, 2, 1)\n",
        "plt.plot(fpr, tpr, color='darkorange', lw=2, label=f'ROC curve (area = {roc_auc:.2f})')\n",
        "plt.plot([0, 1], [0, 1], color='navy', lw=2, linestyle='--')\n",
        "plt.xlim([0.0, 1.0])\n",
        "plt.ylim([0.0, 1.05])\n",
        "plt.xlabel('False Positive Rate')\n",
        "plt.ylabel('True Positive Rate')\n",
        "plt.title('Receiver Operating Characteristic')\n",
        "plt.legend(loc=\"lower right\")"
      ]
    },
    {
      "cell_type": "code",
      "execution_count": null,
      "metadata": {
        "colab": {
          "base_uri": "https://localhost:8080/",
          "height": 472
        },
        "id": "3eEWFcntBQrb",
        "outputId": "95fc2512-bcb0-42de-dd9c-16613e02f6c8"
      },
      "outputs": [
        {
          "output_type": "display_data",
          "data": {
            "text/plain": [
              "<Figure size 640x480 with 1 Axes>"
            ],
            "image/png": "[encoded data removed]"
          },
          "metadata": {}
        }
      ],
      "source": [
        "plt.subplot(1, 2, 2)\n",
        "plt.plot(recall_values, precision_values, color='blue', lw=2, label=f'PR curve (area = {pr_auc:.2f})')\n",
        "plt.xlim([0.0, 1.0])\n",
        "plt.ylim([0.0, 1.05])\n",
        "plt.xlabel('Recall')\n",
        "plt.ylabel('Precision')\n",
        "plt.title('Precision-Recall Curve')\n",
        "plt.legend(loc=\"lower left\")\n",
        "plt.show()"
      ]
    }
  ],
  "metadata": {
    "accelerator": "GPU",
    "colab": {
      "provenance": []
    },
    "kernelspec": {
      "display_name": "Python 3",
      "name": "python3"
    },
    "language_info": {
      "name": "python"
    }
  },
  "nbformat": 4,
  "nbformat_minor": 0
}
