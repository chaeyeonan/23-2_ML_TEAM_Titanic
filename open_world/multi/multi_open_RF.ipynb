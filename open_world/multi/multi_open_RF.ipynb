{
  "cells": [
    {
      "cell_type": "code",
      "execution_count": null,
      "metadata": {
        "colab": {
          "base_uri": "https://localhost:8080/"
        },
        "id": "h_ihRY3SWY16",
        "outputId": "f3727f4e-08ee-43f8-db14-eaff00b3aa28"
      },
      "outputs": [
        {
          "output_type": "stream",
          "name": "stdout",
          "text": [
            "Mounted at /content/drive\n"
          ]
        }
      ],
      "source": [
        "from google.colab import drive\n",
        "drive.mount('/content/drive')"
      ]
    },
    {
      "cell_type": "code",
      "source": [
        "import pandas as pd\n",
        "\n",
        "mon_features = pd.read_csv('/content/drive/MyDrive/ML_Project/mon_features.csv')\n",
        "mon_labels = pd.read_csv('/content/drive/MyDrive/ML_Project/mon_labels.csv')\n",
        "\n",
        "unmon_features = pd.read_csv('/content/drive/MyDrive/ML_Project/unmon_features.csv')\n",
        "unmon_labels = pd.read_csv('/content/drive/MyDrive/ML_Project/unmon_labels.csv')"
      ],
      "metadata": {
        "id": "eTPl22oIYISh"
      },
      "execution_count": null,
      "outputs": []
    },
    {
      "cell_type": "code",
      "source": [
        "features = pd.concat([mon_features, unmon_features], axis=0, ignore_index=True)\n",
        "labels = pd.concat([mon_labels, unmon_labels], axis=0, ignore_index=True)"
      ],
      "metadata": {
        "id": "CSghdX4Myd0s"
      },
      "execution_count": null,
      "outputs": []
    },
    {
      "cell_type": "code",
      "source": [
        "mon_features_modified = pd.read_csv('/content/drive/MyDrive/ML_Project/mon_features_modified.csv')\n",
        "unmon_features_modified = pd.read_csv('/content/drive/MyDrive/ML_Project/unmon_features_modified.csv')\n",
        "\n",
        "features_modified = pd.concat([mon_features, unmon_features], axis=0, ignore_index=True)"
      ],
      "metadata": {
        "id": "xL23PfPj2IsW"
      },
      "execution_count": null,
      "outputs": []
    },
    {
      "cell_type": "code",
      "source": [
        "from sklearn.preprocessing import StandardScaler\n",
        "\n",
        "def scaler_samples(train_X,test_X):\n",
        "  scaler = StandardScaler()\n",
        "  train_X = scaler.fit_transform(train_X)\n",
        "  test_X = scaler.transform(test_X)\n",
        "\n",
        "  return train_X, test_X"
      ],
      "metadata": {
        "id": "JHDDsOfCuUsw"
      },
      "execution_count": null,
      "outputs": []
    },
    {
      "cell_type": "code",
      "source": [
        "from sklearn.model_selection import train_test_split\n",
        "\n",
        "X, y = features, labels\n",
        "\n",
        "X_train, X_test, y_train, y_test = train_test_split(\n",
        "    X, y, test_size=0.2, random_state=1\n",
        ")\n",
        "\n",
        "scaler_samples(X_train,X_test)"
      ],
      "metadata": {
        "colab": {
          "base_uri": "https://localhost:8080/"
        },
        "id": "oLid-3ySnLF7",
        "outputId": "24993e21-2216-4a33-ae02-992ad3c2ab1d"
      },
      "execution_count": null,
      "outputs": [
        {
          "output_type": "execute_result",
          "data": {
            "text/plain": [
              "(array([[ 1.54655944,  1.54655944,  1.49737333, ...,  1.537277  ,\n",
              "         -0.08652699, -0.22167942],\n",
              "        [-0.54887097, -0.54887097, -0.54302478, ..., -0.54917458,\n",
              "         -0.36934731, -0.60870098],\n",
              "        [-0.95731246, -0.95731246, -0.94848851, ..., -0.95781474,\n",
              "          0.26884178, -0.65041582],\n",
              "        ...,\n",
              "        [-1.23957363, -1.23957363, -1.22124342, ..., -1.23399661,\n",
              "          0.07830331,  0.79720307],\n",
              "        [-0.89571733, -0.89571733, -0.90637898, ..., -0.88566094,\n",
              "          0.76967483,  1.82309687],\n",
              "        [-0.96807665, -0.96807665, -0.95837787, ..., -0.96006986,\n",
              "          0.67517081, -0.70869552]]),\n",
              " array([[ 1.51665889,  1.51665889,  1.51140984, ...,  1.4866833 ,\n",
              "         -0.39792076,  0.28637542],\n",
              "        [ 1.25413208,  1.25413208,  0.99843921, ...,  1.23296123,\n",
              "          1.47190677, -0.24687132],\n",
              "        [ 0.19595168,  0.19595168, -0.13628501, ...,  0.24412991,\n",
              "          4.12646933, -0.5067964 ],\n",
              "        ...,\n",
              "        [-0.52764158, -0.52764158, -0.50857153, ..., -0.5283963 ,\n",
              "         -0.61030493, -0.69116051],\n",
              "        [ 0.71472619,  0.71472619,  0.63380896, ...,  0.73459391,\n",
              "          0.42363379,  0.69468503],\n",
              "        [-0.78418828, -0.78418828, -0.76728993, ..., -0.78908565,\n",
              "         -0.28670412, -0.08845051]]))"
            ]
          },
          "metadata": {},
          "execution_count": 8
        }
      ]
    },
    {
      "cell_type": "code",
      "source": [
        "from sklearn.ensemble import RandomForestClassifier\n",
        "\n",
        "clf = RandomForestClassifier(\n",
        "    n_estimators=3000,\n",
        "    criterion='entropy',\n",
        "    max_depth=300,\n",
        "    min_samples_split=2,\n",
        "    min_samples_leaf=1,\n",
        "    max_features='sqrt',\n",
        "    max_leaf_nodes = 2000,\n",
        "    bootstrap=True,\n",
        "    class_weight='balanced',\n",
        "    n_jobs=-1\n",
        ")\n",
        "\n",
        "clf.fit(X_train, y_train)"
      ],
      "metadata": {
        "colab": {
          "base_uri": "https://localhost:8080/",
          "height": 167
        },
        "id": "-aBun5eW15Ga",
        "outputId": "9dfe5a24-4e01-454f-c136-f324c2969304"
      },
      "execution_count": null,
      "outputs": [
        {
          "output_type": "stream",
          "name": "stderr",
          "text": [
            "<ipython-input-9-5dd5051564f3>:16: DataConversionWarning: A column-vector y was passed when a 1d array was expected. Please change the shape of y to (n_samples,), for example using ravel().\n",
            "  clf.fit(X_train, y_train)\n"
          ]
        },
        {
          "output_type": "execute_result",
          "data": {
            "text/plain": [
              "RandomForestClassifier(class_weight='balanced', criterion='entropy',\n",
              "                       max_depth=300, max_leaf_nodes=2000, n_estimators=3000,\n",
              "                       n_jobs=-1)"
            ],
            "text/html": [
              "<style>#sk-container-id-1 {color: black;background-color: white;}#sk-container-id-1 pre{padding: 0;}#sk-container-id-1 div.sk-toggleable {background-color: white;}#sk-container-id-1 label.sk-toggleable__label {cursor: pointer;display: block;width: 100%;margin-bottom: 0;padding: 0.3em;box-sizing: border-box;text-align: center;}#sk-container-id-1 label.sk-toggleable__label-arrow:before {content: \"▸\";float: left;margin-right: 0.25em;color: #696969;}#sk-container-id-1 label.sk-toggleable__label-arrow:hover:before {color: black;}#sk-container-id-1 div.sk-estimator:hover label.sk-toggleable__label-arrow:before {color: black;}#sk-container-id-1 div.sk-toggleable__content {max-height: 0;max-width: 0;overflow: hidden;text-align: left;background-color: #f0f8ff;}#sk-container-id-1 div.sk-toggleable__content pre {margin: 0.2em;color: black;border-radius: 0.25em;background-color: #f0f8ff;}#sk-container-id-1 input.sk-toggleable__control:checked~div.sk-toggleable__content {max-height: 200px;max-width: 100%;overflow: auto;}#sk-container-id-1 input.sk-toggleable__control:checked~label.sk-toggleable__label-arrow:before {content: \"▾\";}#sk-container-id-1 div.sk-estimator input.sk-toggleable__control:checked~label.sk-toggleable__label {background-color: #d4ebff;}#sk-container-id-1 div.sk-label input.sk-toggleable__control:checked~label.sk-toggleable__label {background-color: #d4ebff;}#sk-container-id-1 input.sk-hidden--visually {border: 0;clip: rect(1px 1px 1px 1px);clip: rect(1px, 1px, 1px, 1px);height: 1px;margin: -1px;overflow: hidden;padding: 0;position: absolute;width: 1px;}#sk-container-id-1 div.sk-estimator {font-family: monospace;background-color: #f0f8ff;border: 1px dotted black;border-radius: 0.25em;box-sizing: border-box;margin-bottom: 0.5em;}#sk-container-id-1 div.sk-estimator:hover {background-color: #d4ebff;}#sk-container-id-1 div.sk-parallel-item::after {content: \"\";width: 100%;border-bottom: 1px solid gray;flex-grow: 1;}#sk-container-id-1 div.sk-label:hover label.sk-toggleable__label {background-color: #d4ebff;}#sk-container-id-1 div.sk-serial::before {content: \"\";position: absolute;border-left: 1px solid gray;box-sizing: border-box;top: 0;bottom: 0;left: 50%;z-index: 0;}#sk-container-id-1 div.sk-serial {display: flex;flex-direction: column;align-items: center;background-color: white;padding-right: 0.2em;padding-left: 0.2em;position: relative;}#sk-container-id-1 div.sk-item {position: relative;z-index: 1;}#sk-container-id-1 div.sk-parallel {display: flex;align-items: stretch;justify-content: center;background-color: white;position: relative;}#sk-container-id-1 div.sk-item::before, #sk-container-id-1 div.sk-parallel-item::before {content: \"\";position: absolute;border-left: 1px solid gray;box-sizing: border-box;top: 0;bottom: 0;left: 50%;z-index: -1;}#sk-container-id-1 div.sk-parallel-item {display: flex;flex-direction: column;z-index: 1;position: relative;background-color: white;}#sk-container-id-1 div.sk-parallel-item:first-child::after {align-self: flex-end;width: 50%;}#sk-container-id-1 div.sk-parallel-item:last-child::after {align-self: flex-start;width: 50%;}#sk-container-id-1 div.sk-parallel-item:only-child::after {width: 0;}#sk-container-id-1 div.sk-dashed-wrapped {border: 1px dashed gray;margin: 0 0.4em 0.5em 0.4em;box-sizing: border-box;padding-bottom: 0.4em;background-color: white;}#sk-container-id-1 div.sk-label label {font-family: monospace;font-weight: bold;display: inline-block;line-height: 1.2em;}#sk-container-id-1 div.sk-label-container {text-align: center;}#sk-container-id-1 div.sk-container {/* jupyter's `normalize.less` sets `[hidden] { display: none; }` but bootstrap.min.css set `[hidden] { display: none !important; }` so we also need the `!important` here to be able to override the default hidden behavior on the sphinx rendered scikit-learn.org. See: https://github.com/scikit-learn/scikit-learn/issues/21755 */display: inline-block !important;position: relative;}#sk-container-id-1 div.sk-text-repr-fallback {display: none;}</style><div id=\"sk-container-id-1\" class=\"sk-top-container\"><div class=\"sk-text-repr-fallback\"><pre>RandomForestClassifier(class_weight=&#x27;balanced&#x27;, criterion=&#x27;entropy&#x27;,\n",
              "                       max_depth=300, max_leaf_nodes=2000, n_estimators=3000,\n",
              "                       n_jobs=-1)</pre><b>In a Jupyter environment, please rerun this cell to show the HTML representation or trust the notebook. <br />On GitHub, the HTML representation is unable to render, please try loading this page with nbviewer.org.</b></div><div class=\"sk-container\" hidden><div class=\"sk-item\"><div class=\"sk-estimator sk-toggleable\"><input class=\"sk-toggleable__control sk-hidden--visually\" id=\"sk-estimator-id-1\" type=\"checkbox\" checked><label for=\"sk-estimator-id-1\" class=\"sk-toggleable__label sk-toggleable__label-arrow\">RandomForestClassifier</label><div class=\"sk-toggleable__content\"><pre>RandomForestClassifier(class_weight=&#x27;balanced&#x27;, criterion=&#x27;entropy&#x27;,\n",
              "                       max_depth=300, max_leaf_nodes=2000, n_estimators=3000,\n",
              "                       n_jobs=-1)</pre></div></div></div></div></div>"
            ]
          },
          "metadata": {},
          "execution_count": 9
        }
      ]
    },
    {
      "cell_type": "code",
      "source": [
        "from sklearn.metrics import accuracy_score, confusion_matrix\n",
        "\n",
        "y_pred = clf.predict(X_test)\n",
        "\n",
        "acc = accuracy_score(y_test, y_pred)\n",
        "print(f\"Accuracy: {acc}\")\n",
        "\n",
        "conf_matrix = confusion_matrix(y_test, y_pred)\n",
        "print(f\"Confusion Matrix\\n {conf_matrix}\")"
      ],
      "metadata": {
        "colab": {
          "base_uri": "https://localhost:8080/"
        },
        "id": "os5W70gC1z-k",
        "outputId": "ed53c5af-fa6b-4d4e-dd0d-fcd95e8dc2e8"
      },
      "execution_count": null,
      "outputs": [
        {
          "output_type": "stream",
          "name": "stdout",
          "text": [
            "Accuracy: 0.47879310344827586\n",
            "Confusion Matrix\n",
            " [[22 25 16 ... 45 11 36]\n",
            " [ 0 27  0 ...  0  0  1]\n",
            " [ 0  1 19 ...  0  0  0]\n",
            " ...\n",
            " [ 0  0  0 ... 26  0  0]\n",
            " [ 0  0  0 ...  0 37  0]\n",
            " [ 0  1  0 ...  1  0 22]]\n"
          ]
        }
      ]
    },
    {
      "cell_type": "code",
      "source": [
        "from sklearn.model_selection import train_test_split\n",
        "\n",
        "X, y = mon_features, mon_labels\n",
        "\n",
        "X_train, X_test, y_train, y_test = train_test_split(\n",
        "    X, y, test_size=0.2, random_state=1\n",
        ")\n",
        "\n",
        "scaler_samples(X_train,X_test)"
      ],
      "metadata": {
        "colab": {
          "base_uri": "https://localhost:8080/"
        },
        "id": "P751tTYTOEB1",
        "outputId": "68ebd072-247f-4fb4-abcc-567ead350112"
      },
      "execution_count": null,
      "outputs": [
        {
          "output_type": "execute_result",
          "data": {
            "text/plain": [
              "(array([[ 1.81330833,  1.81330833,  1.9266378 , ...,  1.81439768,\n",
              "         -1.54749262, -0.25612707],\n",
              "        [ 0.18468978,  0.18468978,  0.22123834, ...,  0.1831921 ,\n",
              "         -1.00946643,  0.8009467 ],\n",
              "        [-0.41791159, -0.41791159, -0.42914006, ..., -0.40131576,\n",
              "          0.23857194, -0.55160225],\n",
              "        ...,\n",
              "        [-1.22690472, -1.22690472, -1.2092589 , ..., -1.22054073,\n",
              "          0.05987644,  0.7909652 ],\n",
              "        [-0.86728273, -0.86728273, -0.87837051, ..., -0.85638072,\n",
              "          0.8220451 ,  1.79168674],\n",
              "        [-0.9429597 , -0.9429597 , -0.9330157 , ..., -0.93416992,\n",
              "          0.71786377, -0.67798329]]),\n",
              " array([[-0.45637551, -0.45637551, -0.41908267, ..., -0.45333637,\n",
              "         -1.13860049,  6.50765849],\n",
              "        [-0.27093565, -0.27093565, -0.36209074, ..., -0.28259713,\n",
              "          1.55918345, -0.51845269],\n",
              "        [-1.28913496, -1.28913496, -1.26859755, ..., -1.28115919,\n",
              "          0.52046757, -0.19348316],\n",
              "        ...,\n",
              "        [-1.15498032, -1.15498032, -1.13919236, ..., -1.15052766,\n",
              "         -0.06998949, -0.67069106],\n",
              "        [-0.09018651, -0.09018651, -0.13311732, ..., -0.07823588,\n",
              "          0.71811684, -0.51868111],\n",
              "        [ 1.77484441,  1.77484441,  1.67922581, ...,  1.84571412,\n",
              "          0.36683373, -0.09908701]]))"
            ]
          },
          "metadata": {},
          "execution_count": 7
        }
      ]
    },
    {
      "cell_type": "code",
      "source": [
        "from sklearn.ensemble import RandomForestClassifier\n",
        "\n",
        "rf_multi_closed = RandomForestClassifier(\n",
        "    n_estimators=3000,\n",
        "    criterion='entropy',\n",
        "    max_depth=300,\n",
        "    min_samples_split=2,\n",
        "    min_samples_leaf=1,\n",
        "    max_features='sqrt',\n",
        "    max_leaf_nodes = 2000,\n",
        "    bootstrap=True,\n",
        "    class_weight='balanced',\n",
        "    n_jobs=-1\n",
        ")\n",
        "\n",
        "rf_multi_closed.fit(X_train, y_train)"
      ],
      "metadata": {
        "id": "fdXrbfQKOEET"
      },
      "execution_count": null,
      "outputs": []
    },
    {
      "cell_type": "code",
      "source": [
        "from sklearn.metrics import accuracy_score, confusion_matrix\n",
        "\n",
        "y_pred = rf_multi_closed.predict(X_test)\n",
        "\n",
        "acc = accuracy_score(y_test, y_pred)\n",
        "print(f\"Accuracy: {acc}\")\n",
        "\n",
        "conf_matrix = confusion_matrix(y_test, y_pred)\n",
        "print(f\"Confusion Matrix\\n {conf_matrix}\")"
      ],
      "metadata": {
        "id": "DGTUe739OEGf"
      },
      "execution_count": null,
      "outputs": []
    }
  ],
  "metadata": {
    "accelerator": "GPU",
    "colab": {
      "provenance": [],
      "gpuType": "T4"
    },
    "kernelspec": {
      "display_name": "Python 3",
      "name": "python3"
    },
    "language_info": {
      "name": "python"
    }
  },
  "nbformat": 4,
  "nbformat_minor": 0
}
