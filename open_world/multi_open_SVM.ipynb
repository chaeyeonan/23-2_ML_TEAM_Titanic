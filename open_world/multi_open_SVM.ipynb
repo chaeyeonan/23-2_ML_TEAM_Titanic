{
  "nbformat": 4,
  "nbformat_minor": 0,
  "metadata": {
    "colab": {
      "provenance": []
    },
    "kernelspec": {
      "name": "python3",
      "display_name": "Python 3"
    },
    "language_info": {
      "name": "python"
    }
  },
  "cells": [
    {
      "cell_type": "code",
      "execution_count": 1,
      "metadata": {
        "colab": {
          "base_uri": "https://localhost:8080/"
        },
        "id": "06rzJGwZrBLo",
        "outputId": "72a8dd08-385f-40d8-f538-ff0dcddfc83d"
      },
      "outputs": [
        {
          "output_type": "stream",
          "name": "stdout",
          "text": [
            "Mounted at /content/drive\n"
          ]
        }
      ],
      "source": [
        "from google.colab import drive\n",
        "drive.mount('/content/drive')"
      ]
    },
    {
      "cell_type": "code",
      "source": [
        "import pandas as pd\n",
        "\n",
        "mon_features = pd.read_csv('/content/drive/MyDrive/ML_Project/mon_features_modified.csv')\n",
        "mon_labels = pd.read_csv('/content/drive/MyDrive/ML_Project/mon_labels.csv')\n",
        "\n",
        "unmon_features = pd.read_csv('/content/drive/MyDrive/ML_Project/unmon_features_modified.csv')\n",
        "unmon_labels = pd.read_csv('/content/drive/MyDrive/ML_Project/unmon_labels.csv')"
      ],
      "metadata": {
        "id": "uHyobubPr0n3"
      },
      "execution_count": 29,
      "outputs": []
    },
    {
      "cell_type": "code",
      "source": [
        "features = pd.concat([mon_features, unmon_features], axis=0, ignore_index=True)\n",
        "labels = pd.concat([mon_labels, unmon_labels], axis=0, ignore_index=True)"
      ],
      "metadata": {
        "id": "_LsT7z6dr6gf"
      },
      "execution_count": 30,
      "outputs": []
    },
    {
      "cell_type": "code",
      "source": [
        "from sklearn.preprocessing import StandardScaler\n",
        "def scaler_samples(train_X,test_X):\n",
        "  scaler = StandardScaler()\n",
        "  train_X = scaler.fit_transform(train_X)\n",
        "  test_X = scaler.transform(test_X)\n",
        "\n",
        "  return train_X, test_X"
      ],
      "metadata": {
        "id": "6IE0oYEer8tm"
      },
      "execution_count": 31,
      "outputs": []
    },
    {
      "cell_type": "code",
      "source": [
        "from sklearn.model_selection import train_test_split\n",
        "\n",
        "X, y = features, labels\n",
        "\n",
        "X_train, X_test, y_train, y_test = train_test_split(\n",
        "    X, y, test_size=0.2, random_state=1\n",
        ")\n",
        "\n",
        "scaler_samples(X_train,X_test)"
      ],
      "metadata": {
        "colab": {
          "base_uri": "https://localhost:8080/"
        },
        "id": "SQo1-eit0_IZ",
        "outputId": "3d9f7fc8-39ea-47e6-a9e3-3a91e2e81f44"
      },
      "execution_count": 32,
      "outputs": [
        {
          "output_type": "execute_result",
          "data": {
            "text/plain": [
              "(array([[ 1.54655944,  1.54655944,  1.49737333, ..., -0.04306437,\n",
              "          0.01630803, -0.23287589],\n",
              "        [-0.54887097, -0.54887097, -0.54302478, ..., -0.66529532,\n",
              "         -0.55928676, -0.65107686],\n",
              "        [-0.95731246, -0.95731246, -0.94848851, ...,  0.08843318,\n",
              "         -0.6590313 ,  0.07945142],\n",
              "        ...,\n",
              "        [-1.23957363, -1.23957363, -1.22124342, ..., -1.11525762,\n",
              "         -0.81690924, -1.01104732],\n",
              "        [-0.89571733, -0.89571733, -0.90637898, ..., -0.15033548,\n",
              "         -0.4520053 , -0.03700961],\n",
              "        [-0.96807665, -0.96807665, -0.95837787, ..., -0.30498029,\n",
              "         -0.52336267, -0.20464292]]),\n",
              " array([[ 1.51665889,  1.51665889,  1.51140984, ..., -0.24989253,\n",
              "         -0.2163448 , -0.40403831],\n",
              "        [ 1.25413208,  1.25413208,  0.99843921, ..., -0.18622575,\n",
              "          0.39714497, -0.32639763],\n",
              "        [ 0.19595168,  0.19595168, -0.13628501, ...,  0.48613643,\n",
              "          0.46582485,  0.24884928],\n",
              "        ...,\n",
              "        [-0.52764158, -0.52764158, -0.50857153, ...,  0.05065633,\n",
              "         -0.08207681,  0.10415527],\n",
              "        [ 0.71472619,  0.71472619,  0.63380896, ..., -0.12872181,\n",
              "          0.68213495, -0.53461583],\n",
              "        [-0.78418828, -0.78418828, -0.76728993, ..., -0.93256328,\n",
              "         -0.47253274, -0.89282173]]))"
            ]
          },
          "metadata": {},
          "execution_count": 32
        }
      ]
    },
    {
      "cell_type": "code",
      "source": [
        "# Data Normalization 데이터 정규화\n",
        "from sklearn.preprocessing import StandardScaler\n",
        "X_train_scaled, X_test_scaled = scaler_samples(X_train, X_test)"
      ],
      "metadata": {
        "id": "9SdtEwiM1PJc"
      },
      "execution_count": 34,
      "outputs": []
    },
    {
      "cell_type": "markdown",
      "source": [
        "### Building SVM model"
      ],
      "metadata": {
        "id": "j3bpnJk91QYU"
      }
    },
    {
      "cell_type": "code",
      "source": [
        "from sklearn.svm import SVC\n",
        "\n",
        "svm_model = SVC(kernel='rbf', decision_function_shape='ovo')\n",
        "svm_model.fit(X_train_scaled, y_train)"
      ],
      "metadata": {
        "colab": {
          "base_uri": "https://localhost:8080/",
          "height": 131
        },
        "id": "Jv2q8wl2r_iF",
        "outputId": "ded78d7e-0e02-4ce8-a888-f76feb9f61dc"
      },
      "execution_count": 37,
      "outputs": [
        {
          "output_type": "stream",
          "name": "stderr",
          "text": [
            "/usr/local/lib/python3.10/dist-packages/sklearn/utils/validation.py:1143: DataConversionWarning: A column-vector y was passed when a 1d array was expected. Please change the shape of y to (n_samples, ), for example using ravel().\n",
            "  y = column_or_1d(y, warn=True)\n"
          ]
        },
        {
          "output_type": "execute_result",
          "data": {
            "text/plain": [
              "SVC(decision_function_shape='ovo')"
            ],
            "text/html": [
              "<style>#sk-container-id-5 {color: black;background-color: white;}#sk-container-id-5 pre{padding: 0;}#sk-container-id-5 div.sk-toggleable {background-color: white;}#sk-container-id-5 label.sk-toggleable__label {cursor: pointer;display: block;width: 100%;margin-bottom: 0;padding: 0.3em;box-sizing: border-box;text-align: center;}#sk-container-id-5 label.sk-toggleable__label-arrow:before {content: \"▸\";float: left;margin-right: 0.25em;color: #696969;}#sk-container-id-5 label.sk-toggleable__label-arrow:hover:before {color: black;}#sk-container-id-5 div.sk-estimator:hover label.sk-toggleable__label-arrow:before {color: black;}#sk-container-id-5 div.sk-toggleable__content {max-height: 0;max-width: 0;overflow: hidden;text-align: left;background-color: #f0f8ff;}#sk-container-id-5 div.sk-toggleable__content pre {margin: 0.2em;color: black;border-radius: 0.25em;background-color: #f0f8ff;}#sk-container-id-5 input.sk-toggleable__control:checked~div.sk-toggleable__content {max-height: 200px;max-width: 100%;overflow: auto;}#sk-container-id-5 input.sk-toggleable__control:checked~label.sk-toggleable__label-arrow:before {content: \"▾\";}#sk-container-id-5 div.sk-estimator input.sk-toggleable__control:checked~label.sk-toggleable__label {background-color: #d4ebff;}#sk-container-id-5 div.sk-label input.sk-toggleable__control:checked~label.sk-toggleable__label {background-color: #d4ebff;}#sk-container-id-5 input.sk-hidden--visually {border: 0;clip: rect(1px 1px 1px 1px);clip: rect(1px, 1px, 1px, 1px);height: 1px;margin: -1px;overflow: hidden;padding: 0;position: absolute;width: 1px;}#sk-container-id-5 div.sk-estimator {font-family: monospace;background-color: #f0f8ff;border: 1px dotted black;border-radius: 0.25em;box-sizing: border-box;margin-bottom: 0.5em;}#sk-container-id-5 div.sk-estimator:hover {background-color: #d4ebff;}#sk-container-id-5 div.sk-parallel-item::after {content: \"\";width: 100%;border-bottom: 1px solid gray;flex-grow: 1;}#sk-container-id-5 div.sk-label:hover label.sk-toggleable__label {background-color: #d4ebff;}#sk-container-id-5 div.sk-serial::before {content: \"\";position: absolute;border-left: 1px solid gray;box-sizing: border-box;top: 0;bottom: 0;left: 50%;z-index: 0;}#sk-container-id-5 div.sk-serial {display: flex;flex-direction: column;align-items: center;background-color: white;padding-right: 0.2em;padding-left: 0.2em;position: relative;}#sk-container-id-5 div.sk-item {position: relative;z-index: 1;}#sk-container-id-5 div.sk-parallel {display: flex;align-items: stretch;justify-content: center;background-color: white;position: relative;}#sk-container-id-5 div.sk-item::before, #sk-container-id-5 div.sk-parallel-item::before {content: \"\";position: absolute;border-left: 1px solid gray;box-sizing: border-box;top: 0;bottom: 0;left: 50%;z-index: -1;}#sk-container-id-5 div.sk-parallel-item {display: flex;flex-direction: column;z-index: 1;position: relative;background-color: white;}#sk-container-id-5 div.sk-parallel-item:first-child::after {align-self: flex-end;width: 50%;}#sk-container-id-5 div.sk-parallel-item:last-child::after {align-self: flex-start;width: 50%;}#sk-container-id-5 div.sk-parallel-item:only-child::after {width: 0;}#sk-container-id-5 div.sk-dashed-wrapped {border: 1px dashed gray;margin: 0 0.4em 0.5em 0.4em;box-sizing: border-box;padding-bottom: 0.4em;background-color: white;}#sk-container-id-5 div.sk-label label {font-family: monospace;font-weight: bold;display: inline-block;line-height: 1.2em;}#sk-container-id-5 div.sk-label-container {text-align: center;}#sk-container-id-5 div.sk-container {/* jupyter's `normalize.less` sets `[hidden] { display: none; }` but bootstrap.min.css set `[hidden] { display: none !important; }` so we also need the `!important` here to be able to override the default hidden behavior on the sphinx rendered scikit-learn.org. See: https://github.com/scikit-learn/scikit-learn/issues/21755 */display: inline-block !important;position: relative;}#sk-container-id-5 div.sk-text-repr-fallback {display: none;}</style><div id=\"sk-container-id-5\" class=\"sk-top-container\"><div class=\"sk-text-repr-fallback\"><pre>SVC(decision_function_shape=&#x27;ovo&#x27;)</pre><b>In a Jupyter environment, please rerun this cell to show the HTML representation or trust the notebook. <br />On GitHub, the HTML representation is unable to render, please try loading this page with nbviewer.org.</b></div><div class=\"sk-container\" hidden><div class=\"sk-item\"><div class=\"sk-estimator sk-toggleable\"><input class=\"sk-toggleable__control sk-hidden--visually\" id=\"sk-estimator-id-5\" type=\"checkbox\" checked><label for=\"sk-estimator-id-5\" class=\"sk-toggleable__label sk-toggleable__label-arrow\">SVC</label><div class=\"sk-toggleable__content\"><pre>SVC(decision_function_shape=&#x27;ovo&#x27;)</pre></div></div></div></div></div>"
            ]
          },
          "metadata": {},
          "execution_count": 37
        }
      ]
    },
    {
      "cell_type": "code",
      "source": [
        "from sklearn.metrics import accuracy_score, confusion_matrix\n",
        "\n",
        "y_pred = svm_model.predict(X_test_scaled)\n",
        "\n",
        "acc = accuracy_score(y_test, y_pred)\n",
        "print(f\"Accuracy: {acc}\")\n",
        "\n",
        "conf_matrix = confusion_matrix(y_test, y_pred)\n",
        "print(f\"Confusion Matrix:\\n{conf_matrix}\")"
      ],
      "metadata": {
        "colab": {
          "base_uri": "https://localhost:8080/"
        },
        "id": "vJhp7A5rsMFu",
        "outputId": "e38d9860-9ed3-4173-8fe6-127b3fa95eb8"
      },
      "execution_count": 39,
      "outputs": [
        {
          "output_type": "stream",
          "name": "stdout",
          "text": [
            "Accuracy: 0.44396551724137934\n",
            "Confusion Matrix:\n",
            "[[1891    0    0 ...    0    0    0]\n",
            " [  34    4    0 ...    0    0    0]\n",
            " [  44    0    0 ...    0    0    0]\n",
            " ...\n",
            " [  40    0    0 ...    0    0    0]\n",
            " [  28    0    0 ...    0   11    0]\n",
            " [  36    0    0 ...    0    0    0]]\n"
          ]
        }
      ]
    },
    {
      "cell_type": "markdown",
      "source": [
        "### Hyperparameter Tuning with GridSearchCV"
      ],
      "metadata": {
        "id": "vfzCenMS4GiC"
      }
    },
    {
      "cell_type": "code",
      "source": [
        "from sklearn.model_selection import GridSearchCV\n",
        "\n",
        "# 하이퍼파라미터 튜닝을 위한 그리드 서치 설정\n",
        "param_grid = {\n",
        "    'C': [1, 10, 100],\n",
        "    'gamma': [0.01, 0.1, 1.0],\n",
        "    'kernel': ['rbf']\n",
        "}"
      ],
      "metadata": {
        "id": "yJ26uc_q4JJo"
      },
      "execution_count": 47,
      "outputs": []
    },
    {
      "cell_type": "code",
      "source": [
        "# GridSearchCV 설정\n",
        "grid_search = GridSearchCV(SVC(decision_function_shape='ovo'), param_grid, cv=3, scoring='accuracy', verbose=2)\n",
        "grid_search.fit(X_train_scaled, y_train)"
      ],
      "metadata": {
        "colab": {
          "base_uri": "https://localhost:8080/",
          "height": 1000
        },
        "id": "0MT7Pyk44Lhd",
        "outputId": "320d796b-e9a6-40d9-f7ba-1c7d9ee55879"
      },
      "execution_count": 48,
      "outputs": [
        {
          "output_type": "stream",
          "name": "stdout",
          "text": [
            "Fitting 3 folds for each of 9 candidates, totalling 27 fits\n"
          ]
        },
        {
          "output_type": "stream",
          "name": "stderr",
          "text": [
            "/usr/local/lib/python3.10/dist-packages/sklearn/utils/validation.py:1143: DataConversionWarning: A column-vector y was passed when a 1d array was expected. Please change the shape of y to (n_samples, ), for example using ravel().\n",
            "  y = column_or_1d(y, warn=True)\n"
          ]
        },
        {
          "output_type": "stream",
          "name": "stdout",
          "text": [
            "[CV] END ........................C=1, gamma=0.01, kernel=rbf; total time=  52.6s\n"
          ]
        },
        {
          "output_type": "stream",
          "name": "stderr",
          "text": [
            "/usr/local/lib/python3.10/dist-packages/sklearn/utils/validation.py:1143: DataConversionWarning: A column-vector y was passed when a 1d array was expected. Please change the shape of y to (n_samples, ), for example using ravel().\n",
            "  y = column_or_1d(y, warn=True)\n"
          ]
        },
        {
          "output_type": "stream",
          "name": "stdout",
          "text": [
            "[CV] END ........................C=1, gamma=0.01, kernel=rbf; total time=  47.5s\n"
          ]
        },
        {
          "output_type": "stream",
          "name": "stderr",
          "text": [
            "/usr/local/lib/python3.10/dist-packages/sklearn/utils/validation.py:1143: DataConversionWarning: A column-vector y was passed when a 1d array was expected. Please change the shape of y to (n_samples, ), for example using ravel().\n",
            "  y = column_or_1d(y, warn=True)\n"
          ]
        },
        {
          "output_type": "stream",
          "name": "stdout",
          "text": [
            "[CV] END ........................C=1, gamma=0.01, kernel=rbf; total time=  48.3s\n"
          ]
        },
        {
          "output_type": "stream",
          "name": "stderr",
          "text": [
            "/usr/local/lib/python3.10/dist-packages/sklearn/utils/validation.py:1143: DataConversionWarning: A column-vector y was passed when a 1d array was expected. Please change the shape of y to (n_samples, ), for example using ravel().\n",
            "  y = column_or_1d(y, warn=True)\n"
          ]
        },
        {
          "output_type": "stream",
          "name": "stdout",
          "text": [
            "[CV] END .........................C=1, gamma=0.1, kernel=rbf; total time=  46.0s\n"
          ]
        },
        {
          "output_type": "stream",
          "name": "stderr",
          "text": [
            "/usr/local/lib/python3.10/dist-packages/sklearn/utils/validation.py:1143: DataConversionWarning: A column-vector y was passed when a 1d array was expected. Please change the shape of y to (n_samples, ), for example using ravel().\n",
            "  y = column_or_1d(y, warn=True)\n"
          ]
        },
        {
          "output_type": "stream",
          "name": "stdout",
          "text": [
            "[CV] END .........................C=1, gamma=0.1, kernel=rbf; total time=  46.0s\n"
          ]
        },
        {
          "output_type": "stream",
          "name": "stderr",
          "text": [
            "/usr/local/lib/python3.10/dist-packages/sklearn/utils/validation.py:1143: DataConversionWarning: A column-vector y was passed when a 1d array was expected. Please change the shape of y to (n_samples, ), for example using ravel().\n",
            "  y = column_or_1d(y, warn=True)\n"
          ]
        },
        {
          "output_type": "stream",
          "name": "stdout",
          "text": [
            "[CV] END .........................C=1, gamma=0.1, kernel=rbf; total time=  46.6s\n"
          ]
        },
        {
          "output_type": "stream",
          "name": "stderr",
          "text": [
            "/usr/local/lib/python3.10/dist-packages/sklearn/utils/validation.py:1143: DataConversionWarning: A column-vector y was passed when a 1d array was expected. Please change the shape of y to (n_samples, ), for example using ravel().\n",
            "  y = column_or_1d(y, warn=True)\n"
          ]
        },
        {
          "output_type": "stream",
          "name": "stdout",
          "text": [
            "[CV] END .........................C=1, gamma=1.0, kernel=rbf; total time= 2.9min\n"
          ]
        },
        {
          "output_type": "stream",
          "name": "stderr",
          "text": [
            "/usr/local/lib/python3.10/dist-packages/sklearn/utils/validation.py:1143: DataConversionWarning: A column-vector y was passed when a 1d array was expected. Please change the shape of y to (n_samples, ), for example using ravel().\n",
            "  y = column_or_1d(y, warn=True)\n"
          ]
        },
        {
          "output_type": "stream",
          "name": "stdout",
          "text": [
            "[CV] END .........................C=1, gamma=1.0, kernel=rbf; total time= 2.8min\n"
          ]
        },
        {
          "output_type": "stream",
          "name": "stderr",
          "text": [
            "/usr/local/lib/python3.10/dist-packages/sklearn/utils/validation.py:1143: DataConversionWarning: A column-vector y was passed when a 1d array was expected. Please change the shape of y to (n_samples, ), for example using ravel().\n",
            "  y = column_or_1d(y, warn=True)\n"
          ]
        },
        {
          "output_type": "stream",
          "name": "stdout",
          "text": [
            "[CV] END .........................C=1, gamma=1.0, kernel=rbf; total time= 2.7min\n"
          ]
        },
        {
          "output_type": "stream",
          "name": "stderr",
          "text": [
            "/usr/local/lib/python3.10/dist-packages/sklearn/utils/validation.py:1143: DataConversionWarning: A column-vector y was passed when a 1d array was expected. Please change the shape of y to (n_samples, ), for example using ravel().\n",
            "  y = column_or_1d(y, warn=True)\n"
          ]
        },
        {
          "output_type": "stream",
          "name": "stdout",
          "text": [
            "[CV] END .......................C=10, gamma=0.01, kernel=rbf; total time=  46.4s\n"
          ]
        },
        {
          "output_type": "stream",
          "name": "stderr",
          "text": [
            "/usr/local/lib/python3.10/dist-packages/sklearn/utils/validation.py:1143: DataConversionWarning: A column-vector y was passed when a 1d array was expected. Please change the shape of y to (n_samples, ), for example using ravel().\n",
            "  y = column_or_1d(y, warn=True)\n"
          ]
        },
        {
          "output_type": "stream",
          "name": "stdout",
          "text": [
            "[CV] END .......................C=10, gamma=0.01, kernel=rbf; total time=  46.3s\n"
          ]
        },
        {
          "output_type": "stream",
          "name": "stderr",
          "text": [
            "/usr/local/lib/python3.10/dist-packages/sklearn/utils/validation.py:1143: DataConversionWarning: A column-vector y was passed when a 1d array was expected. Please change the shape of y to (n_samples, ), for example using ravel().\n",
            "  y = column_or_1d(y, warn=True)\n"
          ]
        },
        {
          "output_type": "stream",
          "name": "stdout",
          "text": [
            "[CV] END .......................C=10, gamma=0.01, kernel=rbf; total time=  45.7s\n"
          ]
        },
        {
          "output_type": "stream",
          "name": "stderr",
          "text": [
            "/usr/local/lib/python3.10/dist-packages/sklearn/utils/validation.py:1143: DataConversionWarning: A column-vector y was passed when a 1d array was expected. Please change the shape of y to (n_samples, ), for example using ravel().\n",
            "  y = column_or_1d(y, warn=True)\n"
          ]
        },
        {
          "output_type": "stream",
          "name": "stdout",
          "text": [
            "[CV] END ........................C=10, gamma=0.1, kernel=rbf; total time=  44.6s\n"
          ]
        },
        {
          "output_type": "stream",
          "name": "stderr",
          "text": [
            "/usr/local/lib/python3.10/dist-packages/sklearn/utils/validation.py:1143: DataConversionWarning: A column-vector y was passed when a 1d array was expected. Please change the shape of y to (n_samples, ), for example using ravel().\n",
            "  y = column_or_1d(y, warn=True)\n"
          ]
        },
        {
          "output_type": "stream",
          "name": "stdout",
          "text": [
            "[CV] END ........................C=10, gamma=0.1, kernel=rbf; total time=  45.3s\n"
          ]
        },
        {
          "output_type": "stream",
          "name": "stderr",
          "text": [
            "/usr/local/lib/python3.10/dist-packages/sklearn/utils/validation.py:1143: DataConversionWarning: A column-vector y was passed when a 1d array was expected. Please change the shape of y to (n_samples, ), for example using ravel().\n",
            "  y = column_or_1d(y, warn=True)\n"
          ]
        },
        {
          "output_type": "stream",
          "name": "stdout",
          "text": [
            "[CV] END ........................C=10, gamma=0.1, kernel=rbf; total time=  42.2s\n"
          ]
        },
        {
          "output_type": "stream",
          "name": "stderr",
          "text": [
            "/usr/local/lib/python3.10/dist-packages/sklearn/utils/validation.py:1143: DataConversionWarning: A column-vector y was passed when a 1d array was expected. Please change the shape of y to (n_samples, ), for example using ravel().\n",
            "  y = column_or_1d(y, warn=True)\n"
          ]
        },
        {
          "output_type": "stream",
          "name": "stdout",
          "text": [
            "[CV] END ........................C=10, gamma=1.0, kernel=rbf; total time= 2.6min\n"
          ]
        },
        {
          "output_type": "stream",
          "name": "stderr",
          "text": [
            "/usr/local/lib/python3.10/dist-packages/sklearn/utils/validation.py:1143: DataConversionWarning: A column-vector y was passed when a 1d array was expected. Please change the shape of y to (n_samples, ), for example using ravel().\n",
            "  y = column_or_1d(y, warn=True)\n"
          ]
        },
        {
          "output_type": "stream",
          "name": "stdout",
          "text": [
            "[CV] END ........................C=10, gamma=1.0, kernel=rbf; total time= 2.7min\n"
          ]
        },
        {
          "output_type": "stream",
          "name": "stderr",
          "text": [
            "/usr/local/lib/python3.10/dist-packages/sklearn/utils/validation.py:1143: DataConversionWarning: A column-vector y was passed when a 1d array was expected. Please change the shape of y to (n_samples, ), for example using ravel().\n",
            "  y = column_or_1d(y, warn=True)\n"
          ]
        },
        {
          "output_type": "stream",
          "name": "stdout",
          "text": [
            "[CV] END ........................C=10, gamma=1.0, kernel=rbf; total time= 2.5min\n"
          ]
        },
        {
          "output_type": "stream",
          "name": "stderr",
          "text": [
            "/usr/local/lib/python3.10/dist-packages/sklearn/utils/validation.py:1143: DataConversionWarning: A column-vector y was passed when a 1d array was expected. Please change the shape of y to (n_samples, ), for example using ravel().\n",
            "  y = column_or_1d(y, warn=True)\n"
          ]
        },
        {
          "output_type": "stream",
          "name": "stdout",
          "text": [
            "[CV] END ......................C=100, gamma=0.01, kernel=rbf; total time=  47.8s\n"
          ]
        },
        {
          "output_type": "stream",
          "name": "stderr",
          "text": [
            "/usr/local/lib/python3.10/dist-packages/sklearn/utils/validation.py:1143: DataConversionWarning: A column-vector y was passed when a 1d array was expected. Please change the shape of y to (n_samples, ), for example using ravel().\n",
            "  y = column_or_1d(y, warn=True)\n"
          ]
        },
        {
          "output_type": "stream",
          "name": "stdout",
          "text": [
            "[CV] END ......................C=100, gamma=0.01, kernel=rbf; total time=  46.6s\n"
          ]
        },
        {
          "output_type": "stream",
          "name": "stderr",
          "text": [
            "/usr/local/lib/python3.10/dist-packages/sklearn/utils/validation.py:1143: DataConversionWarning: A column-vector y was passed when a 1d array was expected. Please change the shape of y to (n_samples, ), for example using ravel().\n",
            "  y = column_or_1d(y, warn=True)\n"
          ]
        },
        {
          "output_type": "stream",
          "name": "stdout",
          "text": [
            "[CV] END ......................C=100, gamma=0.01, kernel=rbf; total time=  46.5s\n"
          ]
        },
        {
          "output_type": "stream",
          "name": "stderr",
          "text": [
            "/usr/local/lib/python3.10/dist-packages/sklearn/utils/validation.py:1143: DataConversionWarning: A column-vector y was passed when a 1d array was expected. Please change the shape of y to (n_samples, ), for example using ravel().\n",
            "  y = column_or_1d(y, warn=True)\n"
          ]
        },
        {
          "output_type": "stream",
          "name": "stdout",
          "text": [
            "[CV] END .......................C=100, gamma=0.1, kernel=rbf; total time=  42.6s\n"
          ]
        },
        {
          "output_type": "stream",
          "name": "stderr",
          "text": [
            "/usr/local/lib/python3.10/dist-packages/sklearn/utils/validation.py:1143: DataConversionWarning: A column-vector y was passed when a 1d array was expected. Please change the shape of y to (n_samples, ), for example using ravel().\n",
            "  y = column_or_1d(y, warn=True)\n"
          ]
        },
        {
          "output_type": "stream",
          "name": "stdout",
          "text": [
            "[CV] END .......................C=100, gamma=0.1, kernel=rbf; total time=  44.3s\n"
          ]
        },
        {
          "output_type": "stream",
          "name": "stderr",
          "text": [
            "/usr/local/lib/python3.10/dist-packages/sklearn/utils/validation.py:1143: DataConversionWarning: A column-vector y was passed when a 1d array was expected. Please change the shape of y to (n_samples, ), for example using ravel().\n",
            "  y = column_or_1d(y, warn=True)\n"
          ]
        },
        {
          "output_type": "stream",
          "name": "stdout",
          "text": [
            "[CV] END .......................C=100, gamma=0.1, kernel=rbf; total time=  42.8s\n"
          ]
        },
        {
          "output_type": "stream",
          "name": "stderr",
          "text": [
            "/usr/local/lib/python3.10/dist-packages/sklearn/utils/validation.py:1143: DataConversionWarning: A column-vector y was passed when a 1d array was expected. Please change the shape of y to (n_samples, ), for example using ravel().\n",
            "  y = column_or_1d(y, warn=True)\n"
          ]
        },
        {
          "output_type": "stream",
          "name": "stdout",
          "text": [
            "[CV] END .......................C=100, gamma=1.0, kernel=rbf; total time= 2.5min\n"
          ]
        },
        {
          "output_type": "stream",
          "name": "stderr",
          "text": [
            "/usr/local/lib/python3.10/dist-packages/sklearn/utils/validation.py:1143: DataConversionWarning: A column-vector y was passed when a 1d array was expected. Please change the shape of y to (n_samples, ), for example using ravel().\n",
            "  y = column_or_1d(y, warn=True)\n"
          ]
        },
        {
          "output_type": "stream",
          "name": "stdout",
          "text": [
            "[CV] END .......................C=100, gamma=1.0, kernel=rbf; total time= 2.5min\n"
          ]
        },
        {
          "output_type": "stream",
          "name": "stderr",
          "text": [
            "/usr/local/lib/python3.10/dist-packages/sklearn/utils/validation.py:1143: DataConversionWarning: A column-vector y was passed when a 1d array was expected. Please change the shape of y to (n_samples, ), for example using ravel().\n",
            "  y = column_or_1d(y, warn=True)\n"
          ]
        },
        {
          "output_type": "stream",
          "name": "stdout",
          "text": [
            "[CV] END .......................C=100, gamma=1.0, kernel=rbf; total time= 2.4min\n"
          ]
        },
        {
          "output_type": "stream",
          "name": "stderr",
          "text": [
            "/usr/local/lib/python3.10/dist-packages/sklearn/utils/validation.py:1143: DataConversionWarning: A column-vector y was passed when a 1d array was expected. Please change the shape of y to (n_samples, ), for example using ravel().\n",
            "  y = column_or_1d(y, warn=True)\n"
          ]
        },
        {
          "output_type": "execute_result",
          "data": {
            "text/plain": [
              "GridSearchCV(cv=3, estimator=SVC(decision_function_shape='ovo'),\n",
              "             param_grid={'C': [1, 10, 100], 'gamma': [0.01, 0.1, 1.0],\n",
              "                         'kernel': ['rbf']},\n",
              "             scoring='accuracy', verbose=2)"
            ],
            "text/html": [
              "<style>#sk-container-id-6 {color: black;background-color: white;}#sk-container-id-6 pre{padding: 0;}#sk-container-id-6 div.sk-toggleable {background-color: white;}#sk-container-id-6 label.sk-toggleable__label {cursor: pointer;display: block;width: 100%;margin-bottom: 0;padding: 0.3em;box-sizing: border-box;text-align: center;}#sk-container-id-6 label.sk-toggleable__label-arrow:before {content: \"▸\";float: left;margin-right: 0.25em;color: #696969;}#sk-container-id-6 label.sk-toggleable__label-arrow:hover:before {color: black;}#sk-container-id-6 div.sk-estimator:hover label.sk-toggleable__label-arrow:before {color: black;}#sk-container-id-6 div.sk-toggleable__content {max-height: 0;max-width: 0;overflow: hidden;text-align: left;background-color: #f0f8ff;}#sk-container-id-6 div.sk-toggleable__content pre {margin: 0.2em;color: black;border-radius: 0.25em;background-color: #f0f8ff;}#sk-container-id-6 input.sk-toggleable__control:checked~div.sk-toggleable__content {max-height: 200px;max-width: 100%;overflow: auto;}#sk-container-id-6 input.sk-toggleable__control:checked~label.sk-toggleable__label-arrow:before {content: \"▾\";}#sk-container-id-6 div.sk-estimator input.sk-toggleable__control:checked~label.sk-toggleable__label {background-color: #d4ebff;}#sk-container-id-6 div.sk-label input.sk-toggleable__control:checked~label.sk-toggleable__label {background-color: #d4ebff;}#sk-container-id-6 input.sk-hidden--visually {border: 0;clip: rect(1px 1px 1px 1px);clip: rect(1px, 1px, 1px, 1px);height: 1px;margin: -1px;overflow: hidden;padding: 0;position: absolute;width: 1px;}#sk-container-id-6 div.sk-estimator {font-family: monospace;background-color: #f0f8ff;border: 1px dotted black;border-radius: 0.25em;box-sizing: border-box;margin-bottom: 0.5em;}#sk-container-id-6 div.sk-estimator:hover {background-color: #d4ebff;}#sk-container-id-6 div.sk-parallel-item::after {content: \"\";width: 100%;border-bottom: 1px solid gray;flex-grow: 1;}#sk-container-id-6 div.sk-label:hover label.sk-toggleable__label {background-color: #d4ebff;}#sk-container-id-6 div.sk-serial::before {content: \"\";position: absolute;border-left: 1px solid gray;box-sizing: border-box;top: 0;bottom: 0;left: 50%;z-index: 0;}#sk-container-id-6 div.sk-serial {display: flex;flex-direction: column;align-items: center;background-color: white;padding-right: 0.2em;padding-left: 0.2em;position: relative;}#sk-container-id-6 div.sk-item {position: relative;z-index: 1;}#sk-container-id-6 div.sk-parallel {display: flex;align-items: stretch;justify-content: center;background-color: white;position: relative;}#sk-container-id-6 div.sk-item::before, #sk-container-id-6 div.sk-parallel-item::before {content: \"\";position: absolute;border-left: 1px solid gray;box-sizing: border-box;top: 0;bottom: 0;left: 50%;z-index: -1;}#sk-container-id-6 div.sk-parallel-item {display: flex;flex-direction: column;z-index: 1;position: relative;background-color: white;}#sk-container-id-6 div.sk-parallel-item:first-child::after {align-self: flex-end;width: 50%;}#sk-container-id-6 div.sk-parallel-item:last-child::after {align-self: flex-start;width: 50%;}#sk-container-id-6 div.sk-parallel-item:only-child::after {width: 0;}#sk-container-id-6 div.sk-dashed-wrapped {border: 1px dashed gray;margin: 0 0.4em 0.5em 0.4em;box-sizing: border-box;padding-bottom: 0.4em;background-color: white;}#sk-container-id-6 div.sk-label label {font-family: monospace;font-weight: bold;display: inline-block;line-height: 1.2em;}#sk-container-id-6 div.sk-label-container {text-align: center;}#sk-container-id-6 div.sk-container {/* jupyter's `normalize.less` sets `[hidden] { display: none; }` but bootstrap.min.css set `[hidden] { display: none !important; }` so we also need the `!important` here to be able to override the default hidden behavior on the sphinx rendered scikit-learn.org. See: https://github.com/scikit-learn/scikit-learn/issues/21755 */display: inline-block !important;position: relative;}#sk-container-id-6 div.sk-text-repr-fallback {display: none;}</style><div id=\"sk-container-id-6\" class=\"sk-top-container\"><div class=\"sk-text-repr-fallback\"><pre>GridSearchCV(cv=3, estimator=SVC(decision_function_shape=&#x27;ovo&#x27;),\n",
              "             param_grid={&#x27;C&#x27;: [1, 10, 100], &#x27;gamma&#x27;: [0.01, 0.1, 1.0],\n",
              "                         &#x27;kernel&#x27;: [&#x27;rbf&#x27;]},\n",
              "             scoring=&#x27;accuracy&#x27;, verbose=2)</pre><b>In a Jupyter environment, please rerun this cell to show the HTML representation or trust the notebook. <br />On GitHub, the HTML representation is unable to render, please try loading this page with nbviewer.org.</b></div><div class=\"sk-container\" hidden><div class=\"sk-item sk-dashed-wrapped\"><div class=\"sk-label-container\"><div class=\"sk-label sk-toggleable\"><input class=\"sk-toggleable__control sk-hidden--visually\" id=\"sk-estimator-id-6\" type=\"checkbox\" ><label for=\"sk-estimator-id-6\" class=\"sk-toggleable__label sk-toggleable__label-arrow\">GridSearchCV</label><div class=\"sk-toggleable__content\"><pre>GridSearchCV(cv=3, estimator=SVC(decision_function_shape=&#x27;ovo&#x27;),\n",
              "             param_grid={&#x27;C&#x27;: [1, 10, 100], &#x27;gamma&#x27;: [0.01, 0.1, 1.0],\n",
              "                         &#x27;kernel&#x27;: [&#x27;rbf&#x27;]},\n",
              "             scoring=&#x27;accuracy&#x27;, verbose=2)</pre></div></div></div><div class=\"sk-parallel\"><div class=\"sk-parallel-item\"><div class=\"sk-item\"><div class=\"sk-label-container\"><div class=\"sk-label sk-toggleable\"><input class=\"sk-toggleable__control sk-hidden--visually\" id=\"sk-estimator-id-7\" type=\"checkbox\" ><label for=\"sk-estimator-id-7\" class=\"sk-toggleable__label sk-toggleable__label-arrow\">estimator: SVC</label><div class=\"sk-toggleable__content\"><pre>SVC(decision_function_shape=&#x27;ovo&#x27;)</pre></div></div></div><div class=\"sk-serial\"><div class=\"sk-item\"><div class=\"sk-estimator sk-toggleable\"><input class=\"sk-toggleable__control sk-hidden--visually\" id=\"sk-estimator-id-8\" type=\"checkbox\" ><label for=\"sk-estimator-id-8\" class=\"sk-toggleable__label sk-toggleable__label-arrow\">SVC</label><div class=\"sk-toggleable__content\"><pre>SVC(decision_function_shape=&#x27;ovo&#x27;)</pre></div></div></div></div></div></div></div></div></div></div>"
            ]
          },
          "metadata": {},
          "execution_count": 48
        }
      ]
    },
    {
      "cell_type": "code",
      "source": [
        "print(f\"Best parameters: {grid_search.best_params_}\")\n",
        "best_svm_model = grid_search.best_estimator_"
      ],
      "metadata": {
        "colab": {
          "base_uri": "https://localhost:8080/"
        },
        "id": "roUK34RIA_3-",
        "outputId": "2df24b45-89d3-44e4-93a0-860e8a8896e4"
      },
      "execution_count": 50,
      "outputs": [
        {
          "output_type": "stream",
          "name": "stdout",
          "text": [
            "Best parameters: {'C': 100, 'gamma': 0.1, 'kernel': 'rbf'}\n"
          ]
        }
      ]
    },
    {
      "cell_type": "code",
      "source": [
        "# Predicting with the best model on test data\n",
        "y_pred = best_svm_model.predict(X_test_scaled)"
      ],
      "metadata": {
        "id": "vS0Hgs_NBRJL"
      },
      "execution_count": 51,
      "outputs": []
    },
    {
      "cell_type": "code",
      "source": [
        "# Evaluation with the best parameters\n",
        "acc = accuracy_score(y_test, y_pred)\n",
        "print(f\"Accuracy with best parameters: {acc}\")\n",
        "\n",
        "conf_matrix = confusion_matrix(y_test, y_pred)\n",
        "print(f\"Confusion Matrix with best parameters\\n {conf_matrix}\")"
      ],
      "metadata": {
        "colab": {
          "base_uri": "https://localhost:8080/"
        },
        "id": "d_IIL41IBVXn",
        "outputId": "834ec8e9-1288-41f8-b217-d6f73b445dec"
      },
      "execution_count": 52,
      "outputs": [
        {
          "output_type": "stream",
          "name": "stdout",
          "text": [
            "Accuracy with best parameters: 0.6994827586206896\n",
            "Confusion Matrix with best parameters\n",
            " [[1624    2    5 ...    4    1    3]\n",
            " [  13   17    0 ...    0    0    0]\n",
            " [  12    0   18 ...    0    0    0]\n",
            " ...\n",
            " [  20    0    0 ...    9    0    0]\n",
            " [   2    0    0 ...    0   37    0]\n",
            " [   9    0    0 ...    0    0   23]]\n"
          ]
        }
      ]
    },
    {
      "cell_type": "markdown",
      "source": [
        "### Evaluation Metrics"
      ],
      "metadata": {
        "id": "9-DdAfw9BeRT"
      }
    },
    {
      "cell_type": "code",
      "source": [
        "from sklearn.metrics import precision_score, recall_score, roc_auc_score, roc_curve, precision_recall_curve, auc\n",
        "import matplotlib.pyplot as plt"
      ],
      "metadata": {
        "id": "RQY2rMvFt41_"
      },
      "execution_count": 53,
      "outputs": []
    },
    {
      "cell_type": "code",
      "source": [
        "# Calculating Precision and Recall\n",
        "precision = precision_score(y_test, y_pred, average='weighted')\n",
        "recall = recall_score(y_test, y_pred, average='weighted')"
      ],
      "metadata": {
        "id": "-tZDzMV2t6tF"
      },
      "execution_count": 54,
      "outputs": []
    },
    {
      "cell_type": "code",
      "source": [
        "print(f\"Precision: {precision}\")\n",
        "print(f\"Recall: {recall}\")"
      ],
      "metadata": {
        "colab": {
          "base_uri": "https://localhost:8080/"
        },
        "id": "_KQhnrwGt83b",
        "outputId": "a1e7fe19-7864-4f1f-c815-bde5979d763d"
      },
      "execution_count": 55,
      "outputs": [
        {
          "output_type": "stream",
          "name": "stdout",
          "text": [
            "Precision: 0.7024073828645697\n",
            "Recall: 0.6994827586206896\n"
          ]
        }
      ]
    },
    {
      "cell_type": "code",
      "source": [
        "from sklearn.metrics import confusion_matrix, classification_report, roc_curve, auc, precision_recall_curve\n",
        "import matplotlib.pyplot as plt\n",
        "\n",
        "# Classification Report\n",
        "class_report = classification_report(y_test, y_pred)\n",
        "print(\"Classification Report:\\n\", class_report)"
      ],
      "metadata": {
        "colab": {
          "base_uri": "https://localhost:8080/"
        },
        "id": "ek50pndAuAQ7",
        "outputId": "93b2d091-081e-465e-a5fc-11b126cafd67"
      },
      "execution_count": 56,
      "outputs": [
        {
          "output_type": "stream",
          "name": "stdout",
          "text": [
            "Classification Report:\n",
            "               precision    recall  f1-score   support\n",
            "\n",
            "          -1       0.68      0.84      0.75      1932\n",
            "           0       0.59      0.39      0.47        44\n",
            "           1       0.78      0.40      0.53        45\n",
            "           2       0.77      0.63      0.69        43\n",
            "           3       0.68      0.64      0.66        36\n",
            "           4       0.68      0.56      0.62        50\n",
            "           5       0.69      0.82      0.75        38\n",
            "           6       0.71      0.77      0.74        52\n",
            "           7       0.68      0.73      0.71        41\n",
            "           8       0.66      0.56      0.61        41\n",
            "           9       0.87      0.66      0.75        50\n",
            "          10       0.75      0.51      0.61        41\n",
            "          11       0.66      0.54      0.59        35\n",
            "          12       0.78      0.91      0.84        47\n",
            "          13       0.56      0.28      0.37        36\n",
            "          14       0.55      0.36      0.44        47\n",
            "          15       0.53      0.41      0.46        44\n",
            "          16       0.71      0.77      0.74        48\n",
            "          17       0.53      0.40      0.45        25\n",
            "          18       0.83      0.83      0.83        36\n",
            "          19       0.56      0.61      0.58        31\n",
            "          20       0.93      0.93      0.93        42\n",
            "          21       0.72      0.48      0.58        44\n",
            "          22       0.67      0.55      0.60        44\n",
            "          23       0.51      0.62      0.56        34\n",
            "          24       0.45      0.28      0.34        54\n",
            "          25       0.71      0.50      0.59        50\n",
            "          26       0.67      0.69      0.68        35\n",
            "          27       0.73      0.63      0.68        43\n",
            "          28       0.91      0.70      0.79        43\n",
            "          29       0.67      0.63      0.65        41\n",
            "          30       0.71      0.85      0.77        40\n",
            "          31       0.53      0.50      0.52        32\n",
            "          32       0.63      0.61      0.62        44\n",
            "          33       0.77      0.73      0.75        51\n",
            "          34       0.85      0.44      0.58        52\n",
            "          35       0.87      0.79      0.83        43\n",
            "          36       0.77      0.87      0.81        38\n",
            "          37       0.58      0.41      0.48        34\n",
            "          38       0.56      0.66      0.60        38\n",
            "          39       0.85      0.62      0.72        37\n",
            "          40       0.68      0.41      0.52        41\n",
            "          41       0.78      0.90      0.84        40\n",
            "          42       0.72      0.64      0.67        44\n",
            "          43       0.67      0.47      0.55        34\n",
            "          44       0.75      0.87      0.80        38\n",
            "          45       0.70      0.49      0.58        39\n",
            "          46       0.71      0.34      0.46        44\n",
            "          47       0.62      0.53      0.57        38\n",
            "          48       0.77      0.47      0.59        36\n",
            "          49       0.62      0.71      0.67        35\n",
            "          50       0.80      0.80      0.80        41\n",
            "          51       0.54      0.54      0.54        35\n",
            "          52       0.71      0.63      0.67        43\n",
            "          53       0.79      0.73      0.76        41\n",
            "          54       0.85      0.64      0.73        44\n",
            "          55       0.76      0.47      0.58        40\n",
            "          56       0.78      0.90      0.84        31\n",
            "          57       0.74      0.60      0.66        42\n",
            "          58       0.71      0.81      0.76        43\n",
            "          59       0.88      0.76      0.81        37\n",
            "          60       0.77      0.70      0.73        43\n",
            "          61       0.61      0.77      0.68        30\n",
            "          62       0.69      0.69      0.69        42\n",
            "          63       0.58      0.51      0.54        37\n",
            "          64       0.72      0.80      0.76        35\n",
            "          65       0.61      0.70      0.65        33\n",
            "          66       0.80      0.62      0.70        39\n",
            "          67       0.59      0.67      0.63        33\n",
            "          68       0.59      0.52      0.55        46\n",
            "          69       0.71      0.47      0.56        43\n",
            "          70       0.94      0.86      0.90        51\n",
            "          71       0.74      0.54      0.63        48\n",
            "          72       0.73      0.57      0.64        42\n",
            "          73       0.67      0.90      0.76        29\n",
            "          74       0.76      0.57      0.65        56\n",
            "          75       0.76      0.71      0.74        45\n",
            "          76       0.77      0.79      0.78        43\n",
            "          77       0.54      0.41      0.47        34\n",
            "          78       0.53      0.62      0.57        37\n",
            "          79       0.78      0.72      0.75        39\n",
            "          80       0.84      0.78      0.81        41\n",
            "          81       0.80      0.50      0.62        56\n",
            "          82       0.88      0.72      0.79        40\n",
            "          83       0.72      0.67      0.70        43\n",
            "          84       0.70      0.84      0.76        31\n",
            "          85       0.80      0.79      0.80        42\n",
            "          86       0.83      0.86      0.84        44\n",
            "          87       0.77      0.69      0.73        35\n",
            "          88       0.73      0.71      0.72        34\n",
            "          89       0.56      0.47      0.51        43\n",
            "          90       0.88      0.77      0.82        39\n",
            "          91       0.67      0.41      0.51        39\n",
            "          92       0.47      0.23      0.31        40\n",
            "          93       0.95      0.84      0.89        44\n",
            "          94       0.66      0.62      0.64        37\n",
            "\n",
            "    accuracy                           0.70      5800\n",
            "   macro avg       0.71      0.63      0.66      5800\n",
            "weighted avg       0.70      0.70      0.69      5800\n",
            "\n"
          ]
        }
      ]
    },
    {
      "cell_type": "code",
      "source": [
        "from sklearn.metrics import classification_report\n",
        "import matplotlib.pyplot as plt\n",
        "import pandas as pd\n",
        "\n",
        "\n",
        "data = []\n",
        "lines = class_report.split('\\n')\n",
        "for line in lines[2:-5]:\n",
        "    row = line.strip().split()\n",
        "    class_name = row[0]\n",
        "    precision = float(row[1])\n",
        "    recall = float(row[2])\n",
        "    f1_score = float(row[3])\n",
        "    data.append([class_name, precision, recall, f1_score])\n",
        "\n",
        "\n",
        "df = pd.DataFrame(data, columns=['Class', 'Precision', 'Recall', 'F1-score'])\n",
        "\n",
        "plt.figure(figsize=(50, 6))\n",
        "\n",
        "# Precision\n",
        "plt.subplot(1, 3, 1)\n",
        "plt.bar(df['Class'], df['Precision'])\n",
        "plt.title('Precision')\n",
        "plt.xlabel('Class')\n",
        "plt.ylabel('Precision')"
      ],
      "metadata": {
        "colab": {
          "base_uri": "https://localhost:8080/",
          "height": 375
        },
        "id": "gYnJNxFTuDGw",
        "outputId": "53699036-6af0-4b32-a2ec-d698b10ce425"
      },
      "execution_count": 57,
      "outputs": [
        {
          "output_type": "execute_result",
          "data": {
            "text/plain": [
              "Text(0, 0.5, 'Precision')"
            ]
          },
          "metadata": {},
          "execution_count": 57
        },
        {
          "output_type": "display_data",
          "data": {
            "text/plain": [
              "<Figure size 5000x600 with 1 Axes>"
            ],
            "image/png": "[encoded data removed]"
          },
          "metadata": {}
        }
      ]
    },
    {
      "cell_type": "code",
      "source": [
        "plt.figure(figsize=(50, 6))\n",
        "\n",
        "# Recall\n",
        "plt.subplot(1, 3, 2)\n",
        "plt.bar(df['Class'], df['Recall'])\n",
        "plt.title('Recall')\n",
        "plt.xlabel('Class')\n",
        "plt.ylabel('Recall')"
      ],
      "metadata": {
        "colab": {
          "base_uri": "https://localhost:8080/",
          "height": 375
        },
        "id": "XoC1q_3CuHRF",
        "outputId": "8792db44-ee7e-4ec4-af42-558e8da6c252"
      },
      "execution_count": 58,
      "outputs": [
        {
          "output_type": "execute_result",
          "data": {
            "text/plain": [
              "Text(0, 0.5, 'Recall')"
            ]
          },
          "metadata": {},
          "execution_count": 58
        },
        {
          "output_type": "display_data",
          "data": {
            "text/plain": [
              "<Figure size 5000x600 with 1 Axes>"
            ],
            "image/png": "[encoded data removed]"
          },
          "metadata": {}
        }
      ]
    },
    {
      "cell_type": "code",
      "source": [
        "plt.figure(figsize=(50, 6))\n",
        "\n",
        "# F1-score\n",
        "plt.subplot(1, 3, 3)\n",
        "plt.bar(df['Class'], df['F1-score'])\n",
        "plt.title('F1-score')\n",
        "plt.xlabel('Class')\n",
        "plt.ylabel('F1-score')\n",
        "\n",
        "plt.tight_layout()\n",
        "plt.show()"
      ],
      "metadata": {
        "colab": {
          "base_uri": "https://localhost:8080/",
          "height": 281
        },
        "id": "6aoAkcyHuM31",
        "outputId": "c66685d4-bbf6-436b-d8c1-abb1b8141c94"
      },
      "execution_count": 59,
      "outputs": [
        {
          "output_type": "display_data",
          "data": {
            "text/plain": [
              "<Figure size 5000x600 with 1 Axes>"
            ],
            "image/png": "[encoded data removed]"
          },
          "metadata": {}
        }
      ]
    }
  ]
}