{
  "nbformat": 4,
  "nbformat_minor": 0,
  "metadata": {
    "colab": {
      "provenance": []
    },
    "kernelspec": {
      "name": "python3",
      "display_name": "Python 3"
    },
    "language_info": {
      "name": "python"
    }
  },
  "cells": [
    {
      "cell_type": "markdown",
      "source": [
        "# Import Data"
      ],
      "metadata": {
        "id": "0tkE9L0MueoP"
      }
    },
    {
      "cell_type": "code",
      "execution_count": 2,
      "metadata": {
        "colab": {
          "base_uri": "https://localhost:8080/"
        },
        "id": "AAQQVkAH58zt",
        "outputId": "6316083d-df48-44c7-811a-c534d7522ae8"
      },
      "outputs": [
        {
          "output_type": "stream",
          "name": "stdout",
          "text": [
            "Mounted at /content/drive\n"
          ]
        }
      ],
      "source": [
        "from google.colab import drive\n",
        "drive.mount('/content/drive')"
      ]
    },
    {
      "cell_type": "code",
      "source": [
        "import pandas as pd\n",
        "\n",
        "mon_features = pd.read_csv('/content/drive/MyDrive/Machine_Learning/mon_features_modified.csv')\n",
        "mon_labels = pd.read_csv('/content/drive/MyDrive/Machine_Learning/mon_labels.csv')\n",
        "\n",
        "unmon_features = pd.read_csv('/content/drive/MyDrive/Machine_Learning/unmon_features_modified.csv')\n",
        "unmon_labels = pd.read_csv('/content/drive/MyDrive/Machine_Learning/unmon_labels.csv')"
      ],
      "metadata": {
        "id": "q_ZAN2Fr6WOg"
      },
      "execution_count": 3,
      "outputs": []
    },
    {
      "cell_type": "code",
      "source": [
        "features = pd.concat([mon_features, unmon_features], axis=0, ignore_index=True)\n",
        "labels = pd.concat([mon_labels, unmon_labels], axis=0, ignore_index=True)"
      ],
      "metadata": {
        "id": "HSkwN8VyROKL"
      },
      "execution_count": 4,
      "outputs": []
    },
    {
      "cell_type": "markdown",
      "source": [
        "# Building Decision Tree Model"
      ],
      "metadata": {
        "id": "amcLlakJumqU"
      }
    },
    {
      "cell_type": "code",
      "source": [
        "from sklearn.model_selection import train_test_split\n",
        "from sklearn.preprocessing import StandardScaler\n",
        "\n",
        "def scaler_samples(train_X,test_X):\n",
        "  scaler = StandardScaler()\n",
        "  train_X = scaler.fit_transform(train_X)\n",
        "  test_X = scaler.transform(test_X)\n",
        "\n",
        "X, y = features, labels\n",
        "\n",
        "X_train, X_test, y_train, y_test = train_test_split(\n",
        "    X, y, test_size=0.2, random_state=1\n",
        ")"
      ],
      "metadata": {
        "id": "VRDakMeD6WS6"
      },
      "execution_count": 5,
      "outputs": []
    },
    {
      "cell_type": "code",
      "source": [
        "from sklearn.tree import DecisionTreeClassifier\n",
        "\n",
        "dt_multi = DecisionTreeClassifier(random_state=1)\n",
        "dt_multi.fit(X_train, y_train)"
      ],
      "metadata": {
        "colab": {
          "base_uri": "https://localhost:8080/",
          "height": 75
        },
        "id": "E9BgW--s6WVO",
        "outputId": "94a854ae-2097-4a4b-e2ad-0bde5fdc7e32"
      },
      "execution_count": 6,
      "outputs": [
        {
          "output_type": "execute_result",
          "data": {
            "text/plain": [
              "DecisionTreeClassifier(random_state=1)"
            ],
            "text/html": [
              "<style>#sk-container-id-1 {color: black;background-color: white;}#sk-container-id-1 pre{padding: 0;}#sk-container-id-1 div.sk-toggleable {background-color: white;}#sk-container-id-1 label.sk-toggleable__label {cursor: pointer;display: block;width: 100%;margin-bottom: 0;padding: 0.3em;box-sizing: border-box;text-align: center;}#sk-container-id-1 label.sk-toggleable__label-arrow:before {content: \"▸\";float: left;margin-right: 0.25em;color: #696969;}#sk-container-id-1 label.sk-toggleable__label-arrow:hover:before {color: black;}#sk-container-id-1 div.sk-estimator:hover label.sk-toggleable__label-arrow:before {color: black;}#sk-container-id-1 div.sk-toggleable__content {max-height: 0;max-width: 0;overflow: hidden;text-align: left;background-color: #f0f8ff;}#sk-container-id-1 div.sk-toggleable__content pre {margin: 0.2em;color: black;border-radius: 0.25em;background-color: #f0f8ff;}#sk-container-id-1 input.sk-toggleable__control:checked~div.sk-toggleable__content {max-height: 200px;max-width: 100%;overflow: auto;}#sk-container-id-1 input.sk-toggleable__control:checked~label.sk-toggleable__label-arrow:before {content: \"▾\";}#sk-container-id-1 div.sk-estimator input.sk-toggleable__control:checked~label.sk-toggleable__label {background-color: #d4ebff;}#sk-container-id-1 div.sk-label input.sk-toggleable__control:checked~label.sk-toggleable__label {background-color: #d4ebff;}#sk-container-id-1 input.sk-hidden--visually {border: 0;clip: rect(1px 1px 1px 1px);clip: rect(1px, 1px, 1px, 1px);height: 1px;margin: -1px;overflow: hidden;padding: 0;position: absolute;width: 1px;}#sk-container-id-1 div.sk-estimator {font-family: monospace;background-color: #f0f8ff;border: 1px dotted black;border-radius: 0.25em;box-sizing: border-box;margin-bottom: 0.5em;}#sk-container-id-1 div.sk-estimator:hover {background-color: #d4ebff;}#sk-container-id-1 div.sk-parallel-item::after {content: \"\";width: 100%;border-bottom: 1px solid gray;flex-grow: 1;}#sk-container-id-1 div.sk-label:hover label.sk-toggleable__label {background-color: #d4ebff;}#sk-container-id-1 div.sk-serial::before {content: \"\";position: absolute;border-left: 1px solid gray;box-sizing: border-box;top: 0;bottom: 0;left: 50%;z-index: 0;}#sk-container-id-1 div.sk-serial {display: flex;flex-direction: column;align-items: center;background-color: white;padding-right: 0.2em;padding-left: 0.2em;position: relative;}#sk-container-id-1 div.sk-item {position: relative;z-index: 1;}#sk-container-id-1 div.sk-parallel {display: flex;align-items: stretch;justify-content: center;background-color: white;position: relative;}#sk-container-id-1 div.sk-item::before, #sk-container-id-1 div.sk-parallel-item::before {content: \"\";position: absolute;border-left: 1px solid gray;box-sizing: border-box;top: 0;bottom: 0;left: 50%;z-index: -1;}#sk-container-id-1 div.sk-parallel-item {display: flex;flex-direction: column;z-index: 1;position: relative;background-color: white;}#sk-container-id-1 div.sk-parallel-item:first-child::after {align-self: flex-end;width: 50%;}#sk-container-id-1 div.sk-parallel-item:last-child::after {align-self: flex-start;width: 50%;}#sk-container-id-1 div.sk-parallel-item:only-child::after {width: 0;}#sk-container-id-1 div.sk-dashed-wrapped {border: 1px dashed gray;margin: 0 0.4em 0.5em 0.4em;box-sizing: border-box;padding-bottom: 0.4em;background-color: white;}#sk-container-id-1 div.sk-label label {font-family: monospace;font-weight: bold;display: inline-block;line-height: 1.2em;}#sk-container-id-1 div.sk-label-container {text-align: center;}#sk-container-id-1 div.sk-container {/* jupyter's `normalize.less` sets `[hidden] { display: none; }` but bootstrap.min.css set `[hidden] { display: none !important; }` so we also need the `!important` here to be able to override the default hidden behavior on the sphinx rendered scikit-learn.org. See: https://github.com/scikit-learn/scikit-learn/issues/21755 */display: inline-block !important;position: relative;}#sk-container-id-1 div.sk-text-repr-fallback {display: none;}</style><div id=\"sk-container-id-1\" class=\"sk-top-container\"><div class=\"sk-text-repr-fallback\"><pre>DecisionTreeClassifier(random_state=1)</pre><b>In a Jupyter environment, please rerun this cell to show the HTML representation or trust the notebook. <br />On GitHub, the HTML representation is unable to render, please try loading this page with nbviewer.org.</b></div><div class=\"sk-container\" hidden><div class=\"sk-item\"><div class=\"sk-estimator sk-toggleable\"><input class=\"sk-toggleable__control sk-hidden--visually\" id=\"sk-estimator-id-1\" type=\"checkbox\" checked><label for=\"sk-estimator-id-1\" class=\"sk-toggleable__label sk-toggleable__label-arrow\">DecisionTreeClassifier</label><div class=\"sk-toggleable__content\"><pre>DecisionTreeClassifier(random_state=1)</pre></div></div></div></div></div>"
            ]
          },
          "metadata": {},
          "execution_count": 6
        }
      ]
    },
    {
      "cell_type": "code",
      "source": [
        "from sklearn.metrics import accuracy_score, confusion_matrix\n",
        "\n",
        "y_pred = dt_multi.predict(X_test)\n",
        "\n",
        "acc = accuracy_score(y_test, y_pred)\n",
        "print(f\"Accuracy: {acc}\")\n",
        "\n",
        "conf_matrix = confusion_matrix(y_test, y_pred)\n",
        "print(f\"Confusion Matrix\\n {conf_matrix}\")"
      ],
      "metadata": {
        "colab": {
          "base_uri": "https://localhost:8080/"
        },
        "id": "L1P1XITR6y8K",
        "outputId": "95b58cfd-d5c1-4a8c-f517-634e1e96254a"
      },
      "execution_count": 7,
      "outputs": [
        {
          "output_type": "stream",
          "name": "stdout",
          "text": [
            "Accuracy: 0.5768965517241379\n",
            "Confusion Matrix\n",
            " [[1286   15    6 ...   20    0    6]\n",
            " [  13   11    0 ...    0    0    1]\n",
            " [  10    0   15 ...    0    0    0]\n",
            " ...\n",
            " [   9    1    1 ...   12    0    1]\n",
            " [   1    0    0 ...    0   39    0]\n",
            " [   6    1    0 ...    0    0   17]]\n"
          ]
        }
      ]
    },
    {
      "cell_type": "markdown",
      "source": [
        "# Hyperparameter Tuning with GridSearchCV\n",
        "- 1st Attempt"
      ],
      "metadata": {
        "id": "3lu-UrnBusLD"
      }
    },
    {
      "cell_type": "code",
      "source": [
        "from sklearn.model_selection import GridSearchCV\n",
        "\n",
        "param_grid = {\n",
        "    'max_depth': [3, 5, 7, 9, 11, 13, 15, 17, 18, 19, 21],\n",
        "    'min_samples_split': [2, 5, 10],\n",
        "    'min_samples_leaf': [1, 2, 4],\n",
        "    'max_features': [None, 'sqrt', 'log2']\n",
        "}\n",
        "\n",
        "grid_search = GridSearchCV(dt_multi, param_grid, cv=5)\n",
        "grid_search.fit(X_train, y_train)\n",
        "\n",
        "print(\"Best_Parameters:\", grid_search.best_params_)\n",
        "\n",
        "best_model = grid_search.best_estimator_"
      ],
      "metadata": {
        "colab": {
          "base_uri": "https://localhost:8080/"
        },
        "id": "VV4ClvXuW0fd",
        "outputId": "b40bd364-8c2e-4f5c-dd3e-3ad7abd6da05"
      },
      "execution_count": 8,
      "outputs": [
        {
          "output_type": "stream",
          "name": "stdout",
          "text": [
            "Best_Parameters: {'max_depth': 19, 'max_features': None, 'min_samples_leaf': 1, 'min_samples_split': 2}\n"
          ]
        }
      ]
    },
    {
      "cell_type": "code",
      "source": [
        "y_pred = best_model.predict(X_test)\n",
        "\n",
        "acc = accuracy_score(y_test, y_pred)\n",
        "print(f\"Accuracy: {acc}\")\n",
        "\n",
        "conf_matrix = confusion_matrix(y_test, y_pred)\n",
        "print(f\"Confusion Matrix\\n {conf_matrix}\")"
      ],
      "metadata": {
        "colab": {
          "base_uri": "https://localhost:8080/"
        },
        "id": "mKp7kZFLW0hr",
        "outputId": "29644301-254e-459c-c113-19f26c151837"
      },
      "execution_count": 9,
      "outputs": [
        {
          "output_type": "stream",
          "name": "stdout",
          "text": [
            "Accuracy: 0.5906896551724138\n",
            "Confusion Matrix\n",
            " [[1428   14    4 ...   10    0    4]\n",
            " [  13    8    0 ...    0    0    1]\n",
            " [  11    0   15 ...    0    0    0]\n",
            " ...\n",
            " [  10    1    0 ...   10    0    1]\n",
            " [   1    0    0 ...    0   39    0]\n",
            " [  11    0    0 ...    0    0   19]]\n"
          ]
        }
      ]
    },
    {
      "cell_type": "markdown",
      "source": [
        "- 2nd Attempt"
      ],
      "metadata": {
        "id": "wFNz5SJ3vFT1"
      }
    },
    {
      "cell_type": "code",
      "source": [
        "from sklearn.model_selection import GridSearchCV\n",
        "\n",
        "param_grid = {\n",
        "    'max_depth': [10, 13, 15, 17, 20, 21, 22],\n",
        "    'min_samples_split': [5, 10],\n",
        "    'min_samples_leaf': [1, 2, 3, 4],\n",
        "    'max_features': [None, 'sqrt', 'log2']\n",
        "}\n",
        "\n",
        "grid_search = GridSearchCV(dt_multi, param_grid, cv=5)\n",
        "grid_search.fit(X_train, y_train)\n",
        "\n",
        "print(\"Best_Parameters:\", grid_search.best_params_)\n",
        "\n",
        "best_model = grid_search.best_estimator_"
      ],
      "metadata": {
        "colab": {
          "base_uri": "https://localhost:8080/"
        },
        "id": "FihGhVX1Z2X7",
        "outputId": "2dafce25-e3bd-493f-d7e6-dcd22859f6dc"
      },
      "execution_count": 10,
      "outputs": [
        {
          "output_type": "stream",
          "name": "stdout",
          "text": [
            "Best_Parameters: {'max_depth': 20, 'max_features': None, 'min_samples_leaf': 2, 'min_samples_split': 10}\n"
          ]
        }
      ]
    },
    {
      "cell_type": "code",
      "source": [
        "y_pred = best_model.predict(X_test)\n",
        "\n",
        "acc = accuracy_score(y_test, y_pred)\n",
        "print(f\"Accuracy: {acc}\")\n",
        "\n",
        "conf_matrix = confusion_matrix(y_test, y_pred)\n",
        "print(f\"Confusion Matrix\\n {conf_matrix}\")"
      ],
      "metadata": {
        "colab": {
          "base_uri": "https://localhost:8080/"
        },
        "id": "-lz3x2X9aN8f",
        "outputId": "e918f400-8841-4a59-d4ad-2960d179745a"
      },
      "execution_count": 11,
      "outputs": [
        {
          "output_type": "stream",
          "name": "stdout",
          "text": [
            "Accuracy: 0.588103448275862\n",
            "Confusion Matrix\n",
            " [[1474    8   13 ...   17    1    5]\n",
            " [  13    9    0 ...    1    0    1]\n",
            " [  18    0   12 ...    1    0    0]\n",
            " ...\n",
            " [  15    0    0 ...    9    0    0]\n",
            " [   1    0    0 ...    0   38    0]\n",
            " [   8    0    0 ...    0    0   21]]\n"
          ]
        }
      ]
    },
    {
      "cell_type": "markdown",
      "source": [
        "- 3rd Attempt"
      ],
      "metadata": {
        "id": "cabzSvTtvLse"
      }
    },
    {
      "cell_type": "code",
      "source": [
        "from sklearn.model_selection import GridSearchCV\n",
        "\n",
        "param_grid = {\n",
        "    'max_depth': [22],\n",
        "    'min_samples_split': [8, 9, 10, 11, 12],\n",
        "    'min_samples_leaf': [1, 2, 3, 4],\n",
        "    'max_features': [None]\n",
        "}\n",
        "\n",
        "grid_search = GridSearchCV(dt_multi, param_grid, cv=5)\n",
        "grid_search.fit(X_train, y_train)\n",
        "\n",
        "print(\"Best_Parameters:\", grid_search.best_params_)\n",
        "\n",
        "best_model = grid_search.best_estimator_"
      ],
      "metadata": {
        "colab": {
          "base_uri": "https://localhost:8080/"
        },
        "id": "QQbC-eIIo0zH",
        "outputId": "b3f9d547-773b-46ff-8712-bd80ffeeb9e1"
      },
      "execution_count": 12,
      "outputs": [
        {
          "output_type": "stream",
          "name": "stdout",
          "text": [
            "Best_Parameters: {'max_depth': 22, 'max_features': None, 'min_samples_leaf': 2, 'min_samples_split': 10}\n"
          ]
        }
      ]
    },
    {
      "cell_type": "code",
      "source": [
        "y_pred = best_model.predict(X_test)\n",
        "\n",
        "acc = accuracy_score(y_test, y_pred)\n",
        "print(f\"Accuracy: {acc}\")\n",
        "\n",
        "conf_matrix = confusion_matrix(y_test, y_pred)\n",
        "print(f\"Confusion Matrix\\n {conf_matrix}\")"
      ],
      "metadata": {
        "colab": {
          "base_uri": "https://localhost:8080/"
        },
        "id": "mC9o19D4o01k",
        "outputId": "cc97ecfe-74e2-4b43-c625-56283af89ad1"
      },
      "execution_count": 13,
      "outputs": [
        {
          "output_type": "stream",
          "name": "stdout",
          "text": [
            "Accuracy: 0.5891379310344828\n",
            "Confusion Matrix\n",
            " [[1460    9   12 ...   16    1    5]\n",
            " [  15    9    0 ...    0    0    0]\n",
            " [  19    0   12 ...    0    0    0]\n",
            " ...\n",
            " [  14    0    0 ...   11    0    0]\n",
            " [   1    0    0 ...    0   38    0]\n",
            " [   6    0    0 ...    0    0   16]]\n"
          ]
        }
      ]
    },
    {
      "cell_type": "markdown",
      "source": [
        "# Building Ada Boosting Model"
      ],
      "metadata": {
        "id": "1ik82o4pvahQ"
      }
    },
    {
      "cell_type": "code",
      "source": [
        "from sklearn.ensemble import AdaBoostClassifier\n",
        "\n",
        "adaboost_model = AdaBoostClassifier(base_estimator=grid_search.best_estimator_, random_state=1)\n",
        "\n",
        "adaboost_model.fit(X_train, y_train)"
      ],
      "metadata": {
        "colab": {
          "base_uri": "https://localhost:8080/",
          "height": 193
        },
        "id": "gEkbu8dRoA-N",
        "outputId": "0458b7ac-61aa-4196-cc20-a7db80292280"
      },
      "execution_count": 14,
      "outputs": [
        {
          "metadata": {
            "tags": null
          },
          "name": "stderr",
          "output_type": "stream",
          "text": [
            "/usr/local/lib/python3.10/dist-packages/sklearn/utils/validation.py:1143: DataConversionWarning: A column-vector y was passed when a 1d array was expected. Please change the shape of y to (n_samples, ), for example using ravel().\n",
            "  y = column_or_1d(y, warn=True)\n",
            "/usr/local/lib/python3.10/dist-packages/sklearn/ensemble/_base.py:166: FutureWarning: `base_estimator` was renamed to `estimator` in version 1.2 and will be removed in 1.4.\n",
            "  warnings.warn(\n"
          ]
        },
        {
          "output_type": "execute_result",
          "data": {
            "text/plain": [
              "AdaBoostClassifier(base_estimator=DecisionTreeClassifier(max_depth=22,\n",
              "                                                         min_samples_leaf=2,\n",
              "                                                         min_samples_split=10,\n",
              "                                                         random_state=1),\n",
              "                   random_state=1)"
            ],
            "text/html": [
              "<style>#sk-container-id-2 {color: black;background-color: white;}#sk-container-id-2 pre{padding: 0;}#sk-container-id-2 div.sk-toggleable {background-color: white;}#sk-container-id-2 label.sk-toggleable__label {cursor: pointer;display: block;width: 100%;margin-bottom: 0;padding: 0.3em;box-sizing: border-box;text-align: center;}#sk-container-id-2 label.sk-toggleable__label-arrow:before {content: \"▸\";float: left;margin-right: 0.25em;color: #696969;}#sk-container-id-2 label.sk-toggleable__label-arrow:hover:before {color: black;}#sk-container-id-2 div.sk-estimator:hover label.sk-toggleable__label-arrow:before {color: black;}#sk-container-id-2 div.sk-toggleable__content {max-height: 0;max-width: 0;overflow: hidden;text-align: left;background-color: #f0f8ff;}#sk-container-id-2 div.sk-toggleable__content pre {margin: 0.2em;color: black;border-radius: 0.25em;background-color: #f0f8ff;}#sk-container-id-2 input.sk-toggleable__control:checked~div.sk-toggleable__content {max-height: 200px;max-width: 100%;overflow: auto;}#sk-container-id-2 input.sk-toggleable__control:checked~label.sk-toggleable__label-arrow:before {content: \"▾\";}#sk-container-id-2 div.sk-estimator input.sk-toggleable__control:checked~label.sk-toggleable__label {background-color: #d4ebff;}#sk-container-id-2 div.sk-label input.sk-toggleable__control:checked~label.sk-toggleable__label {background-color: #d4ebff;}#sk-container-id-2 input.sk-hidden--visually {border: 0;clip: rect(1px 1px 1px 1px);clip: rect(1px, 1px, 1px, 1px);height: 1px;margin: -1px;overflow: hidden;padding: 0;position: absolute;width: 1px;}#sk-container-id-2 div.sk-estimator {font-family: monospace;background-color: #f0f8ff;border: 1px dotted black;border-radius: 0.25em;box-sizing: border-box;margin-bottom: 0.5em;}#sk-container-id-2 div.sk-estimator:hover {background-color: #d4ebff;}#sk-container-id-2 div.sk-parallel-item::after {content: \"\";width: 100%;border-bottom: 1px solid gray;flex-grow: 1;}#sk-container-id-2 div.sk-label:hover label.sk-toggleable__label {background-color: #d4ebff;}#sk-container-id-2 div.sk-serial::before {content: \"\";position: absolute;border-left: 1px solid gray;box-sizing: border-box;top: 0;bottom: 0;left: 50%;z-index: 0;}#sk-container-id-2 div.sk-serial {display: flex;flex-direction: column;align-items: center;background-color: white;padding-right: 0.2em;padding-left: 0.2em;position: relative;}#sk-container-id-2 div.sk-item {position: relative;z-index: 1;}#sk-container-id-2 div.sk-parallel {display: flex;align-items: stretch;justify-content: center;background-color: white;position: relative;}#sk-container-id-2 div.sk-item::before, #sk-container-id-2 div.sk-parallel-item::before {content: \"\";position: absolute;border-left: 1px solid gray;box-sizing: border-box;top: 0;bottom: 0;left: 50%;z-index: -1;}#sk-container-id-2 div.sk-parallel-item {display: flex;flex-direction: column;z-index: 1;position: relative;background-color: white;}#sk-container-id-2 div.sk-parallel-item:first-child::after {align-self: flex-end;width: 50%;}#sk-container-id-2 div.sk-parallel-item:last-child::after {align-self: flex-start;width: 50%;}#sk-container-id-2 div.sk-parallel-item:only-child::after {width: 0;}#sk-container-id-2 div.sk-dashed-wrapped {border: 1px dashed gray;margin: 0 0.4em 0.5em 0.4em;box-sizing: border-box;padding-bottom: 0.4em;background-color: white;}#sk-container-id-2 div.sk-label label {font-family: monospace;font-weight: bold;display: inline-block;line-height: 1.2em;}#sk-container-id-2 div.sk-label-container {text-align: center;}#sk-container-id-2 div.sk-container {/* jupyter's `normalize.less` sets `[hidden] { display: none; }` but bootstrap.min.css set `[hidden] { display: none !important; }` so we also need the `!important` here to be able to override the default hidden behavior on the sphinx rendered scikit-learn.org. See: https://github.com/scikit-learn/scikit-learn/issues/21755 */display: inline-block !important;position: relative;}#sk-container-id-2 div.sk-text-repr-fallback {display: none;}</style><div id=\"sk-container-id-2\" class=\"sk-top-container\"><div class=\"sk-text-repr-fallback\"><pre>AdaBoostClassifier(base_estimator=DecisionTreeClassifier(max_depth=22,\n",
              "                                                         min_samples_leaf=2,\n",
              "                                                         min_samples_split=10,\n",
              "                                                         random_state=1),\n",
              "                   random_state=1)</pre><b>In a Jupyter environment, please rerun this cell to show the HTML representation or trust the notebook. <br />On GitHub, the HTML representation is unable to render, please try loading this page with nbviewer.org.</b></div><div class=\"sk-container\" hidden><div class=\"sk-item sk-dashed-wrapped\"><div class=\"sk-label-container\"><div class=\"sk-label sk-toggleable\"><input class=\"sk-toggleable__control sk-hidden--visually\" id=\"sk-estimator-id-2\" type=\"checkbox\" ><label for=\"sk-estimator-id-2\" class=\"sk-toggleable__label sk-toggleable__label-arrow\">AdaBoostClassifier</label><div class=\"sk-toggleable__content\"><pre>AdaBoostClassifier(base_estimator=DecisionTreeClassifier(max_depth=22,\n",
              "                                                         min_samples_leaf=2,\n",
              "                                                         min_samples_split=10,\n",
              "                                                         random_state=1),\n",
              "                   random_state=1)</pre></div></div></div><div class=\"sk-parallel\"><div class=\"sk-parallel-item\"><div class=\"sk-item\"><div class=\"sk-label-container\"><div class=\"sk-label sk-toggleable\"><input class=\"sk-toggleable__control sk-hidden--visually\" id=\"sk-estimator-id-3\" type=\"checkbox\" ><label for=\"sk-estimator-id-3\" class=\"sk-toggleable__label sk-toggleable__label-arrow\">base_estimator: DecisionTreeClassifier</label><div class=\"sk-toggleable__content\"><pre>DecisionTreeClassifier(max_depth=22, min_samples_leaf=2, min_samples_split=10,\n",
              "                       random_state=1)</pre></div></div></div><div class=\"sk-serial\"><div class=\"sk-item\"><div class=\"sk-estimator sk-toggleable\"><input class=\"sk-toggleable__control sk-hidden--visually\" id=\"sk-estimator-id-4\" type=\"checkbox\" ><label for=\"sk-estimator-id-4\" class=\"sk-toggleable__label sk-toggleable__label-arrow\">DecisionTreeClassifier</label><div class=\"sk-toggleable__content\"><pre>DecisionTreeClassifier(max_depth=22, min_samples_leaf=2, min_samples_split=10,\n",
              "                       random_state=1)</pre></div></div></div></div></div></div></div></div></div></div>"
            ]
          },
          "metadata": {},
          "execution_count": 14
        }
      ]
    },
    {
      "cell_type": "code",
      "source": [
        "y_pred_adaboost = adaboost_model.predict(X_test)\n",
        "\n",
        "acc_adaboost = accuracy_score(y_test, y_pred_adaboost)\n",
        "print(f\"AdaBoost Accuracy: {acc_adaboost}\")\n",
        "\n",
        "conf_matrix_adaboost = confusion_matrix(y_test, y_pred_adaboost)\n",
        "print(f\"AdaBoost Confusion Matrix\\n {conf_matrix_adaboost}\")"
      ],
      "metadata": {
        "colab": {
          "base_uri": "https://localhost:8080/"
        },
        "id": "h2i0iThhoMj8",
        "outputId": "105f11a4-65cb-4e3b-fd5c-ec5f29230a52"
      },
      "execution_count": 15,
      "outputs": [
        {
          "output_type": "stream",
          "name": "stdout",
          "text": [
            "AdaBoost Accuracy: 0.6717241379310345\n",
            "AdaBoost Confusion Matrix\n",
            " [[1898    0    1 ...    0    0    1]\n",
            " [  27   11    0 ...    0    0    0]\n",
            " [  32    0   10 ...    0    0    0]\n",
            " ...\n",
            " [  30    0    0 ...   10    0    0]\n",
            " [   9    0    0 ...    0   35    0]\n",
            " [  14    0    0 ...    0    0   22]]\n"
          ]
        }
      ]
    },
    {
      "cell_type": "markdown",
      "source": [
        "# Evaluation Metrics"
      ],
      "metadata": {
        "id": "8CINpm6N5ZVi"
      }
    },
    {
      "cell_type": "code",
      "source": [
        "from sklearn.metrics import precision_score, recall_score, roc_auc_score, roc_curve, precision_recall_curve, auc\n",
        "import matplotlib.pyplot as plt"
      ],
      "metadata": {
        "id": "uLCTDRgj6M9G"
      },
      "execution_count": 19,
      "outputs": []
    },
    {
      "cell_type": "code",
      "source": [
        "# Calculating Precision and Recall\n",
        "precision = precision_score(y_test, y_pred, average='weighted')\n",
        "recall = recall_score(y_test, y_pred, average='weighted')"
      ],
      "metadata": {
        "id": "7zAvAFpU6Pn7"
      },
      "execution_count": 27,
      "outputs": []
    },
    {
      "cell_type": "code",
      "source": [
        "print(f\"Precision: {precision}\")\n",
        "print(f\"Recall: {recall}\")"
      ],
      "metadata": {
        "colab": {
          "base_uri": "https://localhost:8080/"
        },
        "id": "KdSXNFwe6U7x",
        "outputId": "79c96b78-2288-47c7-d0bf-9743e18d6b09"
      },
      "execution_count": 56,
      "outputs": [
        {
          "output_type": "stream",
          "name": "stdout",
          "text": [
            "Precision: 0.5851070542521154\n",
            "Recall: 0.5891379310344828\n"
          ]
        }
      ]
    },
    {
      "cell_type": "code",
      "source": [
        "from sklearn.metrics import confusion_matrix, classification_report, roc_curve, auc, precision_recall_curve\n",
        "import matplotlib.pyplot as plt\n",
        "\n",
        "# Classification Report\n",
        "class_report = classification_report(y_test, y_pred)\n",
        "print(\"Classification Report:\\n\", class_report)"
      ],
      "metadata": {
        "colab": {
          "base_uri": "https://localhost:8080/"
        },
        "id": "sbaZH2G9EGtS",
        "outputId": "12ba2ae9-5a60-414e-d363-b56dcadcb33d"
      },
      "execution_count": 40,
      "outputs": [
        {
          "output_type": "stream",
          "name": "stdout",
          "text": [
            "Classification Report:\n",
            "               precision    recall  f1-score   support\n",
            "\n",
            "          -1       0.64      0.76      0.69      1932\n",
            "           0       0.28      0.20      0.24        44\n",
            "           1       0.34      0.27      0.30        45\n",
            "           2       0.38      0.33      0.35        43\n",
            "           3       0.36      0.44      0.40        36\n",
            "           4       0.57      0.54      0.56        50\n",
            "           5       0.59      0.61      0.60        38\n",
            "           6       0.72      0.75      0.74        52\n",
            "           7       0.68      0.63      0.66        41\n",
            "           8       0.61      0.54      0.57        41\n",
            "           9       0.72      0.62      0.67        50\n",
            "          10       0.54      0.51      0.53        41\n",
            "          11       0.36      0.46      0.40        35\n",
            "          12       0.78      0.74      0.76        47\n",
            "          13       0.22      0.31      0.26        36\n",
            "          14       0.30      0.30      0.30        47\n",
            "          15       0.45      0.34      0.39        44\n",
            "          16       0.59      0.60      0.60        48\n",
            "          17       0.32      0.44      0.37        25\n",
            "          18       0.53      0.64      0.58        36\n",
            "          19       0.57      0.65      0.61        31\n",
            "          20       0.73      0.79      0.76        42\n",
            "          21       0.10      0.05      0.06        44\n",
            "          22       0.48      0.50      0.49        44\n",
            "          23       0.54      0.65      0.59        34\n",
            "          24       0.40      0.31      0.35        54\n",
            "          25       0.50      0.54      0.52        50\n",
            "          26       0.60      0.60      0.60        35\n",
            "          27       0.56      0.47      0.51        43\n",
            "          28       0.74      0.58      0.65        43\n",
            "          29       0.42      0.54      0.47        41\n",
            "          30       0.76      0.72      0.74        40\n",
            "          31       0.45      0.41      0.43        32\n",
            "          32       0.52      0.34      0.41        44\n",
            "          33       0.58      0.51      0.54        51\n",
            "          34       0.32      0.23      0.27        52\n",
            "          35       0.54      0.44      0.49        43\n",
            "          36       0.68      0.79      0.73        38\n",
            "          37       0.26      0.21      0.23        34\n",
            "          38       0.32      0.32      0.32        38\n",
            "          39       0.62      0.57      0.59        37\n",
            "          40       0.39      0.37      0.38        41\n",
            "          41       0.81      0.72      0.76        40\n",
            "          42       0.65      0.45      0.53        44\n",
            "          43       0.63      0.56      0.59        34\n",
            "          44       0.79      0.79      0.79        38\n",
            "          45       0.48      0.38      0.43        39\n",
            "          46       0.39      0.34      0.37        44\n",
            "          47       0.47      0.47      0.47        38\n",
            "          48       0.62      0.50      0.55        36\n",
            "          49       0.74      0.71      0.72        35\n",
            "          50       0.62      0.71      0.66        41\n",
            "          51       0.38      0.17      0.24        35\n",
            "          52       0.50      0.49      0.49        43\n",
            "          53       0.62      0.39      0.48        41\n",
            "          54       0.56      0.55      0.55        44\n",
            "          55       0.19      0.15      0.17        40\n",
            "          56       0.82      0.74      0.78        31\n",
            "          57       0.53      0.48      0.50        42\n",
            "          58       0.57      0.56      0.56        43\n",
            "          59       0.77      0.65      0.71        37\n",
            "          60       0.68      0.58      0.63        43\n",
            "          61       0.58      0.70      0.64        30\n",
            "          62       0.68      0.50      0.58        42\n",
            "          63       0.29      0.32      0.30        37\n",
            "          64       0.45      0.49      0.47        35\n",
            "          65       0.51      0.58      0.54        33\n",
            "          66       0.68      0.59      0.63        39\n",
            "          67       0.54      0.39      0.46        33\n",
            "          68       0.59      0.37      0.45        46\n",
            "          69       0.38      0.30      0.34        43\n",
            "          70       0.93      0.82      0.87        51\n",
            "          71       0.57      0.42      0.48        48\n",
            "          72       0.64      0.33      0.44        42\n",
            "          73       0.81      0.90      0.85        29\n",
            "          74       0.43      0.32      0.37        56\n",
            "          75       0.86      0.82      0.84        45\n",
            "          76       0.90      0.63      0.74        43\n",
            "          77       0.34      0.32      0.33        34\n",
            "          78       0.43      0.43      0.43        37\n",
            "          79       0.38      0.41      0.40        39\n",
            "          80       0.83      0.71      0.76        41\n",
            "          81       0.73      0.59      0.65        56\n",
            "          82       0.75      0.60      0.67        40\n",
            "          83       0.71      0.67      0.69        43\n",
            "          84       0.67      0.52      0.58        31\n",
            "          85       0.90      0.64      0.75        42\n",
            "          86       0.76      0.77      0.76        44\n",
            "          87       0.56      0.51      0.54        35\n",
            "          88       0.67      0.53      0.59        34\n",
            "          89       0.53      0.42      0.47        43\n",
            "          90       0.61      0.56      0.59        39\n",
            "          91       0.38      0.26      0.31        39\n",
            "          92       0.24      0.28      0.26        40\n",
            "          93       0.88      0.86      0.87        44\n",
            "          94       0.50      0.43      0.46        37\n",
            "\n",
            "    accuracy                           0.59      5800\n",
            "   macro avg       0.56      0.51      0.53      5800\n",
            "weighted avg       0.59      0.59      0.58      5800\n",
            "\n"
          ]
        }
      ]
    },
    {
      "cell_type": "code",
      "source": [
        "from sklearn.metrics import classification_report\n",
        "import matplotlib.pyplot as plt\n",
        "import pandas as pd\n",
        "\n",
        "\n",
        "data = []\n",
        "lines = class_report.split('\\n')\n",
        "for line in lines[2:-5]:\n",
        "    row = line.strip().split()\n",
        "    class_name = row[0]\n",
        "    precision = float(row[1])\n",
        "    recall = float(row[2])\n",
        "    f1_score = float(row[3])\n",
        "    data.append([class_name, precision, recall, f1_score])\n",
        "\n",
        "\n",
        "df = pd.DataFrame(data, columns=['Class', 'Precision', 'Recall', 'F1-score'])\n",
        "\n",
        "plt.figure(figsize=(50, 6))\n",
        "\n",
        "# Precision\n",
        "plt.subplot(1, 3, 1)\n",
        "plt.bar(df['Class'], df['Precision'])\n",
        "plt.title('Precision')\n",
        "plt.xlabel('Class')\n",
        "plt.ylabel('Precision')"
      ],
      "metadata": {
        "colab": {
          "base_uri": "https://localhost:8080/",
          "height": 583
        },
        "id": "N7afYkPuNYUJ",
        "outputId": "52627d40-3487-4558-cd63-5f0dc21c8b17"
      },
      "execution_count": 86,
      "outputs": [
        {
          "output_type": "execute_result",
          "data": {
            "text/plain": [
              "Text(0, 0.5, 'Precision')"
            ]
          },
          "metadata": {},
          "execution_count": 86
        },
        {
          "output_type": "display_data",
          "data": {
            "text/plain": [
              "<Figure size 5000x600 with 1 Axes>"
            ],
            "image/png": "[encoded data removed]"
          },
          "metadata": {}
        }
      ]
    },
    {
      "cell_type": "code",
      "source": [
        "plt.figure(figsize=(50, 6))\n",
        "\n",
        "# Recall\n",
        "plt.subplot(1, 3, 2)\n",
        "plt.bar(df['Class'], df['Recall'])\n",
        "plt.title('Recall')\n",
        "plt.xlabel('Class')\n",
        "plt.ylabel('Recall')"
      ],
      "metadata": {
        "colab": {
          "base_uri": "https://localhost:8080/",
          "height": 583
        },
        "id": "5CN8E4yeQq-J",
        "outputId": "e72e75f9-1b7a-4a05-c73e-c10e6664dd6f"
      },
      "execution_count": 87,
      "outputs": [
        {
          "output_type": "execute_result",
          "data": {
            "text/plain": [
              "Text(0, 0.5, 'Recall')"
            ]
          },
          "metadata": {},
          "execution_count": 87
        },
        {
          "output_type": "display_data",
          "data": {
            "text/plain": [
              "<Figure size 5000x600 with 1 Axes>"
            ],
            "image/png": "[encoded data removed]"
          },
          "metadata": {}
        }
      ]
    },
    {
      "cell_type": "code",
      "source": [
        "plt.figure(figsize=(50, 6))\n",
        "\n",
        "# F1-score\n",
        "plt.subplot(1, 3, 3)\n",
        "plt.bar(df['Class'], df['F1-score'])\n",
        "plt.title('F1-score')\n",
        "plt.xlabel('Class')\n",
        "plt.ylabel('F1-score')\n",
        "\n",
        "plt.tight_layout()\n",
        "plt.show()"
      ],
      "metadata": {
        "colab": {
          "base_uri": "https://localhost:8080/",
          "height": 607
        },
        "id": "rgTJmuAsQtd-",
        "outputId": "5ec531ec-fa50-4172-a997-2511e53e0a2f"
      },
      "execution_count": 88,
      "outputs": [
        {
          "output_type": "display_data",
          "data": {
            "text/plain": [
              "<Figure size 5000x600 with 1 Axes>"
            ],
            "image/png": "[encoded data removed]"
          },
          "metadata": {}
        }
      ]
    }
  ]
}