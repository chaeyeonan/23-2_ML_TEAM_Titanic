{
  "cells": [
    {
      "cell_type": "code",
      "execution_count": 1,
      "metadata": {
        "colab": {
          "base_uri": "https://localhost:8080/"
        },
        "id": "ddZz56zUIz0H",
        "outputId": "6e9806d8-dbd6-4324-fcc2-d28846755ed8"
      },
      "outputs": [
        {
          "output_type": "stream",
          "name": "stdout",
          "text": [
            "Drive already mounted at /content/drive; to attempt to forcibly remount, call drive.mount(\"/content/drive\", force_remount=True).\n"
          ]
        }
      ],
      "source": [
        "from google.colab import drive\n",
        "drive.mount('/content/drive')"
      ]
    },
    {
      "cell_type": "markdown",
      "metadata": {
        "id": "6a7b3a0l2ep4"
      },
      "source": [
        "1. mon_standard.pkl > array code\n",
        "\n"
      ]
    },
    {
      "cell_type": "code",
      "execution_count": 2,
      "metadata": {
        "colab": {
          "base_uri": "https://localhost:8080/"
        },
        "id": "5mfwrTwPtd36",
        "outputId": "72bc3eb2-0592-410f-806f-8f02deb9b8c8"
      },
      "outputs": [
        {
          "output_type": "stream",
          "name": "stdout",
          "text": [
            "Loading datafile...\n",
            "Total samples: 19000\n"
          ]
        }
      ],
      "source": [
        "import pickle\n",
        "\n",
        "USE_SUBLABEL = False\n",
        "URL_PER_SITE = 10\n",
        "TOTAL_URLS   = 950\n",
        "\n",
        "# Load the pickle file\n",
        "print(\"Loading datafile...\")\n",
        "with open(\"/content/drive/MyDrive/mon_standard.pkl\", 'rb') as fi: # Path to mon_standard.pkl in Colab\n",
        "    data = pickle.load(fi)\n",
        "\n",
        "X1 = [] # Array to store instances (timestamps) - 19,000 instances, e.g., [[0.0, 0.5, 3.4, ...], [0.0, 4.5, ...], [0.0, 1.5, ...], ... [... ,45.8]]\n",
        "X2 = [] # Array to store instances (direction*size) - size information\n",
        "y = [] # Array to store the site of each instance - 19,000 instances, e.g., [0, 0, 0, 0, 0, 0, ..., 94, 94, 94, 94, 94]\n",
        "\n",
        "# Differentiate instances and sites, and store them in the respective x and y arrays\n",
        "# x array (direction*timestamp), y array (site label)\n",
        "for i in range(TOTAL_URLS):\n",
        "    if USE_SUBLABEL:\n",
        "        label = i\n",
        "    else:\n",
        "        label = i // URL_PER_SITE # Calculate which site's URL the current URL being processed belongs to and set that value as the label. Thus, URLs fetched from the same site are labeled identically.\n",
        "    for sample in data[i]:\n",
        "        size_seq = []\n",
        "        time_seq = []\n",
        "        for c in sample:\n",
        "            dr = 1 if c > 0 else -1\n",
        "            time_seq.append(abs(c))\n",
        "            size_seq.append(dr * 512)\n",
        "        X1.append(time_seq)\n",
        "        X2.append(size_seq)\n",
        "        y.append(label)\n",
        "size = len(y)\n",
        "\n",
        "print(f'Total samples: {size}') # Output: 19000\n"
      ]
    },
    {
      "cell_type": "code",
      "execution_count": 3,
      "metadata": {
        "id": "Y428A-fkputW"
      },
      "outputs": [],
      "source": [
        "# Features\n",
        "num_total_packets = [] # feature 1\n",
        "sum_packets = [] # feature 2\n",
        "num_incoming_packets = [] # feature 3\n",
        "frac_incoming_packets = [] # feature 4\n",
        "num_outgoing_packets=[] # feature 5\n",
        "frac_outgoing_packets=[] # feature 6\n",
        "average_incoming_ordering=[] # feature 7\n",
        "std_dev_incoming_ordering=[] # feature 8\n",
        "average_outgoing_ordering=[] # feature 9\n",
        "std_dev_outgoing_ordering=[] # feature 10\n",
        "mean_of_the_sequence=[] # feature 11\n",
        "alternative_packets_per_second_sum = [] # feature 12"
      ]
    },
    {
      "cell_type": "code",
      "execution_count": 4,
      "metadata": {
        "id": "4WtFNYWFM7V_"
      },
      "outputs": [],
      "source": [
        "import numpy as np\n",
        "\n",
        "for size_seq in X2:\n",
        "    # 1. Total number of pacekts\n",
        "    total = len(size_seq)\n",
        "    num_total_packets.append(total)\n",
        "\n",
        "    # 2. Sum of packets (absolute value gives the size regardless of direction)\n",
        "    sum_pckts = sum(abs(size) for size in size_seq)\n",
        "    sum_packets.append(sum_pckts)\n",
        "\n",
        "    # 3. Number of incoming packets\n",
        "    incoming = sum(1 for size in size_seq if size < 0)\n",
        "    num_incoming_packets.append(incoming)\n",
        "\n",
        "    # 4. Number of incoming packets as a fraction of the total number of packets\n",
        "    frac_incoming = incoming / total if total > 0 else 0\n",
        "    frac_incoming_packets.append(frac_incoming)\n",
        "\n",
        "    # 5. Number of outgoing packets\n",
        "    outgoing = sum(1 for size in size_seq if size > 0)\n",
        "    num_outgoing_packets.append(outgoing)\n",
        "\n",
        "    # 6. Number of outgoing packets as a fraction of the total number of packets\n",
        "    frac_outgoing = outgoing / total if total > 0 else 0\n",
        "    frac_outgoing_packets.append(frac_outgoing)\n",
        "\n",
        "    # 7. Average of the incoming packet ordering list\n",
        "    incoming_ordering_list = []\n",
        "    for idx, size in enumerate(size_seq):\n",
        "        if size < 0:\n",
        "            incoming_ordering_list.append(idx)\n",
        "\n",
        "    average_incoming_ordering.append(np.mean(incoming_ordering_list))\n",
        "\n",
        "    # 8. Standard deviation of the incoming packet ordering list\n",
        "    std_dev_incoming_ordering.append(np.std(incoming_ordering_list))\n",
        "\n",
        "    # 9. Average of the outgoing packet ordering list\n",
        "    outgoing_ordering_list = []\n",
        "    for idx, size in enumerate(size_seq):\n",
        "        if size > 0:\n",
        "            outgoing_ordering_list.append(idx)\n",
        "    average_outgoing_ordering.append(np.mean(outgoing_ordering_list))\n",
        "\n",
        "    # 10. Standard deviation of the outgoing packet ordering list\n",
        "    std_dev_outgoing_ordering.append(np.std(outgoing_ordering_list))\n",
        "\n",
        "    # 11. mean of the sequence\n",
        "    chunks = [size_seq[i:i + 20] for i in range(0, len(size_seq), 20)]\n",
        "    outgoing_counts = [sum(1 for elem in chunk if elem > 0) for chunk in chunks]\n",
        "    filtered_array = [element for element in outgoing_counts if element != 0]\n",
        "    average_outgoing_counts = sum(filtered_array) / len(filtered_array)\n",
        "    mean_of_the_sequence.append(average_outgoing_counts)"
      ]
    },
    {
      "cell_type": "code",
      "execution_count": 5,
      "metadata": {
        "id": "Rf-5L51BN7rT"
      },
      "outputs": [],
      "source": [
        "# 12. Sum of alternative number packets per second\n",
        "alternative_packets_per_second_sum = []\n",
        "\n",
        "for time_seq, size_seq in zip(X1, X2):\n",
        "    packets_per_subset = len(size_seq) // 20 # 20 even-sized subsets\n",
        "    subset_sums = []\n",
        "\n",
        "    for i in range(0, len(size_seq), packets_per_subset):\n",
        "        start_index = i\n",
        "        end_index = min(i + packets_per_subset, len(size_seq))\n",
        "\n",
        "        time_interval = time_seq[end_index - 1] - time_seq[start_index]\n",
        "        time_interval = max(time_interval, 0.001) # Ensure that the time interval does not become zero.\n",
        "\n",
        "        packets_per_second = (end_index - start_index) / time_interval\n",
        "        subset_sums.append(packets_per_second)\n",
        "\n",
        "        if (end_index == packets_per_subset*20):\n",
        "            break\n",
        "\n",
        "    alternative_packets_per_second_sum.append(sum(subset_sums))"
      ]
    },
    {
      "cell_type": "code",
      "execution_count": 6,
      "metadata": {
        "colab": {
          "base_uri": "https://localhost:8080/"
        },
        "id": "JpzV8jVeZjif",
        "outputId": "b7c66296-c320-4f4c-bf97-ff64fc4e0e6e"
      },
      "outputs": [
        {
          "output_type": "stream",
          "name": "stdout",
          "text": [
            "   feature 1  feature 2  feature 3  feature 4  feature 5  feature 6\n",
            "0       1421     727552       1300   0.914849        121   0.085151\n",
            "1        518     265216        438   0.845560         80   0.154440\n",
            "2       1358     695296       1240   0.913108        118   0.086892\n",
            "3       1446     740352       1324   0.915629        122   0.084371\n",
            "4       1406     719872       1291   0.918208        115   0.081792\n"
          ]
        }
      ],
      "source": [
        "import pandas as pd\n",
        "\n",
        "data = {\n",
        "    'feature 1': num_total_packets,\n",
        "    'feature 2': sum_packets,\n",
        "    'feature 3': num_incoming_packets,\n",
        "    'feature 4': frac_incoming_packets,\n",
        "    'feature 5': num_outgoing_packets,\n",
        "    'feature 6': frac_outgoing_packets\n",
        "}\n",
        "\n",
        "df = pd.DataFrame(data)\n",
        "print(df.head())\n"
      ]
    },
    {
      "cell_type": "code",
      "execution_count": 7,
      "metadata": {
        "colab": {
          "base_uri": "https://localhost:8080/"
        },
        "id": "duo4k-fHqlqC",
        "outputId": "4be29cb1-508b-47b8-f03e-8eb9ef491311"
      },
      "outputs": [
        {
          "output_type": "stream",
          "name": "stdout",
          "text": [
            "    feature 7   feature 8   feature 9  feature 10  feature 11     feature 12\n",
            "0  773.322314  515.483953  704.106154  398.486335    2.630435   25281.847992\n",
            "1  226.162500  139.231951  264.406393  150.591146    3.809524   34200.937813\n",
            "2  786.110169  472.735508  668.259677  381.878642    2.744186  107531.177098\n",
            "3  820.139344  513.916038  713.503021  406.205288    2.595745   23241.614790\n",
            "4  789.608696  503.993490  694.740511  395.028889    2.500000   55080.330639\n"
          ]
        }
      ],
      "source": [
        "data1 = {\n",
        "    'feature 7': average_outgoing_ordering,\n",
        "    'feature 8': std_dev_outgoing_ordering,\n",
        "    'feature 9': average_incoming_ordering,\n",
        "    'feature 10': std_dev_incoming_ordering,\n",
        "    'feature 11': mean_of_the_sequence,\n",
        "    'feature 12': alternative_packets_per_second_sum\n",
        "}\n",
        "\n",
        "df = pd.DataFrame(data1)\n",
        "print(df.head())"
      ]
    },
    {
      "cell_type": "code",
      "execution_count": 8,
      "metadata": {
        "colab": {
          "base_uri": "https://localhost:8080/"
        },
        "id": "Nmb7Yd8lygA2",
        "outputId": "27f3da54-ecd5-4088-c253-53e60c480069"
      },
      "outputs": [
        {
          "output_type": "stream",
          "name": "stdout",
          "text": [
            "19000\n",
            "19000\n",
            "19000\n",
            "19000\n",
            "19000\n",
            "19000\n",
            "19000\n",
            "19000\n",
            "19000\n",
            "19000\n",
            "19000\n",
            "19000\n"
          ]
        }
      ],
      "source": [
        "print(len(num_total_packets))\n",
        "print(len(sum_packets))\n",
        "print(len(num_incoming_packets))\n",
        "print(len(frac_incoming_packets))\n",
        "print(len(num_outgoing_packets))\n",
        "print(len(frac_outgoing_packets))\n",
        "print(len(average_outgoing_ordering))\n",
        "print(len(std_dev_outgoing_ordering))\n",
        "print(len(average_incoming_ordering))\n",
        "print(len(std_dev_incoming_ordering))\n",
        "print(len(mean_of_the_sequence))\n",
        "print(len(alternative_packets_per_second_sum))"
      ]
    },
    {
      "cell_type": "code",
      "execution_count": 9,
      "metadata": {
        "id": "dRUU_biy_2D8"
      },
      "outputs": [],
      "source": [
        "incoming_packets_first30 =[] # feature 13\n",
        "outgoing_packets_first30 = [] # feature 14\n",
        "transmission_time_Q1 = [] # feature 15\n",
        "transmission_time_Q2 = [] # feature 16\n",
        "transmission_time_Q3 = [] # feature 17\n",
        "transmission_time_Q4 = [] # feature 18"
      ]
    },
    {
      "cell_type": "code",
      "execution_count": 10,
      "metadata": {
        "id": "OYI22cxTIv5D"
      },
      "outputs": [],
      "source": [
        "num_packets_per_second = [] # feature 19\n",
        "mean_packets_per_second = [] # feature 20\n",
        "std_packets_per_second = [] # feature 21\n",
        "med_packets_per_second = [] # feature 22"
      ]
    },
    {
      "cell_type": "code",
      "execution_count": 11,
      "metadata": {
        "id": "VamY1dSrWUyU"
      },
      "outputs": [],
      "source": [
        "# RAM 부족으로 이용X\n",
        "incoming_max_inter_arrival_times = [] # feature 23\n",
        "incoming_mean_inter_arrival_times = [] # feature 24\n",
        "incoming_std_inter_arrival_times = [] # feature 25\n",
        "incoming_third_quartileinter_arrival_times = [] # feature 26\n",
        "outgoing_max_inter_arrival_times = [] # feature 27\n",
        "outgoing_mean_inter_arrival_times = [] # feature 28\n",
        "outgoing_std_inter_arrival_times = [] # feature 29\n",
        "outgoing_third_quartileinter_arrival_times = [] # feature 30"
      ]
    },
    {
      "cell_type": "code",
      "execution_count": 12,
      "metadata": {
        "colab": {
          "base_uri": "https://localhost:8080/"
        },
        "id": "oHGHlsqoqc9d",
        "outputId": "c69c9fd9-957f-4360-f70e-e0f8fd486e1b"
      },
      "outputs": [
        {
          "output_type": "stream",
          "name": "stdout",
          "text": [
            "    incoming_packets_first30  outgoing_packets_first30\n",
            "0                         21                         9\n",
            "1                         22                         8\n",
            "2                         23                         7\n",
            "3                         21                         9\n",
            "4                         22                         8\n",
            "5                         22                         8\n",
            "6                         23                         7\n",
            "7                         22                         8\n",
            "8                         22                         8\n",
            "9                         22                         8\n",
            "10                        22                         8\n",
            "11                        22                         8\n",
            "12                        22                         8\n",
            "13                        22                         8\n",
            "14                        22                         8\n",
            "15                        22                         8\n",
            "16                        23                         7\n",
            "17                        23                         7\n",
            "18                        22                         8\n",
            "19                        22                         8\n",
            "20                        21                         9\n",
            "21                        20                        10\n",
            "22                        21                         9\n",
            "23                        21                         9\n",
            "24                        21                         9\n",
            "25                        21                         9\n",
            "26                        21                         9\n",
            "27                        20                        10\n",
            "28                        21                         9\n",
            "29                        21                         9\n",
            "19000\n",
            "19000\n"
          ]
        }
      ],
      "source": [
        "for size_seq in X2:\n",
        "    incoming_packets = sum(1 for size in size_seq[:30] if size < 0)\n",
        "    incoming_packets_first30.append(incoming_packets)\n",
        "\n",
        "    outgoing_packets = sum(1 for size in size_seq[:30] if size > 0)\n",
        "    outgoing_packets_first30.append(outgoing_packets)\n",
        "\n",
        "packets_first30 = {\n",
        "    'incoming_packets_first30': incoming_packets_first30,\n",
        "    'outgoing_packets_first30': outgoing_packets_first30\n",
        "}\n",
        "\n",
        "df = pd.DataFrame(packets_first30)\n",
        "print(df.head(30))\n",
        "print(len(incoming_packets_first30))\n",
        "print(len(outgoing_packets_first30))"
      ]
    },
    {
      "cell_type": "code",
      "execution_count": 13,
      "metadata": {
        "colab": {
          "base_uri": "https://localhost:8080/"
        },
        "id": "kx5Ip8yDCKyT",
        "outputId": "4db51768-568b-4aa8-b20f-4059e04e5ab5"
      },
      "outputs": [
        {
          "output_type": "stream",
          "name": "stdout",
          "text": [
            "   transmission_time_Q1  transmission_time_Q2  transmission_time_Q3  \\\n",
            "0                  3.88                  4.09                  4.69   \n",
            "1                  3.69                  4.80                  5.28   \n",
            "2                  5.06                  5.15                  5.79   \n",
            "3                  5.32                  5.57                  6.40   \n",
            "4                  4.18                  4.31                  5.14   \n",
            "\n",
            "   transmission_time_Q4  \n",
            "0                 10.14  \n",
            "1                 10.16  \n",
            "2                 11.11  \n",
            "3                 13.36  \n",
            "4                 10.64  \n"
          ]
        }
      ],
      "source": [
        "for i in range(len(X1)):\n",
        "    Q1 = np.percentile(X1[i], 25)\n",
        "    Q2 = np.percentile(X1[i], 50)\n",
        "    Q3 = np.percentile(X1[i], 75)\n",
        "    Q4 = np.percentile(X1[i], 100)\n",
        "\n",
        "    transmission_time_Q1.append(Q1)\n",
        "    transmission_time_Q2.append(Q2)\n",
        "    transmission_time_Q3.append(Q3)\n",
        "    transmission_time_Q4.append(Q4)\n",
        "\n",
        "transmission_time = {\n",
        "    'transmission_time_Q1': transmission_time_Q1,\n",
        "    'transmission_time_Q2': transmission_time_Q2,\n",
        "    'transmission_time_Q3': transmission_time_Q3,\n",
        "    'transmission_time_Q4': transmission_time_Q4,\n",
        "}\n",
        "\n",
        "df = pd.DataFrame(transmission_time)\n",
        "print(df.head())"
      ]
    },
    {
      "cell_type": "code",
      "execution_count": 14,
      "metadata": {
        "colab": {
          "base_uri": "https://localhost:8080/"
        },
        "id": "RjBrwM01N_Dn",
        "outputId": "8eebaa67-8dcc-4e73-b9bb-ada0d0aec31e"
      },
      "outputs": [
        {
          "output_type": "stream",
          "name": "stdout",
          "text": [
            "   Num Packets Per Second  Mean Packets Per Second  Std Packets Per Second  \\\n",
            "0              140.138067                 4.315749                1.128739   \n",
            "1               50.984252                 4.611815                1.371935   \n",
            "2              122.232223                 5.488969                1.179699   \n",
            "3              108.233533                 5.995512                1.709479   \n",
            "4              132.142857                 4.698869                1.297546   \n",
            "\n",
            "   Med Packets Per Second  \n",
            "0                    4.09  \n",
            "1                    4.80  \n",
            "2                    5.15  \n",
            "3                    5.57  \n",
            "4                    4.31  \n"
          ]
        }
      ],
      "source": [
        "import statistics\n",
        "\n",
        "for i in range(len(X1)):\n",
        "    num_packets = len(X1[i]) / X1[i][-1]\n",
        "    mean_packets = statistics.mean(X1[i])\n",
        "    std_packets = statistics.stdev(X1[i])\n",
        "    med_packets = statistics.median(X1[i])\n",
        "\n",
        "    num_packets_per_second.append(num_packets)\n",
        "    mean_packets_per_second.append(mean_packets)\n",
        "    std_packets_per_second.append(std_packets)\n",
        "    med_packets_per_second.append(med_packets)\n",
        "\n",
        "data_per_second = {\n",
        "    'Num Packets Per Second': num_packets_per_second,\n",
        "    'Mean Packets Per Second': mean_packets_per_second,\n",
        "    'Std Packets Per Second': std_packets_per_second,\n",
        "    'Med Packets Per Second': med_packets_per_second,\n",
        "}\n",
        "\n",
        "df = pd.DataFrame(data_per_second)\n",
        "print(df.head())"
      ]
    },
    {
      "cell_type": "code",
      "execution_count": 15,
      "metadata": {
        "colab": {
          "base_uri": "https://localhost:8080/"
        },
        "id": "kH3HLNU-q5v5",
        "outputId": "4ad80e72-dd78-44c4-8357-d6e2f1e82977"
      },
      "outputs": [
        {
          "output_type": "stream",
          "name": "stdout",
          "text": [
            "   num_total_packets  sum_packets  num_incoming_packets  \\\n",
            "0               1421       727552                  1300   \n",
            "1                518       265216                   438   \n",
            "2               1358       695296                  1240   \n",
            "3               1446       740352                  1324   \n",
            "4               1406       719872                  1291   \n",
            "\n",
            "   frac_incoming_packets  num_outgoing_packets  frac_outgoing_packets  \\\n",
            "0               0.914849                   121               0.085151   \n",
            "1               0.845560                    80               0.154440   \n",
            "2               0.913108                   118               0.086892   \n",
            "3               0.915629                   122               0.084371   \n",
            "4               0.918208                   115               0.081792   \n",
            "\n",
            "   average_outgoing_ordering  std_dev_outgoing_ordering  \\\n",
            "0                 773.322314                 515.483953   \n",
            "1                 226.162500                 139.231951   \n",
            "2                 786.110169                 472.735508   \n",
            "3                 820.139344                 513.916038   \n",
            "4                 789.608696                 503.993490   \n",
            "\n",
            "   average_incoming_ordering  std_dev_incoming_ordering  mean_of_the_sequence  \\\n",
            "0                 704.106154                 398.486335              2.630435   \n",
            "1                 264.406393                 150.591146              3.809524   \n",
            "2                 668.259677                 381.878642              2.744186   \n",
            "3                 713.503021                 406.205288              2.595745   \n",
            "4                 694.740511                 395.028889              2.500000   \n",
            "\n",
            "   alternative_packets_per_second_sum  \n",
            "0                        25281.847992  \n",
            "1                        34200.937813  \n",
            "2                       107531.177098  \n",
            "3                        23241.614790  \n",
            "4                        55080.330639  \n"
          ]
        }
      ],
      "source": [
        "data = {'num_total_packets': num_total_packets,\n",
        "        'sum_packets': sum_packets,\n",
        "        'num_incoming_packets': num_incoming_packets,\n",
        "        'frac_incoming_packets': frac_incoming_packets,\n",
        "        'num_outgoing_packets': num_outgoing_packets,\n",
        "        'frac_outgoing_packets': frac_outgoing_packets,\n",
        "        'average_outgoing_ordering': average_outgoing_ordering,\n",
        "        'std_dev_outgoing_ordering': std_dev_outgoing_ordering,\n",
        "        'average_incoming_ordering': average_incoming_ordering,\n",
        "        'std_dev_incoming_ordering': std_dev_incoming_ordering,\n",
        "        'mean_of_the_sequence': mean_of_the_sequence,\n",
        "        'alternative_packets_per_second_sum': alternative_packets_per_second_sum}\n",
        "df1 = pd.DataFrame(data)\n",
        "\n",
        "print(df1.head())"
      ]
    },
    {
      "cell_type": "code",
      "execution_count": 16,
      "metadata": {
        "colab": {
          "base_uri": "https://localhost:8080/"
        },
        "id": "JS-3mqyDvSMK",
        "outputId": "8c370e45-8035-446c-bb47-830e2ab7d9ed"
      },
      "outputs": [
        {
          "output_type": "stream",
          "name": "stdout",
          "text": [
            "   label\n",
            "0      0\n",
            "1      0\n",
            "2      0\n",
            "3      0\n",
            "4      0\n"
          ]
        }
      ],
      "source": [
        "data = {'label': y}\n",
        "df2 = pd.DataFrame(data)\n",
        "\n",
        "print(df2.head())"
      ]
    },
    {
      "cell_type": "code",
      "execution_count": 17,
      "metadata": {
        "id": "XwdqaM0Luu4i"
      },
      "outputs": [],
      "source": [
        "df1.to_csv('mon_features.csv', index=False)"
      ]
    },
    {
      "cell_type": "code",
      "execution_count": 18,
      "metadata": {
        "id": "RkOIlkh3vPwK"
      },
      "outputs": [],
      "source": [
        "df2.to_csv('mon_labels.csv', index=False)"
      ]
    },
    {
      "cell_type": "code",
      "execution_count": 19,
      "metadata": {
        "colab": {
          "base_uri": "https://localhost:8080/"
        },
        "id": "3ZAvPU71H4Kd",
        "outputId": "82d079a5-f370-4971-ba23-edcb96fcaebd"
      },
      "outputs": [
        {
          "output_type": "stream",
          "name": "stdout",
          "text": [
            "   num_total_packets  sum_packets  num_incoming_packets  \\\n",
            "0               1421       727552                  1300   \n",
            "1                518       265216                   438   \n",
            "2               1358       695296                  1240   \n",
            "3               1446       740352                  1324   \n",
            "4               1406       719872                  1291   \n",
            "\n",
            "   frac_incoming_packets  num_outgoing_packets  frac_outgoing_packets  \\\n",
            "0               0.914849                   121               0.085151   \n",
            "1               0.845560                    80               0.154440   \n",
            "2               0.913108                   118               0.086892   \n",
            "3               0.915629                   122               0.084371   \n",
            "4               0.918208                   115               0.081792   \n",
            "\n",
            "   average_outgoing_ordering  std_dev_outgoing_ordering  \\\n",
            "0                 773.322314                 515.483953   \n",
            "1                 226.162500                 139.231951   \n",
            "2                 786.110169                 472.735508   \n",
            "3                 820.139344                 513.916038   \n",
            "4                 789.608696                 503.993490   \n",
            "\n",
            "   average_incoming_ordering  std_dev_incoming_ordering  ...  \\\n",
            "0                 704.106154                 398.486335  ...   \n",
            "1                 264.406393                 150.591146  ...   \n",
            "2                 668.259677                 381.878642  ...   \n",
            "3                 713.503021                 406.205288  ...   \n",
            "4                 694.740511                 395.028889  ...   \n",
            "\n",
            "   incoming_packets_first30  outgoing_packets_first30  transmission_time_Q1  \\\n",
            "0                        21                         9                  3.88   \n",
            "1                        22                         8                  3.69   \n",
            "2                        23                         7                  5.06   \n",
            "3                        21                         9                  5.32   \n",
            "4                        22                         8                  4.18   \n",
            "\n",
            "   transmission_time_Q2  transmission_time_Q3  transmission_time_Q4  \\\n",
            "0                  4.09                  4.69                 10.14   \n",
            "1                  4.80                  5.28                 10.16   \n",
            "2                  5.15                  5.79                 11.11   \n",
            "3                  5.57                  6.40                 13.36   \n",
            "4                  4.31                  5.14                 10.64   \n",
            "\n",
            "   num_packets_per_second  mean_packets_per_second  std_packets_per_second  \\\n",
            "0              140.138067                 4.315749                1.128739   \n",
            "1               50.984252                 4.611815                1.371935   \n",
            "2              122.232223                 5.488969                1.179699   \n",
            "3              108.233533                 5.995512                1.709479   \n",
            "4              132.142857                 4.698869                1.297546   \n",
            "\n",
            "   med_packets_per_second  \n",
            "0                    4.09  \n",
            "1                    4.80  \n",
            "2                    5.15  \n",
            "3                    5.57  \n",
            "4                    4.31  \n",
            "\n",
            "[5 rows x 22 columns]\n"
          ]
        }
      ],
      "source": [
        "import pandas as pd\n",
        "data_modified = {'num_total_packets': num_total_packets, #1\n",
        "                 'sum_packets': sum_packets, #2\n",
        "                 'num_incoming_packets': num_incoming_packets, #3\n",
        "                 'frac_incoming_packets': frac_incoming_packets, #4\n",
        "                 'num_outgoing_packets': num_outgoing_packets, #5\n",
        "                 'frac_outgoing_packets': frac_outgoing_packets, #6\n",
        "                 'average_outgoing_ordering': average_outgoing_ordering, #7\n",
        "                 'std_dev_outgoing_ordering': std_dev_outgoing_ordering, #8\n",
        "                 'average_incoming_ordering': average_incoming_ordering, #9\n",
        "                 'std_dev_incoming_ordering': std_dev_incoming_ordering, #10\n",
        "                 'mean_of_the_sequence': mean_of_the_sequence, #11\n",
        "                 'alternative_packets_per_second_sum': alternative_packets_per_second_sum, #12\n",
        "                 'incoming_packets_first30': incoming_packets_first30, #13\n",
        "                 'outgoing_packets_first30': outgoing_packets_first30, #14\n",
        "                 'transmission_time_Q1': transmission_time_Q1, #15\n",
        "                 'transmission_time_Q2': transmission_time_Q2, #16\n",
        "                 'transmission_time_Q3': transmission_time_Q3, #17\n",
        "                 'transmission_time_Q4': transmission_time_Q4, #18\n",
        "                 'num_packets_per_second': num_packets_per_second, #19\n",
        "                 'mean_packets_per_second': mean_packets_per_second, #20\n",
        "                 'std_packets_per_second': std_packets_per_second, #21\n",
        "                 'med_packets_per_second': med_packets_per_second #22\n",
        "                 }\n",
        "\n",
        "df1_modified = pd.DataFrame(data_modified)\n",
        "\n",
        "print(df1_modified.head())"
      ]
    },
    {
      "cell_type": "code",
      "execution_count": 20,
      "metadata": {
        "id": "8BQtmXxCH4Mg"
      },
      "outputs": [],
      "source": [
        "df1_modified.to_csv('mon_features_modified1.csv', index=False)"
      ]
    },
    {
      "cell_type": "code",
      "execution_count": 22,
      "metadata": {
        "id": "k4RcOC7S0PpF"
      },
      "outputs": [],
      "source": [
        "df1_modified1=pd.read_csv('/content/drive/MyDrive/mon_features_modified1.csv')"
      ]
    },
    {
      "cell_type": "code",
      "execution_count": 23,
      "metadata": {
        "id": "FynDcD0XwlWa",
        "colab": {
          "base_uri": "https://localhost:8080/"
        },
        "outputId": "6ff8635a-90f4-4737-fc90-6fbc4e7ddc65"
      },
      "outputs": [
        {
          "output_type": "stream",
          "name": "stdout",
          "text": [
            "   num_total_packets  sum_packets  num_incoming_packets  \\\n",
            "0               1421       727552                  1300   \n",
            "1                518       265216                   438   \n",
            "2               1358       695296                  1240   \n",
            "3               1446       740352                  1324   \n",
            "4               1406       719872                  1291   \n",
            "\n",
            "   frac_incoming_packets  num_outgoing_packets  frac_outgoing_packets  \\\n",
            "0               0.914849                   121               0.085151   \n",
            "1               0.845560                    80               0.154440   \n",
            "2               0.913108                   118               0.086892   \n",
            "3               0.915629                   122               0.084371   \n",
            "4               0.918208                   115               0.081792   \n",
            "\n",
            "   average_outgoing_ordering  std_dev_outgoing_ordering  \\\n",
            "0                 773.322314                 515.483953   \n",
            "1                 226.162500                 139.231951   \n",
            "2                 786.110169                 472.735508   \n",
            "3                 820.139344                 513.916038   \n",
            "4                 789.608696                 503.993490   \n",
            "\n",
            "   average_incoming_ordering  std_dev_incoming_ordering  ...  \\\n",
            "0                 704.106154                 398.486335  ...   \n",
            "1                 264.406393                 150.591146  ...   \n",
            "2                 668.259677                 381.878642  ...   \n",
            "3                 713.503021                 406.205288  ...   \n",
            "4                 694.740511                 395.028889  ...   \n",
            "\n",
            "   incoming_packets_first30  outgoing_packets_first30  transmission_time_Q1  \\\n",
            "0                        21                         9                  3.88   \n",
            "1                        22                         8                  3.69   \n",
            "2                        23                         7                  5.06   \n",
            "3                        21                         9                  5.32   \n",
            "4                        22                         8                  4.18   \n",
            "\n",
            "   transmission_time_Q2  transmission_time_Q3  transmission_time_Q4  \\\n",
            "0                  4.09                  4.69                 10.14   \n",
            "1                  4.80                  5.28                 10.16   \n",
            "2                  5.15                  5.79                 11.11   \n",
            "3                  5.57                  6.40                 13.36   \n",
            "4                  4.31                  5.14                 10.64   \n",
            "\n",
            "   num_packets_per_second  mean_packets_per_second  std_packets_per_second  \\\n",
            "0              140.138067                 4.315749                1.128739   \n",
            "1               50.984252                 4.611815                1.371935   \n",
            "2              122.232223                 5.488969                1.179699   \n",
            "3              108.233533                 5.995512                1.709479   \n",
            "4              132.142857                 4.698869                1.297546   \n",
            "\n",
            "   med_packets_per_second  \n",
            "0                    4.09  \n",
            "1                    4.80  \n",
            "2                    5.15  \n",
            "3                    5.57  \n",
            "4                    4.31  \n",
            "\n",
            "[5 rows x 22 columns]\n"
          ]
        }
      ],
      "source": [
        "import pandas as pd\n",
        "data_modified2 = {'incoming_max_inter_arrival_times': incoming_max_inter_arrival_times, #23\n",
        "                  'incoming_mean_inter_arrival_times': incoming_mean_inter_arrival_times, #24\n",
        "                  'incoming_std_inter_arrival_times': incoming_std_inter_arrival_times, #25\n",
        "                  'incoming_third_quartileinter_arrival_times': incoming_third_quartileinter_arrival_times, #26\n",
        "                  'outgoing_max_inter_arrival_times': outgoing_max_inter_arrival_times, #27\n",
        "                  'outgoing_mean_inter_arrival_times': outgoing_mean_inter_arrival_times, #28\n",
        "                  'outgoing_std_inter_arrival_times': outgoing_std_inter_arrival_times, #29\n",
        "                  'outgoing_third_quartileinter_arrival_times': outgoing_third_quartileinter_arrival_times #30\n",
        "                 }\n",
        "df1_modified2 = pd.DataFrame(data_modified2)\n",
        "\n",
        "print(df1_modified.head())"
      ]
    },
    {
      "cell_type": "markdown",
      "metadata": {
        "id": "mwmDEpIIu1zN"
      },
      "source": []
    },
    {
      "cell_type": "markdown",
      "metadata": {
        "id": "yz5mat0w2dJy"
      },
      "source": [
        "2. unmon_standard10.pkl > array code"
      ]
    },
    {
      "cell_type": "code",
      "execution_count": 25,
      "metadata": {
        "colab": {
          "base_uri": "https://localhost:8080/"
        },
        "id": "IWfcIOZovSMl",
        "outputId": "eb48943f-0413-42df-84d0-7b73774a63b4"
      },
      "outputs": [
        {
          "output_type": "stream",
          "name": "stdout",
          "text": [
            "Loading datafile...\n",
            "Total samples: 10000\n",
            "10000\n"
          ]
        }
      ],
      "source": [
        "import pickle\n",
        "\n",
        "TOTAL_URLS = 10000  # total number in the dataset\n",
        "\n",
        "# Load 10,000 unmon pickle file\n",
        "print(\"Loading datafile...\")\n",
        "with open('/content/drive/MyDrive/unmon_standard.pkl', 'rb') as f:  # Path to unmon_standard.pkl in Colab\n",
        "    x = pickle.load(f)\n",
        "\n",
        "size = len(x)\n",
        "print(f'Total samples: {size}')\n",
        "\n",
        "X1 = [] # Array to store instances (timestamps) - 10,000 instances, e.g., [[0.0, 0.5, 3.4, ...], [0.0, 4.5, ...], [0.0, 1.5, ...], ... [... ,45.8]]\n",
        "X2 = [] # Array to store instances (direction*size) - size information\n",
        "\n",
        "for i in range(TOTAL_URLS):\n",
        "    size_seq = []\n",
        "    time_seq = []\n",
        "    for c in x[i]:\n",
        "        dr = 1 if c > 0 else -1\n",
        "        time_seq.append(abs(c))\n",
        "        size_seq.append(dr * 512) # In the pickle file, there is no size information, so the conversion code is set to multiply by 512 uniformly.\n",
        "    X1.append(time_seq)\n",
        "    X2.append(size_seq)\n",
        "\n",
        "print(len(X1)) # Print the length of X1"
      ]
    },
    {
      "cell_type": "code",
      "execution_count": 26,
      "metadata": {
        "id": "b7fxyTK_81q4"
      },
      "outputs": [],
      "source": [
        "# Features\n",
        "num_total_packets = [] # feature 1\n",
        "sum_packets = [] # feature 2\n",
        "num_incoming_packets = [] # feature 3\n",
        "frac_incoming_packets = [] # feature 4\n",
        "num_outgoing_packets=[] # feature 5\n",
        "frac_outgoing_packets=[] # feature 6\n",
        "average_incoming_ordering=[] # feature 7\n",
        "std_dev_incoming_ordering=[] # feature 8\n",
        "average_outgoing_ordering=[] # feature 9\n",
        "std_dev_outgoing_ordering=[] # feature 10\n",
        "alternative_packets_per_second_sum = [] # feature 11\n",
        "mean_of_the_sequence=[] # feature 12"
      ]
    },
    {
      "cell_type": "code",
      "execution_count": 27,
      "metadata": {
        "id": "uwTLAwi-9BSr"
      },
      "outputs": [],
      "source": [
        "import numpy as np\n",
        "\n",
        "for size_seq in X2:\n",
        "    # 1. Total number of pacekts\n",
        "    total = len(size_seq)\n",
        "    num_total_packets.append(total)\n",
        "\n",
        "    # 2. Sum of packets (absolute value gives the size regardless of direction)\n",
        "    sum_pckts = sum(abs(size) for size in size_seq)\n",
        "    sum_packets.append(sum_pckts)\n",
        "\n",
        "    # 3. Number of incoming packets\n",
        "    incoming = sum(1 for size in size_seq if size < 0)\n",
        "    num_incoming_packets.append(incoming)\n",
        "\n",
        "    # 4. Number of incoming packets as a fraction of the total number of packets\n",
        "    frac_incoming = incoming / total if total > 0 else 0\n",
        "    frac_incoming_packets.append(frac_incoming)\n",
        "\n",
        "    # 5. Number of outgoing packets\n",
        "    outgoing = sum(1 for size in size_seq if size > 0)\n",
        "    num_outgoing_packets.append(outgoing)\n",
        "\n",
        "    # 6. Number of outgoing packets as a fraction of the total number of packets\n",
        "    frac_outgoing = outgoing / total if total > 0 else 0\n",
        "    frac_outgoing_packets.append(frac_outgoing)\n",
        "\n",
        "    # 7. Average of the incoming packet ordering list\n",
        "    incoming_ordering_list = []\n",
        "    for idx, size in enumerate(size_seq):\n",
        "        if size < 0:\n",
        "            incoming_ordering_list.append(idx)\n",
        "\n",
        "    average_incoming_ordering.append(np.mean(incoming_ordering_list))\n",
        "\n",
        "    # 8. Standard deviation of the incoming packet ordering list\n",
        "    std_dev_incoming_ordering.append(np.std(incoming_ordering_list))\n",
        "\n",
        "    # 9. Average of the outgoing packet ordering list\n",
        "    outgoing_ordering_list = []\n",
        "    for idx, size in enumerate(size_seq):\n",
        "        if size > 0:\n",
        "            outgoing_ordering_list.append(idx)\n",
        "    average_outgoing_ordering.append(np.mean(outgoing_ordering_list))\n",
        "\n",
        "    # 10. Standard deviation of the outgoing packet ordering list\n",
        "    std_dev_outgoing_ordering.append(np.std(outgoing_ordering_list))\n",
        "\n",
        "    # 11. mean of the sequence\n",
        "    chunks = [size_seq[i:i + 20] for i in range(0, len(size_seq), 20)]\n",
        "    outgoing_counts = [sum(1 for elem in chunk if elem > 0) for chunk in chunks]\n",
        "    filtered_array = [element for element in outgoing_counts if element != 0]\n",
        "    average_outgoing_counts = sum(filtered_array) / len(filtered_array)\n",
        "    mean_of_the_sequence.append(average_outgoing_counts)"
      ]
    },
    {
      "cell_type": "code",
      "execution_count": 28,
      "metadata": {
        "id": "9f6sa72P9GFe"
      },
      "outputs": [],
      "source": [
        "# 12. Sum of alternative number packets per second\n",
        "alternative_packets_per_second_sum = []\n",
        "\n",
        "for time_seq, size_seq in zip(X1, X2):\n",
        "    packets_per_subset = len(size_seq) // 20 # 20 even-sized subsets\n",
        "    subset_sums = []\n",
        "\n",
        "    for i in range(0, len(size_seq), packets_per_subset):\n",
        "        start_index = i\n",
        "        end_index = min(i + packets_per_subset, len(size_seq))\n",
        "\n",
        "        time_interval = time_seq[end_index - 1] - time_seq[start_index]\n",
        "        time_interval = max(time_interval, 0.001) # Ensure that the time interval does not become zero.\n",
        "\n",
        "        packets_per_second = (end_index - start_index) / time_interval\n",
        "        subset_sums.append(packets_per_second)\n",
        "\n",
        "        if (end_index == packets_per_subset*20):\n",
        "            break\n",
        "\n",
        "    alternative_packets_per_second_sum.append(sum(subset_sums))"
      ]
    },
    {
      "cell_type": "code",
      "execution_count": 29,
      "metadata": {
        "colab": {
          "base_uri": "https://localhost:8080/"
        },
        "id": "1rI6YCuJ9cSQ",
        "outputId": "c9039b37-fdd5-464b-f416-e8df4388c2a8"
      },
      "outputs": [
        {
          "output_type": "stream",
          "name": "stdout",
          "text": [
            "   feature 1  feature 2  feature 3  feature 4  feature 5  feature 6\n",
            "0        130      66560        101   0.776923         29   0.223077\n",
            "1       9927    5082624       9189   0.925657        738   0.074343\n",
            "2        359     183808        285   0.793872         74   0.206128\n",
            "3       9948    5093376       9407   0.945617        541   0.054383\n",
            "4       2508    1284096       2215   0.883174        293   0.116826\n"
          ]
        }
      ],
      "source": [
        "data = {'feature 1': num_total_packets,\n",
        "        'feature 2': sum_packets,\n",
        "        'feature 3': num_incoming_packets,\n",
        "        'feature 4': frac_incoming_packets,\n",
        "        'feature 5': num_outgoing_packets,\n",
        "        'feature 6': frac_outgoing_packets}\n",
        "df1 = pd.DataFrame(data)\n",
        "\n",
        "print(df1.head())"
      ]
    },
    {
      "cell_type": "code",
      "execution_count": 30,
      "metadata": {
        "colab": {
          "base_uri": "https://localhost:8080/"
        },
        "id": "FZIIbew09cUC",
        "outputId": "78c0ea06-b4f5-43db-cfdd-23488107dab1"
      },
      "outputs": [
        {
          "output_type": "stream",
          "name": "stdout",
          "text": [
            "     feature 7    feature 8    feature 9   feature 10  feature 11  \\\n",
            "0    36.758621    27.053784    72.465347    36.304696    4.833333   \n",
            "1  3845.246612  2885.461055  5052.770595  2845.096286    2.435644   \n",
            "2   155.905405   111.145044   184.996491   100.730751    4.352941   \n",
            "3  4667.994455  3120.454082  4991.069735  2855.784563    1.918440   \n",
            "4  1227.269625   778.715376  1256.969752   716.374241    3.329545   \n",
            "\n",
            "     feature 12  \n",
            "0  25309.451476  \n",
            "1  68180.017464  \n",
            "2   1518.989991  \n",
            "3  62061.265205  \n",
            "4  36068.101946  \n"
          ]
        }
      ],
      "source": [
        "data = {'feature 7': average_outgoing_ordering,\n",
        "        'feature 8': std_dev_outgoing_ordering,\n",
        "        'feature 9': average_incoming_ordering,\n",
        "        'feature 10': std_dev_incoming_ordering,\n",
        "        'feature 11': mean_of_the_sequence,\n",
        "        'feature 12': alternative_packets_per_second_sum}\n",
        "df2 = pd.DataFrame(data)\n",
        "\n",
        "print(df2.head())"
      ]
    },
    {
      "cell_type": "code",
      "execution_count": 31,
      "metadata": {
        "id": "zBTCL3QLJIma"
      },
      "outputs": [],
      "source": [
        "incoming_packets_first30 =[] # feature 13\n",
        "outgoing_packets_first30 = [] # feature 14\n",
        "transmission_time_Q1 = [] # feature 15\n",
        "transmission_time_Q2 = [] # feature 16\n",
        "transmission_time_Q3 = [] # feature 17\n",
        "transmission_time_Q4 = [] # feature 18"
      ]
    },
    {
      "cell_type": "code",
      "execution_count": 32,
      "metadata": {
        "id": "ih6ONoHrLkgS"
      },
      "outputs": [],
      "source": [
        "num_packets_per_second = [] # feature 19\n",
        "mean_packets_per_second = [] # feature 20\n",
        "std_packets_per_second = [] # feature 21\n",
        "min_packets_per_second = [] # feature 22\n",
        "max_packets_per_second = [] # feature 23\n",
        "med_packets_per_second = [] # feature 24"
      ]
    },
    {
      "cell_type": "code",
      "execution_count": 33,
      "metadata": {
        "colab": {
          "base_uri": "https://localhost:8080/"
        },
        "id": "_uZNnP63JP0y",
        "outputId": "16d2405b-4118-4560-e9e5-59bc75738ad7"
      },
      "outputs": [
        {
          "output_type": "stream",
          "name": "stdout",
          "text": [
            "   incoming_packets_first30\n",
            "0                        13\n",
            "1                        12\n",
            "2                        13\n",
            "3                         9\n",
            "4                         3\n"
          ]
        }
      ],
      "source": [
        "for size_seq in X2:\n",
        "    incoming_packets = sum(1 for size in size_seq[:30] if size < 0)\n",
        "    incoming_packets_first30.append(incoming_packets)\n",
        "\n",
        "    outgoing_packets = sum(1 for size in size_seq[:30] if size > 0)\n",
        "    outgoing_packets_first30.append(outgoing_packets)\n",
        "\n",
        "\n",
        "data = {'incoming_packets_first30': incoming_packets_first30,\n",
        "        'incoming_packets_first30': outgoing_packets_first30}\n",
        "df1 = pd.DataFrame(data)\n",
        "\n",
        "print(df1.head())"
      ]
    },
    {
      "cell_type": "code",
      "execution_count": 34,
      "metadata": {
        "colab": {
          "base_uri": "https://localhost:8080/"
        },
        "id": "eFMbO-0LJQTL",
        "outputId": "2ef7953f-2e6e-4823-b13f-78f13622e5fb"
      },
      "outputs": [
        {
          "output_type": "stream",
          "name": "stdout",
          "text": [
            "   transmission_time_Q1  transmission_time_Q2  transmission_time_Q3  \\\n",
            "0                 2.920                  4.18                  4.84   \n",
            "1                 9.590                 10.23                 11.02   \n",
            "2                 7.525                  8.68                 12.30   \n",
            "3                 6.840                  7.64                  8.52   \n",
            "4                 7.400                  8.08                 13.09   \n",
            "\n",
            "   transmission_time_Q4  \n",
            "0                  5.56  \n",
            "1                 11.88  \n",
            "2                 17.81  \n",
            "3                  9.17  \n",
            "4                 53.59  \n"
          ]
        }
      ],
      "source": [
        "for i in range(len(X1)):\n",
        "    Q1 = np.percentile(X1[i], 25)\n",
        "    Q2 = np.percentile(X1[i], 50)\n",
        "    Q3 = np.percentile(X1[i], 75)\n",
        "    Q4 = np.percentile(X1[i], 100)\n",
        "\n",
        "    transmission_time_Q1.append(Q1)\n",
        "    transmission_time_Q2.append(Q2)\n",
        "    transmission_time_Q3.append(Q3)\n",
        "    transmission_time_Q4.append(Q4)\n",
        "\n",
        "data = {'transmission_time_Q1': transmission_time_Q1,\n",
        "        'transmission_time_Q2': transmission_time_Q2,\n",
        "        'transmission_time_Q3': transmission_time_Q3,\n",
        "        'transmission_time_Q4': transmission_time_Q4,}\n",
        "df1 = pd.DataFrame(data)\n",
        "\n",
        "print(df1.head())"
      ]
    },
    {
      "cell_type": "code",
      "execution_count": 35,
      "metadata": {
        "colab": {
          "base_uri": "https://localhost:8080/"
        },
        "id": "JqiV4cr-L54A",
        "outputId": "63a0640c-d380-4042-b9e9-a74d0b3fc16f"
      },
      "outputs": [
        {
          "output_type": "stream",
          "name": "stdout",
          "text": [
            "   Num Packets Per Second  Mean Packets Per Second  Std Packets Per Second  \\\n",
            "0               23.381295                 3.799462                1.309629   \n",
            "1              835.606061                 9.884457                1.613041   \n",
            "2               20.157215                 9.328440                3.082876   \n",
            "3             1084.841876                 7.584566                1.036050   \n",
            "4               46.799776                10.352085                5.565770   \n",
            "\n",
            "   Med Packets Per Second  \n",
            "0                    4.18  \n",
            "1                   10.23  \n",
            "2                    8.68  \n",
            "3                    7.64  \n",
            "4                    8.08  \n"
          ]
        }
      ],
      "source": [
        "import statistics\n",
        "\n",
        "for i in range(len(X1)):\n",
        "    num_packets = len(X1[i]) / X1[i][-1]\n",
        "    mean_packets = statistics.mean(X1[i])\n",
        "    std_packets = statistics.stdev(X1[i])\n",
        "    med_packets = statistics.median(X1[i])\n",
        "\n",
        "    num_packets_per_second.append(num_packets)\n",
        "    mean_packets_per_second.append(mean_packets)\n",
        "    std_packets_per_second.append(std_packets)\n",
        "    med_packets_per_second.append(med_packets)\n",
        "\n",
        "data = {'Num Packets Per Second': num_packets_per_second,\n",
        "        'Mean Packets Per Second': mean_packets_per_second,\n",
        "        'Std Packets Per Second': std_packets_per_second,\n",
        "        'Med Packets Per Second': med_packets_per_second,}\n",
        "df1 = pd.DataFrame(data)\n",
        "\n",
        "print(df1.head())"
      ]
    },
    {
      "cell_type": "code",
      "execution_count": 36,
      "metadata": {
        "colab": {
          "base_uri": "https://localhost:8080/"
        },
        "id": "_XVm_UAN9dmd",
        "outputId": "459ac0a0-44d2-448b-c0d8-a49babe5745e"
      },
      "outputs": [
        {
          "output_type": "stream",
          "name": "stdout",
          "text": [
            "   num_total_packets  sum_packets  num_incoming_packets  \\\n",
            "0                130        66560                   101   \n",
            "1               9927      5082624                  9189   \n",
            "2                359       183808                   285   \n",
            "3               9948      5093376                  9407   \n",
            "4               2508      1284096                  2215   \n",
            "\n",
            "   frac_incoming_packets  num_outgoing_packets  frac_outgoing_packets  \\\n",
            "0               0.776923                    29               0.223077   \n",
            "1               0.925657                   738               0.074343   \n",
            "2               0.793872                    74               0.206128   \n",
            "3               0.945617                   541               0.054383   \n",
            "4               0.883174                   293               0.116826   \n",
            "\n",
            "   average_outgoing_ordering  std_dev_outgoing_ordering  \\\n",
            "0                  36.758621                  27.053784   \n",
            "1                3845.246612                2885.461055   \n",
            "2                 155.905405                 111.145044   \n",
            "3                4667.994455                3120.454082   \n",
            "4                1227.269625                 778.715376   \n",
            "\n",
            "   average_incoming_ordering  std_dev_incoming_ordering  mean_of_the_sequence  \\\n",
            "0                  72.465347                  36.304696              4.833333   \n",
            "1                5052.770595                2845.096286              2.435644   \n",
            "2                 184.996491                 100.730751              4.352941   \n",
            "3                4991.069735                2855.784563              1.918440   \n",
            "4                1256.969752                 716.374241              3.329545   \n",
            "\n",
            "   alternative_packets_per_second_sum  \n",
            "0                        25309.451476  \n",
            "1                        68180.017464  \n",
            "2                         1518.989991  \n",
            "3                        62061.265205  \n",
            "4                        36068.101946  \n"
          ]
        }
      ],
      "source": [
        "import pandas as pd\n",
        "data = {'num_total_packets': num_total_packets,\n",
        "        'sum_packets': sum_packets,\n",
        "        'num_incoming_packets': num_incoming_packets,\n",
        "        'frac_incoming_packets': frac_incoming_packets,\n",
        "        'num_outgoing_packets': num_outgoing_packets,\n",
        "        'frac_outgoing_packets': frac_outgoing_packets,\n",
        "        'average_outgoing_ordering': average_outgoing_ordering,\n",
        "        'std_dev_outgoing_ordering': std_dev_outgoing_ordering,\n",
        "        'average_incoming_ordering': average_incoming_ordering,\n",
        "        'std_dev_incoming_ordering': std_dev_incoming_ordering,\n",
        "        'mean_of_the_sequence': mean_of_the_sequence,\n",
        "        'alternative_packets_per_second_sum': alternative_packets_per_second_sum}\n",
        "df1 = pd.DataFrame(data)\n",
        "\n",
        "print(df1.head())"
      ]
    },
    {
      "cell_type": "code",
      "execution_count": 37,
      "metadata": {
        "colab": {
          "base_uri": "https://localhost:8080/"
        },
        "id": "8puMiprM9fhe",
        "outputId": "4045dd48-5336-49a2-c936-e99962c85b2e"
      },
      "outputs": [
        {
          "output_type": "stream",
          "name": "stdout",
          "text": [
            "   label\n",
            "0     -1\n",
            "1     -1\n",
            "2     -1\n",
            "3     -1\n",
            "4     -1\n"
          ]
        }
      ],
      "source": [
        "import pandas as pd\n",
        "\n",
        "y = [-1] * 10000\n",
        "data = {'label': y}\n",
        "df2 = pd.DataFrame(data)\n",
        "\n",
        "print(df2.head())"
      ]
    },
    {
      "cell_type": "code",
      "execution_count": 38,
      "metadata": {
        "id": "3PZX9mgH9gNU"
      },
      "outputs": [],
      "source": [
        "df1.to_csv('unmon_features.csv', index=False)"
      ]
    },
    {
      "cell_type": "code",
      "execution_count": 39,
      "metadata": {
        "id": "JTcAtmZ69huk"
      },
      "outputs": [],
      "source": [
        "df2.to_csv('unmon_labels.csv', index=False)"
      ]
    },
    {
      "cell_type": "code",
      "execution_count": 40,
      "metadata": {
        "colab": {
          "base_uri": "https://localhost:8080/"
        },
        "id": "mmUYM8nqJm4S",
        "outputId": "59ec19dd-1c2c-46af-dbb9-5a36b7e480f5"
      },
      "outputs": [
        {
          "output_type": "stream",
          "name": "stdout",
          "text": [
            "   num_total_packets  sum_packets  num_incoming_packets  \\\n",
            "0                130        66560                   101   \n",
            "1               9927      5082624                  9189   \n",
            "2                359       183808                   285   \n",
            "3               9948      5093376                  9407   \n",
            "4               2508      1284096                  2215   \n",
            "\n",
            "   frac_incoming_packets  num_outgoing_packets  frac_outgoing_packets  \\\n",
            "0               0.776923                    29               0.223077   \n",
            "1               0.925657                   738               0.074343   \n",
            "2               0.793872                    74               0.206128   \n",
            "3               0.945617                   541               0.054383   \n",
            "4               0.883174                   293               0.116826   \n",
            "\n",
            "   average_outgoing_ordering  std_dev_outgoing_ordering  \\\n",
            "0                  36.758621                  27.053784   \n",
            "1                3845.246612                2885.461055   \n",
            "2                 155.905405                 111.145044   \n",
            "3                4667.994455                3120.454082   \n",
            "4                1227.269625                 778.715376   \n",
            "\n",
            "   average_incoming_ordering  std_dev_incoming_ordering  ...  \\\n",
            "0                  72.465347                  36.304696  ...   \n",
            "1                5052.770595                2845.096286  ...   \n",
            "2                 184.996491                 100.730751  ...   \n",
            "3                4991.069735                2855.784563  ...   \n",
            "4                1256.969752                 716.374241  ...   \n",
            "\n",
            "   incoming_packets_first30  outgoing_packets_first30  transmission_time_Q1  \\\n",
            "0                        17                        13                 2.920   \n",
            "1                        18                        12                 9.590   \n",
            "2                        17                        13                 7.525   \n",
            "3                        21                         9                 6.840   \n",
            "4                        27                         3                 7.400   \n",
            "\n",
            "   transmission_time_Q2  transmission_time_Q3  transmission_time_Q4  \\\n",
            "0                  4.18                  4.84                  5.56   \n",
            "1                 10.23                 11.02                 11.88   \n",
            "2                  8.68                 12.30                 17.81   \n",
            "3                  7.64                  8.52                  9.17   \n",
            "4                  8.08                 13.09                 53.59   \n",
            "\n",
            "   num_packets_per_second  mean_packets_per_second  std_packets_per_second  \\\n",
            "0               23.381295                 3.799462                1.309629   \n",
            "1              835.606061                 9.884457                1.613041   \n",
            "2               20.157215                 9.328440                3.082876   \n",
            "3             1084.841876                 7.584566                1.036050   \n",
            "4               46.799776                10.352085                5.565770   \n",
            "\n",
            "   med_packets_per_second  \n",
            "0                    4.18  \n",
            "1                   10.23  \n",
            "2                    8.68  \n",
            "3                    7.64  \n",
            "4                    8.08  \n",
            "\n",
            "[5 rows x 22 columns]\n"
          ]
        }
      ],
      "source": [
        "import pandas as pd\n",
        "data_modified = {'num_total_packets': num_total_packets, #1\n",
        "                 'sum_packets': sum_packets, #2\n",
        "                 'num_incoming_packets': num_incoming_packets, #3\n",
        "                 'frac_incoming_packets': frac_incoming_packets, #4\n",
        "                 'num_outgoing_packets': num_outgoing_packets, #5\n",
        "                 'frac_outgoing_packets': frac_outgoing_packets, #6\n",
        "                 'average_outgoing_ordering': average_outgoing_ordering, #7\n",
        "                 'std_dev_outgoing_ordering': std_dev_outgoing_ordering, #8\n",
        "                 'average_incoming_ordering': average_incoming_ordering, #9\n",
        "                 'std_dev_incoming_ordering': std_dev_incoming_ordering, #10\n",
        "                 'mean_of_the_sequence': mean_of_the_sequence, #11\n",
        "                 'alternative_packets_per_second_sum': alternative_packets_per_second_sum, #12\n",
        "                 'incoming_packets_first30': incoming_packets_first30, #13\n",
        "                 'outgoing_packets_first30': outgoing_packets_first30, #14\n",
        "                 'transmission_time_Q1': transmission_time_Q1, #15\n",
        "                 'transmission_time_Q2': transmission_time_Q2, #16\n",
        "                 'transmission_time_Q3': transmission_time_Q3, #17\n",
        "                 'transmission_time_Q4': transmission_time_Q4, #18\n",
        "                 'num_packets_per_second': num_packets_per_second, #19\n",
        "                 'mean_packets_per_second': mean_packets_per_second, #20\n",
        "                 'std_packets_per_second': std_packets_per_second, #21\n",
        "                 'med_packets_per_second': med_packets_per_second #22\n",
        "                 }\n",
        "df1_modified = pd.DataFrame(data_modified)\n",
        "\n",
        "print(df1_modified.head())"
      ]
    },
    {
      "cell_type": "code",
      "execution_count": null,
      "metadata": {
        "id": "D_vnzhl-JtsB"
      },
      "outputs": [],
      "source": [
        "df1_modified.to_csv('unmon_features_modified.csv', index=False)"
      ]
    }
  ],
  "metadata": {
    "accelerator": "GPU",
    "colab": {
      "provenance": []
    },
    "kernelspec": {
      "display_name": "Python 3",
      "name": "python3"
    },
    "language_info": {
      "name": "python"
    }
  },
  "nbformat": 4,
  "nbformat_minor": 0
}